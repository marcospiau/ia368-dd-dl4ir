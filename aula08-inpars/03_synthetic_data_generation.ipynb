{
  "nbformat": 4,
  "nbformat_minor": 0,
  "metadata": {
    "colab": {
      "provenance": [],
      "authorship_tag": "ABX9TyMsokSTxDjjoivLixliHxA/",
      "include_colab_link": true
    },
    "kernelspec": {
      "name": "python3",
      "display_name": "Python 3"
    },
    "language_info": {
      "name": "python"
    },
    "accelerator": "TPU",
    "gpuClass": "standard"
  },
  "cells": [
    {
      "cell_type": "markdown",
      "metadata": {
        "id": "view-in-github",
        "colab_type": "text"
      },
      "source": [
        "<a href=\"https://colab.research.google.com/github/marcospiau/ia368-dd-dl4ir/blob/main/aula08-inpars/03_synthetic_data_generation.ipynb\" target=\"_parent\"><img src=\"https://colab.research.google.com/assets/colab-badge.svg\" alt=\"Open In Colab\"/></a>"
      ]
    },
    {
      "cell_type": "markdown",
      "source": [
        "# Hardware info"
      ],
      "metadata": {
        "id": "cheE4hS6fbzJ"
      }
    },
    {
      "cell_type": "code",
      "source": [
        "!echo *********\n",
        "!echo lspu is \"$(lscpu)\"\n",
        "# !echo *********\n",
        "!echo free -mh is \"$(free -mh)\"\n",
        "# !echo *********\n",
        "!echo TPU_NAME is $TPU_NAME"
      ],
      "metadata": {
        "colab": {
          "base_uri": "https://localhost:8080/"
        },
        "id": "OfQLZqJrfY8F",
        "outputId": "72a063f2-58bb-4a9b-c21a-910077dd8c31"
      },
      "execution_count": 1,
      "outputs": [
        {
          "output_type": "stream",
          "name": "stdout",
          "text": [
            "sample_data\n",
            "lspu is Architecture:                    x86_64\n",
            "CPU op-mode(s):                  32-bit, 64-bit\n",
            "Byte Order:                      Little Endian\n",
            "Address sizes:                   46 bits physical, 48 bits virtual\n",
            "CPU(s):                          2\n",
            "On-line CPU(s) list:             0,1\n",
            "Thread(s) per core:              2\n",
            "Core(s) per socket:              1\n",
            "Socket(s):                       1\n",
            "NUMA node(s):                    1\n",
            "Vendor ID:                       GenuineIntel\n",
            "CPU family:                      6\n",
            "Model:                           79\n",
            "Model name:                      Intel(R) Xeon(R) CPU @ 2.20GHz\n",
            "Stepping:                        0\n",
            "CPU MHz:                         2199.998\n",
            "BogoMIPS:                        4399.99\n",
            "Hypervisor vendor:               KVM\n",
            "Virtualization type:             full\n",
            "L1d cache:                       32 KiB\n",
            "L1i cache:                       32 KiB\n",
            "L2 cache:                        256 KiB\n",
            "L3 cache:                        55 MiB\n",
            "NUMA node0 CPU(s):               0,1\n",
            "Vulnerability Itlb multihit:     Not affected\n",
            "Vulnerability L1tf:              Mitigation; PTE Inversion\n",
            "Vulnerability Mds:               Vulnerable; SMT Host state unknown\n",
            "Vulnerability Meltdown:          Vulnerable\n",
            "Vulnerability Mmio stale data:   Vulnerable\n",
            "Vulnerability Retbleed:          Vulnerable\n",
            "Vulnerability Spec store bypass: Vulnerable\n",
            "Vulnerability Spectre v1:        Vulnerable: __user pointer sanitization and usercopy barriers only; no swapgs barriers\n",
            "Vulnerability Spectre v2:        Vulnerable, IBPB: disabled, STIBP: disabled, PBRSB-eIBRS: Not affected\n",
            "Vulnerability Srbds:             Not affected\n",
            "Vulnerability Tsx async abort:   Vulnerable\n",
            "Flags:                           fpu vme de pse tsc msr pae mce cx8 apic sep mtrr pge mca cmov pat pse36 clflush mmx fxsr sse sse2 ss ht syscall nx pdpe1gb rdtscp lm constant_tsc rep_good nopl xtopology nonstop_tsc cpuid tsc_known_freq pni pclmulqdq ssse3 fma cx16 pcid sse4_1 sse4_2 x2apic movbe popcnt aes xsave avx f16c rdrand hypervisor lahf_lm abm 3dnowprefetch invpcid_single ssbd ibrs ibpb stibp fsgsbase tsc_adjust bmi1 hle avx2 smep bmi2 erms invpcid rtm rdseed adx smap xsaveopt arat md_clear arch_capabilities\n",
            "free -mh is               total        used        free      shared  buff/cache   available\n",
            "Mem:           12Gi       569Mi       2.9Gi       1.0Mi       9.2Gi        11Gi\n",
            "Swap:            0B          0B          0B\n",
            "TPU_NAME is grpc://10.110.191.170:8470\n"
          ]
        }
      ]
    },
    {
      "cell_type": "markdown",
      "source": [
        "# Gcloud authentication"
      ],
      "metadata": {
        "id": "MfPgDDUZe1sf"
      }
    },
    {
      "cell_type": "code",
      "source": [
        "import os\n",
        "from google.colab import auth\n",
        "import tensorflow_gcs_config\n",
        "\n",
        "os.environ['USE_AUTH_EPHEM'] = '0'\n",
        "auth.authenticate_user(clear_output=False)"
      ],
      "metadata": {
        "colab": {
          "base_uri": "https://localhost:8080/"
        },
        "id": "CAfAyMRufQfs",
        "outputId": "c5d29257-634a-4e9c-c78d-596b189d2154"
      },
      "execution_count": 2,
      "outputs": [
        {
          "name": "stdout",
          "output_type": "stream",
          "text": [
            "WARNING: auth.authenticate_user() will eventually stop supporting auth for Tensorflow on TPU devices. See auth.authenticate_service_account() instead.\n",
            "Go to the following link in your browser:\n",
            "\n",
            "    https://accounts.google.com/o/oauth2/auth?response_type=code&client_id=32555940559.apps.googleusercontent.com&redirect_uri=https%3A%2F%2Fsdk.cloud.google.com%2Fauthcode.html&scope=openid+https%3A%2F%2Fwww.googleapis.com%2Fauth%2Fuserinfo.email+https%3A%2F%2Fwww.googleapis.com%2Fauth%2Fcloud-platform+https%3A%2F%2Fwww.googleapis.com%2Fauth%2Fappengine.admin+https%3A%2F%2Fwww.googleapis.com%2Fauth%2Fsqlservice.login+https%3A%2F%2Fwww.googleapis.com%2Fauth%2Fcompute+https%3A%2F%2Fwww.googleapis.com%2Fauth%2Faccounts.reauth+https%3A%2F%2Fwww.googleapis.com%2Fauth%2Fdrive&state=C26TSk7ycBfMsQ1zfqNunSHWbSGERb&prompt=consent&access_type=offline&code_challenge=9mvu4sr_PRAmdI3SCmxfrPJI4yaDh-1KzNe4S9_ULGQ&code_challenge_method=S256\n",
            "\n",
            "Enter authorization code: 4/0AbUR2VNWqZUv2Lg7Gi3OlsPxjvwIG9P13kVFVDAFINmH97UXkJVCnNWH37TbQnvhHeAlzQ\n"
          ]
        }
      ]
    },
    {
      "cell_type": "code",
      "source": [
        "!gcloud auth login"
      ],
      "metadata": {
        "colab": {
          "base_uri": "https://localhost:8080/"
        },
        "id": "KmP2ZA94fRTx",
        "outputId": "a66e3858-5392-4341-be53-e5c6c64e0c47"
      },
      "execution_count": 3,
      "outputs": [
        {
          "output_type": "stream",
          "name": "stdout",
          "text": [
            "Go to the following link in your browser:\n",
            "\n",
            "    https://accounts.google.com/o/oauth2/auth?response_type=code&client_id=32555940559.apps.googleusercontent.com&redirect_uri=https%3A%2F%2Fsdk.cloud.google.com%2Fauthcode.html&scope=openid+https%3A%2F%2Fwww.googleapis.com%2Fauth%2Fuserinfo.email+https%3A%2F%2Fwww.googleapis.com%2Fauth%2Fcloud-platform+https%3A%2F%2Fwww.googleapis.com%2Fauth%2Fappengine.admin+https%3A%2F%2Fwww.googleapis.com%2Fauth%2Fsqlservice.login+https%3A%2F%2Fwww.googleapis.com%2Fauth%2Fcompute+https%3A%2F%2Fwww.googleapis.com%2Fauth%2Faccounts.reauth&state=Sud2a6cgipbGdd32y8JGUaQ8ssqwzw&prompt=consent&access_type=offline&code_challenge=aUMBrbWsqTp3ZVtnjGwz2ii7hpjuem7Kx8atwGPlheE&code_challenge_method=S256\n",
            "\n",
            "Enter authorization code: 4/0AbUR2VNpP3ofcXiMVISUik93rAZpD-91s3FFDZaNJLO8Fns9ol-8uLLTwZRBMslcfLo-wg\n",
            "\n",
            "You are now logged in as [m136825@dac.unicamp.br].\n",
            "Your current project is [None].  You can change this setting by running:\n",
            "  $ gcloud config set project PROJECT_ID\n"
          ]
        }
      ]
    },
    {
      "cell_type": "code",
      "source": [
        "!gcloud auth application-default login"
      ],
      "metadata": {
        "colab": {
          "base_uri": "https://localhost:8080/"
        },
        "id": "Kgi4qVOIhFcm",
        "outputId": "91766bba-2e0a-4d36-8dd5-525e1f237119"
      },
      "execution_count": 4,
      "outputs": [
        {
          "output_type": "stream",
          "name": "stdout",
          "text": [
            "\n",
            "The environment variable [GOOGLE_APPLICATION_CREDENTIALS] is set to:\n",
            "  [/content/.adc/adc.json]\n",
            "Credentials will still be generated to the default location:\n",
            "  [/content/.config/application_default_credentials.json]\n",
            "To use these credentials, unset this environment variable before\n",
            "running your application.\n",
            "\n",
            "Do you want to continue (Y/n)?  Y\n",
            "\n",
            "Go to the following link in your browser:\n",
            "\n",
            "    https://accounts.google.com/o/oauth2/auth?response_type=code&client_id=764086051850-6qr4p6gpi6hn506pt8ejuq83di341hur.apps.googleusercontent.com&redirect_uri=https%3A%2F%2Fsdk.cloud.google.com%2Fapplicationdefaultauthcode.html&scope=openid+https%3A%2F%2Fwww.googleapis.com%2Fauth%2Fuserinfo.email+https%3A%2F%2Fwww.googleapis.com%2Fauth%2Fcloud-platform+https%3A%2F%2Fwww.googleapis.com%2Fauth%2Fsqlservice.login+https%3A%2F%2Fwww.googleapis.com%2Fauth%2Faccounts.reauth&state=Ym1Yk5Gmcd2NfCm0K0q2GWIVpxof0W&prompt=consent&access_type=offline&code_challenge=Z_fnU0uE0VL0Uy5mzr4KaEZTPkaGAx3E8sNeCa0G170&code_challenge_method=S256\n",
            "\n",
            "Enter authorization code: 4/0AbUR2VMX9dWtRXEQBmads7PTB8QcwchUXSRDwLT2Im5MCrxvdFCmQ6M_eyVOHbGbfkAR_w\n",
            "\n",
            "Credentials saved to file: [/content/.config/application_default_credentials.json]\n",
            "\n",
            "These credentials will be used by any library that requests Application Default Credentials (ADC).\n",
            "\u001b[1;33mWARNING:\u001b[0m \n",
            "Cannot find a quota project to add to ADC. You might receive a \"quota exceeded\" or \"API not enabled\" error. Run $ gcloud auth application-default set-quota-project to add a quota project.\n"
          ]
        }
      ]
    },
    {
      "cell_type": "code",
      "source": [
        "BUCKET = 'gs://aula08-inpars'\n",
        "os.environ['BUCKET'] = BUCKET\n",
        "!gsutil ls {BUCKET}\n",
        "!gsutil ls $BUCKET"
      ],
      "metadata": {
        "id": "d8VpOSDAf5zx",
        "colab": {
          "base_uri": "https://localhost:8080/"
        },
        "outputId": "2cff63e1-3182-44b0-c5fc-89913ed66260"
      },
      "execution_count": 5,
      "outputs": [
        {
          "output_type": "stream",
          "name": "stdout",
          "text": [
            "gs://aula08-inpars/castorini_baseline/\n",
            "gs://aula08-inpars/teste_score_eval/\n",
            "gs://aula08-inpars/castorini_baseline/\n",
            "gs://aula08-inpars/teste_score_eval/\n"
          ]
        }
      ]
    },
    {
      "cell_type": "markdown",
      "source": [
        "# Installs"
      ],
      "metadata": {
        "id": "pEwmTmfXgQbM"
      }
    },
    {
      "cell_type": "markdown",
      "source": [
        "Anserini, pyserini and anserini-tools:"
      ],
      "metadata": {
        "id": "96w73UHljXLO"
      }
    },
    {
      "cell_type": "code",
      "source": [
        "%%capture\n",
        "!wget -nc https://raw.githubusercontent.com/marcospiau/ia368-dd-dl4ir/main/scripts/install_anserini.sh && chmod +x install_anserini.sh && time ./install_anserini.sh"
      ],
      "metadata": {
        "id": "mUUweyotin5h"
      },
      "execution_count": 6,
      "outputs": []
    },
    {
      "cell_type": "markdown",
      "source": [
        "Pygaggle:"
      ],
      "metadata": {
        "id": "sj8MZQN14zZV"
      }
    },
    {
      "cell_type": "code",
      "source": [
        "!git clone --recursive https://github.com/castorini/pygaggle.git"
      ],
      "metadata": {
        "colab": {
          "base_uri": "https://localhost:8080/"
        },
        "id": "SGoT6gQR43jN",
        "outputId": "8243ae1d-c709-4163-dc38-b214f937d9ca"
      },
      "execution_count": 7,
      "outputs": [
        {
          "output_type": "stream",
          "name": "stdout",
          "text": [
            "Cloning into 'pygaggle'...\n",
            "remote: Enumerating objects: 1562, done.\u001b[K\n",
            "remote: Counting objects: 100% (702/702), done.\u001b[K\n",
            "remote: Compressing objects: 100% (231/231), done.\u001b[K\n",
            "remote: Total 1562 (delta 595), reused 500 (delta 471), pack-reused 860\u001b[K\n",
            "Receiving objects: 100% (1562/1562), 512.80 KiB | 5.63 MiB/s, done.\n",
            "Resolving deltas: 100% (1001/1001), done.\n",
            "Submodule 'tools' (https://github.com/castorini/anserini-tools.git) registered for path 'tools'\n",
            "Cloning into '/content/pygaggle/tools'...\n",
            "remote: Enumerating objects: 788, done.        \n",
            "remote: Counting objects: 100% (545/545), done.        \n",
            "remote: Compressing objects: 100% (467/467), done.        \n",
            "remote: Total 788 (delta 101), reused 514 (delta 77), pack-reused 243        \n",
            "Receiving objects: 100% (788/788), 119.60 MiB | 10.51 MiB/s, done.\n",
            "Resolving deltas: 100% (185/185), done.\n",
            "Submodule path 'tools': checked out '808f48711b5e172da6aec8b1855518c8ea65489f'\n"
          ]
        }
      ]
    },
    {
      "cell_type": "markdown",
      "source": [
        "T5 (from pypi) and remaining stuff:"
      ],
      "metadata": {
        "id": "a2KokViY48Ks"
      }
    },
    {
      "cell_type": "code",
      "source": [
        "%%capture\n",
        "!pip install -q ftfy polars toolz cytoolz transformers datasets dm-tree\n",
        "!pip install -U t5[gcp,cache-tasks]==0.9.3\n",
        "!pip install -U jaxlib\n",
        "!sudo apt install -qq tree htop"
      ],
      "metadata": {
        "id": "E5Ai-JabonLs"
      },
      "execution_count": 8,
      "outputs": []
    },
    {
      "cell_type": "markdown",
      "source": [
        "Open AI stuff:"
      ],
      "metadata": {
        "id": "RT3NtsuxrTfH"
      }
    },
    {
      "cell_type": "code",
      "source": [
        "!pip install -q openai tiktoken"
      ],
      "metadata": {
        "colab": {
          "base_uri": "https://localhost:8080/"
        },
        "id": "-WSpAaUprTBF",
        "outputId": "57e004f3-5e28-49fa-a856-fcb71ccd4eb9"
      },
      "execution_count": 9,
      "outputs": [
        {
          "output_type": "stream",
          "name": "stdout",
          "text": [
            "\u001b[2K     \u001b[90m━━━━━━━━━━━━━━━━━━━━━━━━━━━━━━━━━━━━━━━━\u001b[0m \u001b[32m71.9/71.9 kB\u001b[0m \u001b[31m2.8 MB/s\u001b[0m eta \u001b[36m0:00:00\u001b[0m\n",
            "\u001b[2K     \u001b[90m━━━━━━━━━━━━━━━━━━━━━━━━━━━━━━━━━━━━━━━━\u001b[0m \u001b[32m1.7/1.7 MB\u001b[0m \u001b[31m23.3 MB/s\u001b[0m eta \u001b[36m0:00:00\u001b[0m\n",
            "\u001b[?25h"
          ]
        }
      ]
    },
    {
      "cell_type": "markdown",
      "source": [
        "**Restart before continuing**"
      ],
      "metadata": {
        "id": "f2DqYK6ntGqc"
      }
    },
    {
      "cell_type": "markdown",
      "source": [
        "# Imports"
      ],
      "metadata": {
        "id": "hxipVCI8ovNK"
      }
    },
    {
      "cell_type": "code",
      "source": [
        "import os\n",
        "import pandas as pd\n",
        "import polars as pl\n",
        "import ftfy\n",
        "import datasets\n",
        "import numpy as np\n",
        "import json\n",
        "\n",
        "import toolz\n",
        "import random\n",
        "\n",
        "import functools\n",
        "from tqdm import tqdm\n",
        "from pathlib import Path\n",
        "import pickle\n",
        "from collections import Counter, defaultdict\n",
        "\n",
        "pd.set_option('display.max_rows', 500)\n",
        "pd.set_option('display.max_columns', 500)\n",
        "pd.set_option('display.max_colwidth', 1000)\n",
        "\n",
        "os.environ['POLARS_FMT_STR_LEN']='1000'\n",
        "\n",
        "import matplotlib.pyplot as plt\n",
        "%matplotlib inline\n",
        "%config InlineBackend.figure_format='retina'\n",
        "\n",
        "os.environ['POLARS_FMT_STR_LEN']='1000'"
      ],
      "metadata": {
        "id": "CVtarSeRo9DA"
      },
      "execution_count": 182,
      "outputs": []
    },
    {
      "cell_type": "code",
      "source": [
        "import openai\n",
        "import getpass\n",
        "openai.api_key = getpass.getpass('Type you OPENAI_API_KEY: ')"
      ],
      "metadata": {
        "colab": {
          "base_uri": "https://localhost:8080/"
        },
        "id": "bZFPYvakDqx7",
        "outputId": "71317ebf-af2a-43d0-f09e-587e26f1e1b6"
      },
      "execution_count": 2,
      "outputs": [
        {
          "name": "stdout",
          "output_type": "stream",
          "text": [
            "Type you OPENAI_API_KEY: ··········\n"
          ]
        }
      ]
    },
    {
      "cell_type": "code",
      "source": [
        "# adding a random integer for each random id\n",
        "# seed=12 (row number for my name on google sheets)\n",
        "DEFAULT_RANDOM_SEED = 12"
      ],
      "metadata": {
        "id": "lY3lyYOfcdoU"
      },
      "execution_count": 193,
      "outputs": []
    },
    {
      "cell_type": "markdown",
      "source": [
        "# Data preparation"
      ],
      "metadata": {
        "id": "LQFvkjK6qulw"
      }
    },
    {
      "cell_type": "markdown",
      "source": [
        "## Copying data from GCP\n",
        "\n",
        "We already preprocessed some files on previous notebooks, so we will just copy it locally instead of reprocessing them again."
      ],
      "metadata": {
        "id": "uLlgg6CGqyCi"
      }
    },
    {
      "cell_type": "markdown",
      "source": [
        "rsync data from gcp to local folder:"
      ],
      "metadata": {
        "id": "6qyTDK7lqOmf"
      }
    },
    {
      "cell_type": "code",
      "source": [
        "!mkdir -pv aula08-inpars\n",
        "!gsutil -m rsync -r gs://aula08-inpars/ aula08-inpars/\n",
        "!tree -lht aula08-inpars/"
      ],
      "metadata": {
        "colab": {
          "base_uri": "https://localhost:8080/"
        },
        "id": "C7zmvmcxqQkq",
        "outputId": "662a1c29-bc35-49a7-9cc7-3cd07569f105"
      },
      "execution_count": 3,
      "outputs": [
        {
          "output_type": "stream",
          "name": "stdout",
          "text": [
            "mkdir: created directory 'aula08-inpars'\n",
            "Building synchronization state...\n",
            "Starting synchronization...\n",
            "Copying gs://aula08-inpars/teste_score_eval/predictions.txt.lengths...\n",
            "Copying gs://aula08-inpars/teste_score_eval/predictions.txt.targets...\n",
            "Copying gs://aula08-inpars/castorini_baseline/castorini-baseline-t5-input.txt...\n",
            "Copying gs://aula08-inpars/castorini_baseline/trec-covid-corpus.tsv...\n",
            "Copying gs://aula08-inpars/castorini_baseline/trec-covid-qrels_trec_format.txt...\n",
            "Copying gs://aula08-inpars/castorini_baseline/trec-covid-queries_trec_format.txt...\n",
            "Copying gs://aula08-inpars/castorini_baseline/run.title_and_text_no_expansion.txt...\n",
            "Copying gs://aula08-inpars/castorini_baseline/castorini-baseline-monot5-base-predictions.txt-1100000...\n",
            "Copying gs://aula08-inpars/castorini_baseline/castorini-baseline-t5-input_ids.txt...\n",
            "Copying gs://aula08-inpars/teste_score_eval/predictions.txt.scores...\n",
            "Copying gs://aula08-inpars/teste_score_eval/teste_score_eval_run.txt...\n",
            "Copying gs://aula08-inpars/teste_score_eval/true_50klines.txt...\n",
            "\\ [12/12 files][273.6 MiB/273.6 MiB] 100% Done                                  \n",
            "Operation completed over 12 objects/273.6 MiB.                                   \n",
            "\u001b[01;34maula08-inpars/\u001b[00m\n",
            "├── [4.0K]  \u001b[01;34mteste_score_eval\u001b[00m\n",
            "│   ├── [244K]  true_50klines.txt\n",
            "│   ├── [505K]  predictions.txt.scores\n",
            "│   ├── [244K]  predictions.txt.targets\n",
            "│   ├── [ 98K]  predictions.txt.lengths\n",
            "│   └── [2.0M]  teste_score_eval_run.txt\n",
            "└── [4.0K]  \u001b[01;34mcastorini_baseline\u001b[00m\n",
            "    ├── [577K]  castorini-baseline-t5-input_ids.txt\n",
            "    ├── [1023K]  trec-covid-qrels_trec_format.txt\n",
            "    ├── [3.6K]  trec-covid-queries_trec_format.txt\n",
            "    ├── [1.8M]  run.title_and_text_no_expansion.txt\n",
            "    ├── [ 81M]  castorini-baseline-t5-input.txt\n",
            "    ├── [185M]  trec-covid-corpus.tsv\n",
            "    └── [1.2M]  castorini-baseline-monot5-base-predictions.txt-1100000\n",
            "\n",
            "2 directories, 12 files\n"
          ]
        }
      ]
    },
    {
      "cell_type": "markdown",
      "source": [
        "## Testing some prompts"
      ],
      "metadata": {
        "id": "gDrK8F7zuBlp"
      }
    },
    {
      "cell_type": "markdown",
      "source": [
        "You are a human annotator with biomedical expertise. Generate a relevant question for the passage below:\n",
        "#######\n",
        "Nitric oxide: a pro-inflammatory mediator in lung disease? Inflammatory diseases of the respiratory tract are commonly associated with elevated production of nitric oxide (NO•) and increased indices of NO• -dependent oxidative stress. Although NO• is known to have anti-microbial, anti-inflammatory and anti-oxidant properties, various lines of evidence support the contribution of NO• to lung injury in several disease models. On the basis of biochemical evidence, it is often presumed that such NO• -dependent oxidations are due to the formation of the oxidant peroxynitrite, although alternative mechanisms involving the phagocyte-derived heme proteins myeloperoxidase and eosinophil peroxidase might be operative during conditions of inflammation. Because of the overwhelming literature on NO• generation and activities in the respiratory tract, it would be beyond the scope of this commentary to review this area comprehensively. Instead, it focuses on recent evidence and concepts of the presumed contribution of NO• to inflammatory diseases of the lung."
      ],
      "metadata": {
        "id": "Pujhi8PewHLu"
      }
    },
    {
      "cell_type": "markdown",
      "source": [
        "You are a human annotator with biomedical expertise. Generate a question that is both relevant and complex for a given passage; also, output on a 0-100 scale indicating how certain you are of the question you created. Use the output format: f'query: {query}\\nscore: {score}\\n'. Give no explanations.\n",
        "\n",
        "#######Passage#######\n",
        "Nitric oxide: a pro-inflammatory mediator in lung disease? Inflammatory diseases of the respiratory tract are commonly associated with elevated production of nitric oxide (NO•) and increased indices of NO• -dependent oxidative stress. Although NO• is known to have anti-microbial, anti-inflammatory and anti-oxidant properties, various lines of evidence support the contribution of NO• to lung injury in several disease models. On the basis of biochemical evidence, it is often presumed that such NO• -dependent oxidations are due to the formation of the oxidant peroxynitrite, although alternative mechanisms involving the phagocyte-derived heme proteins myeloperoxidase and eosinophil peroxidase might be operative during conditions of inflammation. Because of the overwhelming literature on NO• generation and activities in the respiratory tract, it would be beyond the scope of this commentary to review this area comprehensively. Instead, it focuses on recent evidence and concepts of the presumed contribution of NO• to inflammatory diseases of the lung.\n"
      ],
      "metadata": {
        "id": "_oUDK-fsxzzX"
      }
    },
    {
      "cell_type": "markdown",
      "source": [
        "You are a human annotator with biomedical expertise. Generate a question that could be made by an specialist while researching about a new disease; also, output on a 0-100 scale indicating how certain you are of the question you created. Return a json-formatted string like {'query':<query>, 'score': <score>}\n",
        "\n",
        "#######Passage#######\n",
        "Nitric oxide: a pro-inflammatory mediator in lung disease? Inflammatory diseases of the respiratory tract are commonly associated with elevated production of nitric oxide (NO•) and increased indices of NO• -dependent oxidative stress. Although NO• is known to have anti-microbial, anti-inflammatory and anti-oxidant properties, various lines of evidence support the contribution of NO• to lung injury in several disease models. On the basis of biochemical evidence, it is often presumed that such NO• -dependent oxidations are due to the formation of the oxidant peroxynitrite, although alternative mechanisms involving the phagocyte-derived heme proteins myeloperoxidase and eosinophil peroxidase might be operative during conditions of inflammation. Because of the overwhelming literature on NO• generation and activities in the respiratory tract, it would be beyond the scope of this commentary to review this area comprehensively. Instead, it focuses on recent evidence and concepts of the presumed contribution of NO• to inflammatory diseases of the lung.\n",
        "\n",
        "ChatGPT\n",
        "{'query': 'What is the role of nitric oxide in lung injury and inflammation?', 'score': 90}"
      ],
      "metadata": {
        "id": "RHdqmeVnyhp2"
      }
    },
    {
      "cell_type": "code",
      "source": [
        "df_corpus = pl.read_csv('aula08-inpars/castorini_baseline/trec-covid-corpus.tsv',\n",
        "                        has_header=False, separator='\\t',\n",
        "                        new_columns=['id', 'text'])\n",
        "df_corpus.shape, df_corpus.head()"
      ],
      "metadata": {
        "colab": {
          "base_uri": "https://localhost:8080/"
        },
        "id": "lRBtthYNtUTn",
        "outputId": "cc4c5b02-9e0d-4b58-e5fa-19daf172f697"
      },
      "execution_count": 4,
      "outputs": [
        {
          "output_type": "execute_result",
          "data": {
            "text/plain": [
              "((171332, 2),\n",
              " shape: (5, 2)\n",
              " ┌──────────┬───────────────────────────────────────────────────────────────────────────────────────┐\n",
              " │ id       ┆ text                                                                                  │\n",
              " │ ---      ┆ ---                                                                                   │\n",
              " │ str      ┆ str                                                                                   │\n",
              " ╞══════════╪═══════════════════════════════════════════════════════════════════════════════════════╡\n",
              " │ ug7v899j ┆ Clinical features of culture-proven Mycoplasma pneumoniae infections at King          │\n",
              " │          ┆ Abdulaziz University Hospital, Jeddah, Saudi Arabia. OBJECTIVE: This retrospective    │\n",
              " │          ┆ chart review describes the epidemiology and clinical features of 40 patients with     │\n",
              " │          ┆ culture-proven Mycoplasma pneumoniae infections at King Abdulaziz University          │\n",
              " │          ┆ Hospital, Jeddah, Saudi Arabia. METHODS: Patients with positive M. pneumoniae         │\n",
              " │          ┆ cultures from respiratory specimens from January 1997 through December 1998 were      │\n",
              " │          ┆ identified through the Microbiology records. Charts of patients were reviewed.        │\n",
              " │          ┆ RESULTS: 40 patients were identified, 33 (82.5%) of whom required admission. Most     │\n",
              " │          ┆ infections (92.5%) were community-acquired. The infection affected all age groups but │\n",
              " │          ┆ was most common in infants (32.5%) and pre-school children (22.5%). It occurred       │\n",
              " │          ┆ year-round but was most common in the fall (35%) and spring (30%). More than          │\n",
              " │          ┆ three-quarters of patients (77.5%) had comorbidities. Twenty-four isolates (60%) were │\n",
              " │          ┆ associated with pneumonia, 14 (3…                                                     │\n",
              " │ 02tnwd4m ┆ Nitric oxide: a pro-inflammatory mediator in lung disease?. Inflammatory diseases of  │\n",
              " │          ┆ the respiratory tract are commonly associated with elevated production of nitric      │\n",
              " │          ┆ oxide (NO•) and increased indices of NO• -dependent oxidative stress. Although NO• is │\n",
              " │          ┆ known to have anti-microbial, anti-inflammatory and anti-oxidant properties, various  │\n",
              " │          ┆ lines of evidence support the contribution of NO• to lung injury in several disease   │\n",
              " │          ┆ models. On the basis of biochemical evidence, it is often presumed that such NO•      │\n",
              " │          ┆ -dependent oxidations are due to the formation of the oxidant peroxynitrite, although │\n",
              " │          ┆ alternative mechanisms involving the phagocyte-derived heme proteins myeloperoxidase  │\n",
              " │          ┆ and eosinophil peroxidase might be operative during conditions of inflammation.       │\n",
              " │          ┆ Because of the overwhelming literature on NO• generation and activities in the        │\n",
              " │          ┆ respiratory tract, it would be beyond the scope of this commentary to review this     │\n",
              " │          ┆ area comprehensively. Instead, it focuses on recent evidence and concepts of the      │\n",
              " │          ┆ presu…                                                                                │\n",
              " │ ejv2xln0 ┆ Surfactant protein-D and pulmonary host defense. Surfactant protein-D (SP-D)          │\n",
              " │          ┆ participates in the innate response to inhaled microorganisms and organic antigens,   │\n",
              " │          ┆ and contributes to immune and inflammatory regulation within the lung. SP-D is        │\n",
              " │          ┆ synthesized and secreted by alveolar and bronchiolar epithelial cells, but is also    │\n",
              " │          ┆ expressed by epithelial cells lining various exocrine ducts and the mucosa of the     │\n",
              " │          ┆ gastrointestinal and genitourinary tracts. SP-D, a collagenous calcium-dependent      │\n",
              " │          ┆ lectin (or collectin), binds to surface glycoconjugates expressed by a wide variety   │\n",
              " │          ┆ of microorganisms, and to oligosaccharides associated with the surface of various     │\n",
              " │          ┆ complex organic antigens. SP-D also specifically interacts with glycoconjugates and   │\n",
              " │          ┆ other molecules expressed on the surface of macrophages, neutrophils, and             │\n",
              " │          ┆ lymphocytes. In addition, SP-D binds to specific surfactant-associated lipids and can │\n",
              " │          ┆ influence the organization of lipid mixtures containing phosphatidylinositol in       │\n",
              " │          ┆ vitro. Consistent with t…                                                             │\n",
              " │ 2b73a28n ┆ Role of endothelin-1 in lung disease. Endothelin-1 (ET-1) is a 21 amino acid peptide  │\n",
              " │          ┆ with diverse biological activity that has been implicated in numerous diseases. ET-1  │\n",
              " │          ┆ is a potent mitogen regulator of smooth muscle tone, and inflammatory mediator that   │\n",
              " │          ┆ may play a key role in diseases of the airways, pulmonary circulation, and            │\n",
              " │          ┆ inflammatory lung diseases, both acute and chronic. This review will focus on the     │\n",
              " │          ┆ biology of ET-1 and its role in lung disease.                                         │\n",
              " │ 9785vg6d ┆ Gene expression in epithelial cells in response to pneumovirus infection. Respiratory │\n",
              " │          ┆ syncytial virus (RSV) and pneumonia virus of mice (PVM) are viruses of the family     │\n",
              " │          ┆ Paramyxoviridae, subfamily pneumovirus, which cause clinically important respiratory  │\n",
              " │          ┆ infections in humans and rodents, respectively. The respiratory epithelial target     │\n",
              " │          ┆ cells respond to viral infection with specific alterations in gene expression,        │\n",
              " │          ┆ including production of chemoattractant cytokines, adhesion molecules, elements that  │\n",
              " │          ┆ are related to the apoptosis response, and others that remain incompletely            │\n",
              " │          ┆ understood. Here we review our current understanding of these mucosal responses and   │\n",
              " │          ┆ discuss several genomic approaches, including differential display reverse            │\n",
              " │          ┆ transcription-polymerase chain reaction (PCR) and gene array strategies, that will    │\n",
              " │          ┆ permit us to unravel the nature of these responses in a more complete and systematic  │\n",
              " │          ┆ manner.                                                                               │\n",
              " └──────────┴───────────────────────────────────────────────────────────────────────────────────────┘)"
            ]
          },
          "metadata": {},
          "execution_count": 4
        }
      ]
    },
    {
      "cell_type": "code",
      "source": [
        "# Return a json-formatted string like {'query':<query>, 'score': <score>}\n",
        "# Não está gerando o json sempre, vou tirar\n",
        "# zero_shot_prompt_template = \"\"\"\\\n",
        "# You are a human annotator with biomedical expertise.\n",
        "# Generate a question that could be made by an specialist while researching about a new disease;\n",
        "# also, output on a 0-100 scale with two decimal places indicating how certain you are of the question you created.\n",
        "# Return a *json* with keys 'query' and 'score'.\n",
        "\n",
        "# #######Passage#######\n",
        "# {}\"\"\"\n",
        "\n",
        "# zero_shot_prompt_template = \"\"\"\\\n",
        "# You are a human annotator with biomedical expertise.\n",
        "# Generate a single question that could be helpful for a specialist looking to draw complex conclusions while researching about a new disease.\n",
        "\n",
        "# #######Passage#######\n",
        "# {}\"\"\"\n",
        "\n",
        "# Provavelmente vai esse\n",
        "# zero_shot_prompt_template = \"\"\"\\\n",
        "# You are a human annotator with biomedical expertise.\n",
        "# Generate a single question that could be helpful for a specialist who is searching for a very specific piece of information within a large corpus of scientific publications\n",
        "\n",
        "# #######Passage#######\n",
        "# {}\"\"\"\n",
        "\n",
        "zero_shot_prompt_template = \"\"\"\\\n",
        "You are a human annotator with biomedical expertise.\n",
        "Generate a single question that could be helpful for a specialist who is searching for a very specific piece of information within a large corpus of scientific publications.\n",
        "If the text contains a \"result\" of \"conclusion\" section, the question should be focused on it.\n",
        "\n",
        "#######Passage#######\n",
        "{}\"\"\"\n",
        "\n",
        "print(zero_shot_prompt_template)\n",
        "\n",
        "df_zero_shot_prompt = (\n",
        "    df_corpus\n",
        "    # selecting examples with more characters for bias the model towards more complex texts\n",
        "    .filter(pl.col('text').str.lengths().gt(500))\n",
        "    .with_columns(pl.format(\n",
        "        zero_shot_prompt_template, 'text').alias('prompt'))\n",
        ")\n",
        "df_zero_shot_prompt.shape, df_zero_shot_prompt.head()\n",
        "\n",
        "print(df_zero_shot_prompt.sample(1).to_dicts()[0]['prompt'])"
      ],
      "metadata": {
        "colab": {
          "base_uri": "https://localhost:8080/"
        },
        "id": "f-EeL8fhypyr",
        "outputId": "1b85b3f4-af67-433f-ebfc-d28397760ef1"
      },
      "execution_count": 5,
      "outputs": [
        {
          "output_type": "stream",
          "name": "stdout",
          "text": [
            "You are a human annotator with biomedical expertise.\n",
            "Generate a single question that could be helpful for a specialist who is searching for a very specific piece of information within a large corpus of scientific publications.\n",
            "If the text contains a \"result\" of \"conclusion\" section, the question should be focused on it.\n",
            "\n",
            "#######Passage#######\n",
            "{}\n",
            "You are a human annotator with biomedical expertise.\n",
            "Generate a single question that could be helpful for a specialist who is searching for a very specific piece of information within a large corpus of scientific publications.\n",
            "If the text contains a \"result\" of \"conclusion\" section, the question should be focused on it.\n",
            "\n",
            "#######Passage#######\n",
            "Biobanking in microbiology: From sample collection to epidemiology, diagnosis and research. Millions of biological samples, including cells of human, animal or bacterial origin, viruses, serum/plasma or DNA/RNA, are stored every year throughout the world for diagnostics and research. The purpose of this review is to summarize the resources necessary to set up a biobanking facility, the challenges and pitfalls of sample collection, and the most important techniques for separation and storage of samples. Biological samples can be stored for up to 30 years, but specific protocols are required to reduce the damage induced by preservation techniques. Software dedicated to biological banks facilitate sample registration and identification, the cataloguing of sample properties (type of sample/specimen, associated diseases and/or therapeutic protocols, environmental information, etc.), sample tracking, quality assurance and specimen availability. Biobank facilities must adopt good laboratory practices and a stringent quality control system and, when required, comply with ethical issues.\n"
          ]
        }
      ]
    },
    {
      "cell_type": "markdown",
      "source": [
        "## Creating a dataframe with basic information for all prompts\n",
        "\n",
        "To avoid overwriting data and compromising reproducibility, we are going to save a dataframe containing document id, text that will be used for data generation and a integer key used for subsetting data for generation."
      ],
      "metadata": {
        "id": "80Al774P6er7"
      }
    },
    {
      "cell_type": "code",
      "source": [
        "def get_random_indexes(n, seed):\n",
        "    \"\"\"Get a random permutation of n elements with a seed\"\"\"\n",
        "    return np.random.default_rng(seed=seed).permutation(range(n))"
      ],
      "metadata": {
        "id": "C5hmnXgp8e8J"
      },
      "execution_count": 6,
      "outputs": []
    },
    {
      "cell_type": "code",
      "source": [
        "# selecting examples with more characters for bias the model towards more complex texts\n",
        "df_base_prompt = df_corpus.filter(\n",
        "    pl.col('text').str.lengths().gt(500))\n",
        "\n",
        "# adding a random integer for each random id\n",
        "# seed=DEFAULT_RANDOM_SEED (row number for my name on google sheets)\n",
        "df_base_prompt = df_base_prompt.with_columns(pl.Series(get_random_indexes(len(df_base_prompt),\n",
        "                                                                DEFAULT_RANDOM_SEED)).alias('random_key'))\n",
        "df_base_prompt = df_base_prompt.sort('random_key')\n",
        "\n",
        "# adding a random key and sorting by it - we are going to use it for better reproducibility\n",
        "\n",
        "df_base_prompt.shape, df_base_prompt.head()"
      ],
      "metadata": {
        "colab": {
          "base_uri": "https://localhost:8080/"
        },
        "id": "gUp3SNod6gwE",
        "outputId": "c66d166b-1102-4967-adfe-17d64c5cfaf4"
      },
      "execution_count": 7,
      "outputs": [
        {
          "output_type": "execute_result",
          "data": {
            "text/plain": [
              "((122560, 3),\n",
              " shape: (5, 3)\n",
              " ┌──────────┬──────────────────────────────────────────────────────────────────────────┬────────────┐\n",
              " │ id       ┆ text                                                                     ┆ random_key │\n",
              " │ ---      ┆ ---                                                                      ┆ ---        │\n",
              " │ str      ┆ str                                                                      ┆ i64        │\n",
              " ╞══════════╪══════════════════════════════════════════════════════════════════════════╪════════════╡\n",
              " │ ejrcujnx ┆ Clinical ethics during the Covid-19 pandemic: Missing the trees for the  ┆ 0          │\n",
              " │          ┆ forest.. The SARS-CoV2 pandemic has exposed the acute vulnerability of   ┆            │\n",
              " │          ┆ the health systems of countries worldwide. While countries are           ┆            │\n",
              " │          ┆ scrambling to contain the spread of the infection, the focus is largely  ┆            │\n",
              " │          ┆ on infection prevention strategies such as isolation, quarantine,        ┆            │\n",
              " │          ┆ physical distancing, hand hygiene, cough etiquette and country-wide      ┆            │\n",
              " │          ┆ lock-down. Important ethical concerns arise in the context of the public ┆            │\n",
              " │          ┆ health interventions. However, while focusing on the forest, the         ┆            │\n",
              " │          ┆ population, attention must also be paid to the trees, the individuals    ┆            │\n",
              " │          ┆ who suffer the illness. This article focuses on the ethical conflicts    ┆            │\n",
              " │          ┆ between the largely public health- driven focus of the Covid19           ┆            │\n",
              " │          ┆ prevention and containment measures versus patient-centred care for      ┆            │\n",
              " │          ┆ those who suffer the illness and the consequent moral distress of        ┆            │\n",
              " │          ┆ healthcare providers. The key argument is for countries to mainstream    ┆            │\n",
              " │          ┆ clinical ethics considerations for care of …                             ┆            │\n",
              " │ 20ihafqw ┆ Compliance with recommendations for pandemic influenza H1N1 2009: the    ┆ 1          │\n",
              " │          ┆ role of trust and personal beliefs.. BACKGROUND To investigate the       ┆            │\n",
              " │          ┆ relationship between risk perception, worry, control, trust, exposure to ┆            │\n",
              " │          ┆ an educational campaign, media exaggeration with recommendations for     ┆            │\n",
              " │          ┆ pandemic influenza H1N1 2009. METHODS Cross sectional telephone survey   ┆            │\n",
              " │          ┆ using random digit dialing. A total of 1010 adult Italians were          ┆            │\n",
              " │          ┆ interviewed by telephone between 16 and 19 February 2010. The survey     ┆            │\n",
              " │          ┆ instrument included demographic data, measures on risk perception,       ┆            │\n",
              " │          ┆ worry, trust and compliance with recommendations for pandemic influenza  ┆            │\n",
              " │          ┆ H1N1 2009. RESULTS Controlling for socio-demographic variables,          ┆            │\n",
              " │          ┆ compliance with all the recommended behaviors was associated with media  ┆            │\n",
              " │          ┆ trust, trust in the Ministry of Health, worry and perceived severity of  ┆            │\n",
              " │          ┆ illness. Perceptions that the risk of catching pandemic influenza H1N1   ┆            │\n",
              " │          ┆ 2009 is high, that the authorities are acting in the public's best       ┆            │\n",
              " │          ┆ interest in dealing with it, tha…                                        ┆            │\n",
              " │ bac9geag ┆ Pandemic influenza preparedness in the Asia–Pacific region. Summary      ┆ 2          │\n",
              " │          ┆ Concerns are mounting that the threat of another influenza pandemic will ┆            │\n",
              " │          ┆ become a reality and that the epicentre of the outbreak could be the     ┆            │\n",
              " │          ┆ Asia–Pacific region. We assessed the documents that some Asia–Pacific    ┆            │\n",
              " │          ┆ countries have published as part of preparedness planning for an         ┆            │\n",
              " │          ┆ outbreak of influenza in people. Regional approaches were polarised.     ┆            │\n",
              " │          ┆ Thailand, China, and Vietnam had set out a strategic vision to           ┆            │\n",
              " │          ┆ strengthen future capacity in preparedness planning. By contrast, Hong   ┆            │\n",
              " │          ┆ Kong, Australia, and New Zealand took a strategic approach aimed mainly  ┆            │\n",
              " │          ┆ at harnessing available resources or preparing for the deployment of     ┆            │\n",
              " │          ┆ resources such as stockpiled antiviral agents and vaccines. The plans of ┆            │\n",
              " │          ┆ Hong Kong, Australia, and New Zealand compared favourably with the best  ┆            │\n",
              " │          ┆ European plans. The plans of resource-poor countries addressed some      ┆            │\n",
              " │          ┆ issues that were largely neglected by most European plans. Other         ┆            │\n",
              " │          ┆ countries (including those that d…                                       ┆            │\n",
              " │ zp4yv4cp ┆ The Political Face of Public Health. Public health is politically        ┆ 3          │\n",
              " │          ┆ paradoxical because its core conceptual components — the exercise of     ┆            │\n",
              " │          ┆ public authority and the promotion of population health — stand in       ┆            │\n",
              " │          ┆ practical tension that belies their theoretical promise. Across Western  ┆            │\n",
              " │          ┆ nations, public policymakers stand accused of failing properly to honor  ┆            │\n",
              " │          ┆ and support the crucial contributions that public health makes to the    ┆            │\n",
              " │          ┆ improvement of health outcomes and of overinvesting in acute medical     ┆            │\n",
              " │          ┆ care services, the need for which timely interventions in prevention and ┆            │\n",
              " │          ┆ health promotion might have averted. The dramatic budgetary              ┆            │\n",
              " │          ┆ discrepancies in Western nations between the massive funds devoted to    ┆            │\n",
              " │          ┆ medical care and the minuscule sums allotted to public health are often  ┆            │\n",
              " │          ┆ taken as evidence that in such matters, political leaders are irrational ┆            │\n",
              " │          ┆ (or perhaps uninformed, or captured by big-moneyed medical interests)    ┆            │\n",
              " │          ┆ and that good public policy would have epidemiologists and other public  ┆            │\n",
              " │          ┆ health experts running, o…                                               ┆            │\n",
              " │ u5nibp17 ┆ The role of asymptomatic class, quarantine and isolation in the          ┆ 4          │\n",
              " │          ┆ transmission of COVID-19.. We formulate a deterministic epidemic model   ┆            │\n",
              " │          ┆ for the spread of Corona Virus Disease (COVID-19). We have included      ┆            │\n",
              " │          ┆ asymptomatic, quarantine and isolation compartments in the model, as     ┆            │\n",
              " │          ┆ studies have stressed upon the importance of these population groups on  ┆            │\n",
              " │          ┆ the transmission of the disease. We calculate the basic reproduction     ┆            │\n",
              " │          ┆ number [Formula: see text] and show that for [Formula: see text] the     ┆            │\n",
              " │          ┆ disease dies out and for [Formula: see text] the disease is endemic.     ┆            │\n",
              " │          ┆ Using sensitivity analysis we establish that [Formula: see text] is most ┆            │\n",
              " │          ┆ sensitive to the rate of quarantine and isolation and that a high level  ┆            │\n",
              " │          ┆ of quarantine needs to be maintained as well as isolation to control the ┆            │\n",
              " │          ┆ disease. Based on this we devise optimal quarantine and isolation        ┆            │\n",
              " │          ┆ strategies, noting that high levels need to be maintained during the     ┆            │\n",
              " │          ┆ early stages of the outbreak. Using data from the Wuhan outbreak, which  ┆            │\n",
              " │          ┆ has nearly run its cours…                                                ┆            │\n",
              " └──────────┴──────────────────────────────────────────────────────────────────────────┴────────────┘)"
            ]
          },
          "metadata": {},
          "execution_count": 7
        }
      ]
    },
    {
      "cell_type": "code",
      "source": [
        "!mkdir -pv aula08-inpars/synthetic-data-generation\n",
        "df_base_prompt.write_ipc('aula08-inpars/synthetic-data-generation/df_base_prompt.arrow')\n",
        "!ls -lht aula08-inpars/synthetic-data-generation"
      ],
      "metadata": {
        "colab": {
          "base_uri": "https://localhost:8080/"
        },
        "id": "-bUKOJUV-FH2",
        "outputId": "ed2168ba-84ac-40ce-d57a-9d8b90d9ee98"
      },
      "execution_count": 9,
      "outputs": [
        {
          "output_type": "stream",
          "name": "stdout",
          "text": [
            "total 182M\n",
            "-rw-r--r-- 1 root root 182M May  3 13:28 df_base_prompt.arrow\n"
          ]
        }
      ]
    },
    {
      "cell_type": "markdown",
      "source": [
        "## Prompt v1\n",
        "\n",
        "This version instructs the `gpt-3.5-turbo` model to generate annotated questions that would be helpful for a researcher looking for information about a specific topic. We want to emphasize that the intended user of the generated questions will be a specialist, in order to encourage the model to generate more complex and advanced questions."
      ],
      "metadata": {
        "id": "jfWTKnfv_OYV"
      }
    },
    {
      "cell_type": "code",
      "source": [
        "def format_prompt(text, fmt_template):\n",
        "    return fmt_template.format(text)\n",
        "\n",
        "# Since there won't be enough time to experiment with more combinations, this\n",
        "# function will be kept simple to avoid overthinking\n",
        "def get_zeroshot_openai_response(doc_id, prompt, cache_dict, max_tokens=100):\n",
        "    cache_key = doc_id, prompt, max_tokens\n",
        "    # # por BURRICE, estava retornando o cache inteiro \n",
        "    # if cache_key in cache_dict:\n",
        "    #     return cache_dict\n",
        "    # por BURRICE, estava retornando o cache inteiro \n",
        "    if cache_key in cache_dict:\n",
        "        return cache_dict[cache_key].copy()\n",
        "\n",
        "    response = openai.ChatCompletion.create(\n",
        "        model='gpt-3.5-turbo',\n",
        "        messages=[\n",
        "            {'role': 'system', 'content': 'You are a human annotator with biomedical expertise.'},\n",
        "            {'role': 'user', 'content': prompt}\n",
        "        ],\n",
        "        temperature=0,\n",
        "        max_tokens=max_tokens)\n",
        "\n",
        "    out = json.loads(str(response))\n",
        "    cache_dict[cache_key] = out\n",
        "    return out"
      ],
      "metadata": {
        "id": "RGKc3R6W_7uG"
      },
      "execution_count": 10,
      "outputs": []
    },
    {
      "cell_type": "code",
      "source": [
        "zero_shot_prompt_template_v1 = \"\"\"\\\n",
        "Generate a single question that could be helpful for a specialist who is searching for a very specific piece of information within a large corpus of scientific publications.\n",
        "\n",
        "#######Passage#######\n",
        "{}\"\"\""
      ],
      "metadata": {
        "id": "_lkFAL4N_Su-"
      },
      "execution_count": 11,
      "outputs": []
    },
    {
      "cell_type": "code",
      "source": [
        "cache_dict_v1 = {}"
      ],
      "metadata": {
        "id": "w-N4llSWA4dt"
      },
      "execution_count": 12,
      "outputs": []
    },
    {
      "cell_type": "markdown",
      "source": [
        "The code below was run by increasing the number of rows until we reached 1000 examples:"
      ],
      "metadata": {
        "id": "EKCtAHIfNF9O"
      }
    },
    {
      "cell_type": "code",
      "source": [
        "tqdm._instances.clear()"
      ],
      "metadata": {
        "id": "TzlNDgCe9i36"
      },
      "execution_count": 21,
      "outputs": []
    },
    {
      "cell_type": "code",
      "source": [
        "# Antes de cair: 88%|████████▊ | 879/1000 [40:00<05:23,  2.67s/it]\n",
        "raw_responses_v1 = {\n",
        "    (x['id'], x['random_key']): get_zeroshot_openai_response(\n",
        "        doc_id=x['id'],\n",
        "        prompt=format_prompt(x['text'], zero_shot_prompt_template_v1),\n",
        "        cache_dict=cache_dict_v1)\n",
        "    for x in tqdm(df_base_prompt.head(1000).to_dicts())\n",
        "}"
      ],
      "metadata": {
        "colab": {
          "base_uri": "https://localhost:8080/"
        },
        "id": "hiY6MXGX9U1m",
        "outputId": "36a0cf7e-bde2-4078-f55f-9539cb140acf"
      },
      "execution_count": 22,
      "outputs": [
        {
          "output_type": "stream",
          "name": "stderr",
          "text": [
            "100%|██████████| 1000/1000 [04:55<00:00,  3.38it/s]\n"
          ]
        }
      ]
    },
    {
      "cell_type": "markdown",
      "source": [
        "Total time until this step:"
      ],
      "metadata": {
        "id": "tqHA85JeQe70"
      }
    },
    {
      "cell_type": "code",
      "source": [
        "!uptime"
      ],
      "metadata": {
        "colab": {
          "base_uri": "https://localhost:8080/"
        },
        "id": "D2739JNaQeRY",
        "outputId": "7845e83a-0cee-4aca-eb93-9d8e4a021615"
      },
      "execution_count": 23,
      "outputs": [
        {
          "output_type": "stream",
          "name": "stdout",
          "text": [
            " 14:21:48 up  1:18,  0 users,  load average: 0.61, 0.75, 0.72\n"
          ]
        }
      ]
    },
    {
      "cell_type": "code",
      "source": [
        "list(cache_dict_v1.values())[-1]"
      ],
      "metadata": {
        "colab": {
          "base_uri": "https://localhost:8080/"
        },
        "id": "tUGhns2gzc6a",
        "outputId": "1e292aeb-c238-487b-fcfd-7342461e6692"
      },
      "execution_count": 24,
      "outputs": [
        {
          "output_type": "execute_result",
          "data": {
            "text/plain": [
              "{'choices': [{'finish_reason': 'stop',\n",
              "   'index': 0,\n",
              "   'message': {'content': 'What is the difference in postoperative rotational and pivot-shift laxity between anatomic double-bundle anterior cruciate ligament reconstruction and nonanatomic single-bundle reconstruction?',\n",
              "    'role': 'assistant'}}],\n",
              " 'created': 1683123520,\n",
              " 'id': 'chatcmpl-7C7bU7JS6PInOdllR6cktgsM6CwWl',\n",
              " 'model': 'gpt-3.5-turbo-0301',\n",
              " 'object': 'chat.completion',\n",
              " 'usage': {'completion_tokens': 34, 'prompt_tokens': 563, 'total_tokens': 597}}"
            ]
          },
          "metadata": {},
          "execution_count": 24
        }
      ]
    },
    {
      "cell_type": "code",
      "source": [
        "Path('aula08-inpars/synthetic-data-generation/raw_responses_v1.pickle').write_bytes(pickle.dumps(raw_responses_v1))\n",
        "Path('aula08-inpars/synthetic-data-generation/cache_dict_v1.pickle').write_bytes(pickle.dumps(cache_dict_v1))\n",
        "!ls -lht aula08-inpars/synthetic-data-generation/"
      ],
      "metadata": {
        "colab": {
          "base_uri": "https://localhost:8080/"
        },
        "id": "NJEFLhksRPl_",
        "outputId": "33fdb21a-d007-4747-ed98-82100d57914a"
      },
      "execution_count": 25,
      "outputs": [
        {
          "output_type": "stream",
          "name": "stdout",
          "text": [
            "total 185M\n",
            "-rw-r--r-- 1 root root 2.1M May  3 14:22 cache_dict_v1.pickle\n",
            "-rw-r--r-- 1 root root 460K May  3 14:22 raw_responses_v1.pickle\n",
            "-rw-r--r-- 1 root root 182M May  3 13:28 df_base_prompt.arrow\n"
          ]
        }
      ]
    },
    {
      "cell_type": "code",
      "source": [
        "!tree -lht aula08-inpars/"
      ],
      "metadata": {
        "colab": {
          "base_uri": "https://localhost:8080/"
        },
        "id": "UNVWQjju_7Qz",
        "outputId": "e182d95e-88c6-42f6-e043-c14be59ef903"
      },
      "execution_count": 29,
      "outputs": [
        {
          "output_type": "stream",
          "name": "stdout",
          "text": [
            "\u001b[01;34maula08-inpars/\u001b[00m\n",
            "├── [4.0K]  \u001b[01;34mteste_score_eval\u001b[00m\n",
            "│   ├── [244K]  true_50klines.txt\n",
            "│   ├── [505K]  predictions.txt.scores\n",
            "│   ├── [244K]  predictions.txt.targets\n",
            "│   ├── [ 98K]  predictions.txt.lengths\n",
            "│   └── [2.0M]  teste_score_eval_run.txt\n",
            "├── [4.0K]  \u001b[01;34mcastorini_baseline\u001b[00m\n",
            "│   ├── [577K]  castorini-baseline-t5-input_ids.txt\n",
            "│   ├── [1023K]  trec-covid-qrels_trec_format.txt\n",
            "│   ├── [3.6K]  trec-covid-queries_trec_format.txt\n",
            "│   ├── [1.8M]  run.title_and_text_no_expansion.txt\n",
            "│   ├── [ 81M]  castorini-baseline-t5-input.txt\n",
            "│   ├── [185M]  trec-covid-corpus.tsv\n",
            "│   └── [1.2M]  castorini-baseline-monot5-base-predictions.txt-1100000\n",
            "└── [4.0K]  \u001b[01;34msynthetic-data-generation\u001b[00m\n",
            "    ├── [182M]  df_base_prompt.arrow\n",
            "    ├── [2.1M]  cache_dict_v1.pickle\n",
            "    └── [460K]  raw_responses_v1.pickle\n",
            "\n",
            "3 directories, 15 files\n"
          ]
        }
      ]
    },
    {
      "cell_type": "code",
      "source": [
        "!gsutil -m rsync -r aula08-inpars/ gs://aula08-inpars/"
      ],
      "metadata": {
        "colab": {
          "base_uri": "https://localhost:8080/"
        },
        "id": "nous20Lz_i9Q",
        "outputId": "5278f18c-eea7-4a56-9cd9-4fe52b99f60a"
      },
      "execution_count": 27,
      "outputs": [
        {
          "output_type": "stream",
          "name": "stdout",
          "text": [
            "Building synchronization state...\n",
            "Starting synchronization...\n",
            "Computing CRC32C for file://aula08-inpars/castorini_baseline/castorini-baseline-t5-input.txt...\n",
            "Copying mtime from src to dst for gs://aula08-inpars/castorini_baseline/castorini-baseline-monot5-base-predictions.txt-1100000\n",
            "Computing CRC32C for file://aula08-inpars/castorini_baseline/trec-covid-corpus.tsv...\n",
            "Copying mtime from src to dst for gs://aula08-inpars/castorini_baseline/castorini-baseline-t5-input.txt\n",
            "Copying mtime from src to dst for gs://aula08-inpars/castorini_baseline/castorini-baseline-t5-input_ids.txt\n",
            "Copying mtime from src to dst for gs://aula08-inpars/castorini_baseline/run.title_and_text_no_expansion.txt\n",
            "Copying mtime from src to dst for gs://aula08-inpars/castorini_baseline/trec-covid-qrels_trec_format.txt\n",
            "Copying mtime from src to dst for gs://aula08-inpars/castorini_baseline/trec-covid-corpus.tsv\n",
            "Copying mtime from src to dst for gs://aula08-inpars/castorini_baseline/trec-covid-queries_trec_format.txt\n",
            "Copying file://aula08-inpars/synthetic-data-generation/cache_dict_v1.pickle [Content-Type=application/octet-stream]...\n",
            "Copying file://aula08-inpars/synthetic-data-generation/df_base_prompt.arrow [Content-Type=application/octet-stream]...\n",
            "==> NOTE: You are uploading one or more large file(s), which would run\n",
            "significantly faster if you enable parallel composite uploads. This\n",
            "feature can be enabled by editing the\n",
            "\"parallel_composite_upload_threshold\" value in your .boto\n",
            "configuration file. However, note that if you do this large files will\n",
            "be uploaded as `composite objects\n",
            "<https://cloud.google.com/storage/docs/composite-objects>`_,which\n",
            "means that any user who downloads such objects will need to have a\n",
            "compiled crcmod installed (see \"gsutil help crcmod\"). This is because\n",
            "without a compiled crcmod, computing checksums on composite objects is\n",
            "so slow that gsutil disables downloads of composite objects.\n",
            "\n",
            "Copying file://aula08-inpars/synthetic-data-generation/raw_responses_v1.pickle [Content-Type=application/octet-stream]...\n"
          ]
        }
      ]
    },
    {
      "cell_type": "code",
      "source": [
        "next(iter(raw_responses_v1.values()))"
      ],
      "metadata": {
        "colab": {
          "base_uri": "https://localhost:8080/"
        },
        "id": "NSW9HNXqRybX",
        "outputId": "f6d51519-58d2-499b-c2a9-d707e7b57a5f"
      },
      "execution_count": 30,
      "outputs": [
        {
          "output_type": "execute_result",
          "data": {
            "text/plain": [
              "{'choices': [{'finish_reason': 'stop',\n",
              "   'index': 0,\n",
              "   'message': {'content': 'What are the ethical conflicts between public health-driven focus of Covid-19 prevention and containment measures versus patient-centered care for those who suffer the illness and the consequent moral distress of healthcare providers?',\n",
              "    'role': 'assistant'}}],\n",
              " 'created': 1683120535,\n",
              " 'id': 'chatcmpl-7C6pL0kNFTtM5FjsQJbrkazQgZFQm',\n",
              " 'model': 'gpt-3.5-turbo-0301',\n",
              " 'object': 'chat.completion',\n",
              " 'usage': {'completion_tokens': 38, 'prompt_tokens': 274, 'total_tokens': 312}}"
            ]
          },
          "metadata": {},
          "execution_count": 30
        }
      ]
    },
    {
      "cell_type": "markdown",
      "source": [
        "All generations returned 1 choice:"
      ],
      "metadata": {
        "id": "x1HLs2W8DPhz"
      }
    },
    {
      "cell_type": "code",
      "source": [
        "Counter(len(x['choices']) for x in raw_responses_v1.values())"
      ],
      "metadata": {
        "colab": {
          "base_uri": "https://localhost:8080/"
        },
        "id": "OqedXZYiRfKO",
        "outputId": "de9d7ffc-3cfb-4d5f-c33e-93d0b1b66be9"
      },
      "execution_count": 41,
      "outputs": [
        {
          "output_type": "execute_result",
          "data": {
            "text/plain": [
              "Counter({1: 1000})"
            ]
          },
          "metadata": {},
          "execution_count": 41
        }
      ]
    },
    {
      "cell_type": "markdown",
      "source": [
        "None of the generations were truncated:"
      ],
      "metadata": {
        "id": "ecrfaiFQDUAo"
      }
    },
    {
      "cell_type": "code",
      "source": [
        "Counter(x['choices'][0]['finish_reason'] for x in raw_responses_v1.values())"
      ],
      "metadata": {
        "colab": {
          "base_uri": "https://localhost:8080/"
        },
        "id": "niqYs9UzC7mj",
        "outputId": "95768f1c-2666-4354-d464-33ddf1c9d9d7"
      },
      "execution_count": 39,
      "outputs": [
        {
          "output_type": "execute_result",
          "data": {
            "text/plain": [
              "Counter({'stop': 1000})"
            ]
          },
          "metadata": {},
          "execution_count": 39
        }
      ]
    },
    {
      "cell_type": "markdown",
      "source": [
        "Number of words in a query:"
      ],
      "metadata": {
        "id": "D_pwtHAZD-ru"
      }
    },
    {
      "cell_type": "code",
      "source": [
        "gen_wc = pd.Series([len(x['choices'][0]['message']['content'].split()) for x in raw_responses_v1.values()])\n",
        "display(gen_wc.describe())\n",
        "_ = gen_wc.hist(bins=20)"
      ],
      "metadata": {
        "colab": {
          "base_uri": "https://localhost:8080/",
          "height": 586
        },
        "id": "zyWtCGosRczD",
        "outputId": "769aac67-2db1-4b67-868c-31aea5542a1f"
      },
      "execution_count": 51,
      "outputs": [
        {
          "output_type": "display_data",
          "data": {
            "text/plain": [
              "count    1000.000000\n",
              "mean       24.752000\n",
              "std         6.841586\n",
              "min         9.000000\n",
              "25%        20.000000\n",
              "50%        24.000000\n",
              "75%        29.000000\n",
              "max        53.000000\n",
              "dtype: float64"
            ]
          },
          "metadata": {}
        },
        {
          "output_type": "display_data",
          "data": {
            "text/plain": [
              "<Figure size 640x480 with 1 Axes>"
            ],
            "image/png": "[encoded data removed]"
          },
          "metadata": {
            "image/png": {
              "width": 552,
              "height": 413
            }
          }
        }
      ]
    },
    {
      "cell_type": "code",
      "source": [
        "def get_query_from_raw_response(response):\n",
        "    \"\"\"Return the prediction with no preprocessing\"\"\"\n",
        "    raw = response['choices'][0]['message']['content']\n",
        "    return raw\n",
        "\n",
        "def raw_response_to_dataframe(raw_responses: dict):\n",
        "    \"\"\"Convert raw response dict to dataframe for easier manipulation\"\"\"\n",
        "    def to_dict(item):\n",
        "        (doc_id, random_key), response = item\n",
        "        query = get_query_from_raw_response(response)\n",
        "\n",
        "        return {'doc_id': doc_id, 'random_key': random_key, 'query': query}\n",
        "\n",
        "    dicts = map(to_dict, raw_responses.items())\n",
        "    df = pl.DataFrame(dicts)\n",
        "    return df\n",
        "    return list(dicts)\n",
        "\n",
        "\n",
        "\n",
        "df_queries_v1 = raw_response_to_dataframe(raw_responses_v1)\n",
        "df_queries_v1"
      ],
      "metadata": {
        "colab": {
          "base_uri": "https://localhost:8080/",
          "height": 1000
        },
        "id": "wy5LqjNzEDjp",
        "outputId": "85298a00-e01e-405d-ed43-ce78731f4f2d"
      },
      "execution_count": 239,
      "outputs": [
        {
          "output_type": "execute_result",
          "data": {
            "text/plain": [
              "shape: (1_000, 3)\n",
              "┌──────────┬────────────┬──────────────────────────────────────────────────────────────────────────┐\n",
              "│ doc_id   ┆ random_key ┆ query                                                                    │\n",
              "│ ---      ┆ ---        ┆ ---                                                                      │\n",
              "│ str      ┆ i64        ┆ str                                                                      │\n",
              "╞══════════╪════════════╪══════════════════════════════════════════════════════════════════════════╡\n",
              "│ ejrcujnx ┆ 0          ┆ What are the ethical conflicts between public health-driven focus of     │\n",
              "│          ┆            ┆ Covid-19 prevention and containment measures versus patient-centered     │\n",
              "│          ┆            ┆ care for those who suffer the illness and the consequent moral distress  │\n",
              "│          ┆            ┆ of healthcare providers?                                                 │\n",
              "│ 20ihafqw ┆ 1          ┆ What factors are associated with compliance with recommended behaviors   │\n",
              "│          ┆            ┆ during a pandemic influenza outbreak, including the role of trust, risk  │\n",
              "│          ┆            ┆ perception, worry, and exposure to educational campaigns and media       │\n",
              "│          ┆            ┆ exaggeration?                                                            │\n",
              "│ bac9geag ┆ 2          ┆ What are the strengths and weaknesses of pandemic influenza preparedness │\n",
              "│          ┆            ┆ plans in the Asia-Pacific region and how do they compare to those in     │\n",
              "│          ┆            ┆ Europe?                                                                  │\n",
              "│ zp4yv4cp ┆ 3          ┆ What are the sources of tension between population health and political  │\n",
              "│          ┆            ┆ power within the concept of public health, and why are these strains     │\n",
              "│          ┆            ┆ durable and irresolvable?                                                │\n",
              "│ …        ┆ …          ┆ …                                                                        │\n",
              "│ 102hvg7k ┆ 996        ┆ What are the limitations of SELDI-TOF-MS technology and what are some    │\n",
              "│          ┆            ┆ possible solutions to overcome these limitations in biomarker research?  │\n",
              "│ wgm0kflx ┆ 997        ┆ What is the function of S-palmitoylation in Chiropteran IFITM3 and what  │\n",
              "│          ┆            ┆ is the key molecular determinant of IFITM3 S-palmitoylation?             │\n",
              "│ plg5qx9m ┆ 998        ┆ What is the crystal structure of RlmM and how does it relate to other    │\n",
              "│          ┆            ┆ 2'O-ribose methyltransferases?                                           │\n",
              "│ 8odz90kd ┆ 999        ┆ What is the difference in postoperative rotational and pivot-shift       │\n",
              "│          ┆            ┆ laxity between anatomic double-bundle anterior cruciate ligament         │\n",
              "│          ┆            ┆ reconstruction and nonanatomic single-bundle reconstruction?             │\n",
              "└──────────┴────────────┴──────────────────────────────────────────────────────────────────────────┘"
            ],
            "text/html": [
              "<div><style>\n",
              ".dataframe > thead > tr > th,\n",
              ".dataframe > tbody > tr > td {\n",
              "  text-align: right;\n",
              "}\n",
              "</style>\n",
              "<small>shape: (1000, 3)</small><table border=\"1\" class=\"dataframe\"><thead><tr><th>doc_id</th><th>random_key</th><th>query</th></tr><tr><td>str</td><td>i64</td><td>str</td></tr></thead><tbody><tr><td>&quot;ejrcujnx&quot;</td><td>0</td><td>&quot;What are the ethical conflicts between public health-driven focus of Covid-19 prevention and containment measures versus patient-centered care for those who suffer the illness and the consequent moral distress of healthcare providers?&quot;</td></tr><tr><td>&quot;20ihafqw&quot;</td><td>1</td><td>&quot;What factors are associated with compliance with recommended behaviors during a pandemic influenza outbreak, including the role of trust, risk perception, worry, and exposure to educational campaigns and media exaggeration?&quot;</td></tr><tr><td>&quot;bac9geag&quot;</td><td>2</td><td>&quot;What are the strengths and weaknesses of pandemic influenza preparedness plans in the Asia-Pacific region and how do they compare to those in Europe?&quot;</td></tr><tr><td>&quot;zp4yv4cp&quot;</td><td>3</td><td>&quot;What are the sources of tension between population health and political power within the concept of public health, and why are these strains durable and irresolvable?&quot;</td></tr><tr><td>&quot;u5nibp17&quot;</td><td>4</td><td>&quot;What is the optimal level of quarantine and isolation needed to control the spread of COVID-19, and how does it vary with the rate of quarantine and isolation?&quot;</td></tr><tr><td>&quot;9ga0hklg&quot;</td><td>5</td><td>&quot;What is the effect of IFN-α on IFN-γ production by Vγ9Vδ2 T-cells during chronic HCV infection, and how does it improve their function capability?&quot;</td></tr><tr><td>&quot;l5441kqp&quot;</td><td>6</td><td>&quot;What are the enabling opportunities and challenges that the Internet of Things (IoT) brings to actors in the quadruple helix, including industry, government, universities, and end users?&quot;</td></tr><tr><td>&quot;zxe95qy9&quot;</td><td>7</td><td>&quot;What is the historical perspective on the use and implications of quarantine as a public health strategy for controlling epidemic diseases?&quot;</td></tr><tr><td>&quot;1uiobtjv&quot;</td><td>8</td><td>&quot;What are the epitopes recognized by the monoclonal antibodies Cys3F11 and Cys2E5 that distinguish cystatins SA1 and SA2?&quot;</td></tr><tr><td>&quot;lpjog6nt&quot;</td><td>9</td><td>&quot;What is the relationship between perioperative blood pressure control and the incidence of acute kidney injury in cardiac surgery patients?&quot;</td></tr><tr><td>&quot;sp48buak&quot;</td><td>10</td><td>&quot;What are the new technologies available for the rapid molecular identification of pathogens and the more accurate monitoring of infectious disease activity?&quot;</td></tr><tr><td>&quot;fv89vb6x&quot;</td><td>11</td><td>&quot;What is the repeatability of en face Doppler OCT measurement of total retinal blood flow using cardiac-gated acquisition compared to asynchronous acquisition and a control measurement using a 400-kHz instrument?&quot;</td></tr><tr><td>&hellip;</td><td>&hellip;</td><td>&hellip;</td></tr><tr><td>&quot;ilwmez2e&quot;</td><td>988</td><td>&quot;What is the association between ADIPOQ SNPs -11377C/G, +10211T/G, +45T/G and +276G/T and the risk towards type 2 diabetes, and what is the genotype-phenotype association of these SNPs with various biochemical parameters in two cohorts?&quot;</td></tr><tr><td>&quot;1hyeve3s&quot;</td><td>989</td><td>&quot;What is the impact of rising unemployment rates on hospital admissions for severe mental disorders in economically disadvantaged areas of Italy during the 2008 economic crisis?&quot;</td></tr><tr><td>&quot;f36smzln&quot;</td><td>990</td><td>&quot;What are the short-term consequences of lowering the reproduction number R0 and delaying measures on total infections and fatalities during COVID-19 outbreaks?&quot;</td></tr><tr><td>&quot;wrutvzmb&quot;</td><td>991</td><td>&quot;What is the new approach for estimating tool point FRFs during machining operations described in the passage and how does it differ from previous methods?&quot;</td></tr><tr><td>&quot;ryibszjm&quot;</td><td>992</td><td>&quot;What are the 9 simple questions used in the model to estimate the probability of an individual testing positive for COVID-19?&quot;</td></tr><tr><td>&quot;rjyipcfv&quot;</td><td>993</td><td>&quot;What is the antiviral activity of the synthesized quinazoline-like agent 14 against different strains of influenza viruses?&quot;</td></tr><tr><td>&quot;kbh1dyz7&quot;</td><td>994</td><td>&quot;What were the modifications made to the assignment for the 2019 class and how did it affect the students&#x27; engagement with the Intelligent Tutoring System and their assignment scores?&quot;</td></tr><tr><td>&quot;ufdd0dpk&quot;</td><td>995</td><td>&quot;What are the most salient technical aspects of laparoscopic paraesophageal hernia repair, including the closure of the crural defect with or without the addition of mesh and fundoplication to prevent reflux?&quot;</td></tr><tr><td>&quot;102hvg7k&quot;</td><td>996</td><td>&quot;What are the limitations of SELDI-TOF-MS technology and what are some possible solutions to overcome these limitations in biomarker research?&quot;</td></tr><tr><td>&quot;wgm0kflx&quot;</td><td>997</td><td>&quot;What is the function of S-palmitoylation in Chiropteran IFITM3 and what is the key molecular determinant of IFITM3 S-palmitoylation?&quot;</td></tr><tr><td>&quot;plg5qx9m&quot;</td><td>998</td><td>&quot;What is the crystal structure of RlmM and how does it relate to other 2&#x27;O-ribose methyltransferases?&quot;</td></tr><tr><td>&quot;8odz90kd&quot;</td><td>999</td><td>&quot;What is the difference in postoperative rotational and pivot-shift laxity between anatomic double-bundle anterior cruciate ligament reconstruction and nonanatomic single-bundle reconstruction?&quot;</td></tr></tbody></table></div>"
            ]
          },
          "metadata": {},
          "execution_count": 239
        }
      ]
    },
    {
      "cell_type": "markdown",
      "source": [
        "## Generating negative examples\n",
        "\n",
        "Positive training examples will be the generated queries. For the negative ones, we will use random doc_ids returned from a BM25 search using the generated queries and the original corpus.\n",
        "\n",
        "This index was already created on previous classes, so we are going to download and reuse it instead of constructing a new one."
      ],
      "metadata": {
        "id": "IGyq2YeJNIzu"
      }
    },
    {
      "cell_type": "code",
      "source": [
        "from pyserini.index.lucene import IndexReader\n",
        "from pyserini.search.lucene import LuceneSearcher"
      ],
      "metadata": {
        "id": "Ut6uoQ0YNpkc"
      },
      "execution_count": 88,
      "outputs": []
    },
    {
      "cell_type": "code",
      "source": [
        "# downloading the index\n",
        "# !gsutil ls gs://marcospiau-doc2query-aula05/runs/run.title_and_text_no_expansion.txt\n",
        "!gsutil ls gs://marcospiau-doc2query-aula05/indexes/title_and_text_no_expansion/"
      ],
      "metadata": {
        "colab": {
          "base_uri": "https://localhost:8080/"
        },
        "id": "9EPU4b9vNuJN",
        "outputId": "ad665c07-a6a2-4c80-a5cf-e7ec6cdb7a41"
      },
      "execution_count": 92,
      "outputs": [
        {
          "output_type": "stream",
          "name": "stdout",
          "text": [
            "gs://marcospiau-doc2query-aula05/indexes/title_and_text_no_expansion/_0.fdm\n",
            "gs://marcospiau-doc2query-aula05/indexes/title_and_text_no_expansion/_0.fdt\n",
            "gs://marcospiau-doc2query-aula05/indexes/title_and_text_no_expansion/_0.fdx\n",
            "gs://marcospiau-doc2query-aula05/indexes/title_and_text_no_expansion/_0.fnm\n",
            "gs://marcospiau-doc2query-aula05/indexes/title_and_text_no_expansion/_0.nvd\n",
            "gs://marcospiau-doc2query-aula05/indexes/title_and_text_no_expansion/_0.nvm\n",
            "gs://marcospiau-doc2query-aula05/indexes/title_and_text_no_expansion/_0.si\n",
            "gs://marcospiau-doc2query-aula05/indexes/title_and_text_no_expansion/_0.tvd\n",
            "gs://marcospiau-doc2query-aula05/indexes/title_and_text_no_expansion/_0.tvm\n",
            "gs://marcospiau-doc2query-aula05/indexes/title_and_text_no_expansion/_0.tvx\n",
            "gs://marcospiau-doc2query-aula05/indexes/title_and_text_no_expansion/_0_Lucene90_0.doc\n",
            "gs://marcospiau-doc2query-aula05/indexes/title_and_text_no_expansion/_0_Lucene90_0.dvd\n",
            "gs://marcospiau-doc2query-aula05/indexes/title_and_text_no_expansion/_0_Lucene90_0.dvm\n",
            "gs://marcospiau-doc2query-aula05/indexes/title_and_text_no_expansion/_0_Lucene90_0.pos\n",
            "gs://marcospiau-doc2query-aula05/indexes/title_and_text_no_expansion/_0_Lucene90_0.tim\n",
            "gs://marcospiau-doc2query-aula05/indexes/title_and_text_no_expansion/_0_Lucene90_0.tip\n",
            "gs://marcospiau-doc2query-aula05/indexes/title_and_text_no_expansion/_0_Lucene90_0.tmd\n",
            "gs://marcospiau-doc2query-aula05/indexes/title_and_text_no_expansion/segments_1\n",
            "gs://marcospiau-doc2query-aula05/indexes/title_and_text_no_expansion/write.lock\n"
          ]
        }
      ]
    },
    {
      "cell_type": "code",
      "source": [
        "!mkdir -pv indexes/title_and_text_no_expansion/\n",
        "!gsutil -m cp -nr gs://marcospiau-doc2query-aula05/indexes/title_and_text_no_expansion/ indexes/\n",
        "!tree -lht indexes"
      ],
      "metadata": {
        "colab": {
          "base_uri": "https://localhost:8080/"
        },
        "id": "_EiTCYgTOqqW",
        "outputId": "66ba96a1-dd1e-4fea-ff0d-fe0bef62dcf7"
      },
      "execution_count": 98,
      "outputs": [
        {
          "output_type": "stream",
          "name": "stdout",
          "text": [
            "mkdir: created directory 'indexes'\n",
            "mkdir: created directory 'indexes/title_and_text_no_expansion/'\n",
            "Copying gs://marcospiau-doc2query-aula05/indexes/title_and_text_no_expansion/_0.nvm...\n",
            "Copying gs://marcospiau-doc2query-aula05/indexes/title_and_text_no_expansion/_0.fdm...\n",
            "Copying gs://marcospiau-doc2query-aula05/indexes/title_and_text_no_expansion/_0.fdt...\n",
            "Copying gs://marcospiau-doc2query-aula05/indexes/title_and_text_no_expansion/_0.fdx...\n",
            "Copying gs://marcospiau-doc2query-aula05/indexes/title_and_text_no_expansion/_0.si...\n",
            "Copying gs://marcospiau-doc2query-aula05/indexes/title_and_text_no_expansion/_0.tvm...\n",
            "Copying gs://marcospiau-doc2query-aula05/indexes/title_and_text_no_expansion/_0.fnm...\n",
            "Copying gs://marcospiau-doc2query-aula05/indexes/title_and_text_no_expansion/_0.tvx...\n",
            "Copying gs://marcospiau-doc2query-aula05/indexes/title_and_text_no_expansion/_0.nvd...\n",
            "Copying gs://marcospiau-doc2query-aula05/indexes/title_and_text_no_expansion/_0.tvd...\n",
            "Copying gs://marcospiau-doc2query-aula05/indexes/title_and_text_no_expansion/_0_Lucene90_0.doc...\n",
            "Copying gs://marcospiau-doc2query-aula05/indexes/title_and_text_no_expansion/_0_Lucene90_0.dvd...\n",
            "Copying gs://marcospiau-doc2query-aula05/indexes/title_and_text_no_expansion/_0_Lucene90_0.dvm...\n",
            "Copying gs://marcospiau-doc2query-aula05/indexes/title_and_text_no_expansion/_0_Lucene90_0.pos...\n",
            "Copying gs://marcospiau-doc2query-aula05/indexes/title_and_text_no_expansion/_0_Lucene90_0.tim...\n",
            "Copying gs://marcospiau-doc2query-aula05/indexes/title_and_text_no_expansion/_0_Lucene90_0.tip...\n",
            "Copying gs://marcospiau-doc2query-aula05/indexes/title_and_text_no_expansion/_0_Lucene90_0.tmd...\n",
            "Copying gs://marcospiau-doc2query-aula05/indexes/title_and_text_no_expansion/segments_1...\n",
            "Copying gs://marcospiau-doc2query-aula05/indexes/title_and_text_no_expansion/write.lock...\n",
            "\\ [19/19 files][249.4 MiB/249.4 MiB] 100% Done                                  \n",
            "Operation completed over 19 objects/249.4 MiB.                                   \n",
            "\u001b[01;34mindexes\u001b[00m\n",
            "└── [4.0K]  \u001b[01;34mtitle_and_text_no_expansion\u001b[00m\n",
            "    ├── [ 242]  _0.fdm\n",
            "    ├── [ 10K]  _0.fdx\n",
            "    ├── [ 343]  _0.fnm\n",
            "    ├── [1.3M]  _0_Lucene90_0.dvd\n",
            "    ├── [ 133]  _0_Lucene90_0.dvm\n",
            "    ├── [3.5M]  _0_Lucene90_0.tim\n",
            "    ├── [ 80K]  _0_Lucene90_0.tip\n",
            "    ├── [ 306]  _0_Lucene90_0.tmd\n",
            "    ├── [167K]  _0.nvd\n",
            "    ├── [ 103]  _0.nvm\n",
            "    ├── [ 514]  _0.si\n",
            "    ├── [ 667]  _0.tvm\n",
            "    ├── [ 42K]  _0.tvx\n",
            "    ├── [ 154]  segments_1\n",
            "    ├── [   0]  write.lock\n",
            "    ├── [ 18M]  _0_Lucene90_0.doc\n",
            "    ├── [ 22M]  _0_Lucene90_0.pos\n",
            "    ├── [119M]  _0.fdt\n",
            "    └── [ 85M]  _0.tvd\n",
            "\n",
            "1 directory, 19 files\n"
          ]
        }
      ]
    },
    {
      "cell_type": "code",
      "source": [
        "from pyserini.index.lucene import IndexReader\n",
        "from pyserini.search.lucene import LuceneSearcher\n",
        "\n",
        "# we need the index with raw docs, not the slim one\n",
        "index_reader = IndexReader('indexes/title_and_text_no_expansion')\n",
        "searcher = LuceneSearcher('indexes/title_and_text_no_expansion')\n",
        "# BM25 default parameters (this is probably already set)\n",
        "searcher.set_bm25(0.9, 0.4)\n",
        "vars(searcher)"
      ],
      "metadata": {
        "colab": {
          "base_uri": "https://localhost:8080/"
        },
        "id": "PAJe-DQTJhxM",
        "outputId": "91f00d25-2d0a-4764-9c3d-56e2dad8a592"
      },
      "execution_count": 145,
      "outputs": [
        {
          "output_type": "execute_result",
          "data": {
            "text/plain": [
              "{'index_dir': 'indexes/title_and_text_no_expansion',\n",
              " 'object': <io.anserini.search.SimpleSearcher at 0x7fbe4dba6390 jclass=io/anserini/search/SimpleSearcher jself=<LocalRef obj=0x4cc6bf8 at 0x7fbcc538d850>>,\n",
              " 'num_docs': 171331}"
            ]
          },
          "metadata": {},
          "execution_count": 145
        }
      ]
    },
    {
      "cell_type": "code",
      "source": [
        "index_reader.stats()"
      ],
      "metadata": {
        "colab": {
          "base_uri": "https://localhost:8080/"
        },
        "id": "cvYhrhPVTAhh",
        "outputId": "85b06e90-581d-4443-dd0d-fc9c01bae2bc"
      },
      "execution_count": 146,
      "outputs": [
        {
          "output_type": "execute_result",
          "data": {
            "text/plain": [
              "{'total_terms': 20822821,\n",
              " 'documents': 171331,\n",
              " 'non_empty_documents': 171331,\n",
              " 'unique_terms': 202648}"
            ]
          },
          "metadata": {},
          "execution_count": 146
        }
      ]
    },
    {
      "cell_type": "code",
      "source": [
        "df_queries_v1.head()"
      ],
      "metadata": {
        "colab": {
          "base_uri": "https://localhost:8080/",
          "height": 341
        },
        "id": "2AxT9NeGRXxw",
        "outputId": "8c739b93-d4ae-4bdf-ae1e-4825d7b0219b"
      },
      "execution_count": 138,
      "outputs": [
        {
          "output_type": "execute_result",
          "data": {
            "text/plain": [
              "shape: (5, 3)\n",
              "┌──────────┬────────────┬──────────────────────────────────────────────────────────────────────────┐\n",
              "│ doc_id   ┆ random_key ┆ query                                                                    │\n",
              "│ ---      ┆ ---        ┆ ---                                                                      │\n",
              "│ str      ┆ i64        ┆ str                                                                      │\n",
              "╞══════════╪════════════╪══════════════════════════════════════════════════════════════════════════╡\n",
              "│ ejrcujnx ┆ 0          ┆ What are the ethical conflicts between public health-driven focus of     │\n",
              "│          ┆            ┆ Covid-19 prevention and containment measures versus patient-centered     │\n",
              "│          ┆            ┆ care for those who suffer the illness and the consequent moral distress  │\n",
              "│          ┆            ┆ of healthcare providers?                                                 │\n",
              "│ 20ihafqw ┆ 1          ┆ What factors are associated with compliance with recommended behaviors   │\n",
              "│          ┆            ┆ during a pandemic influenza outbreak, including the role of trust, risk  │\n",
              "│          ┆            ┆ perception, worry, and exposure to educational campaigns and media       │\n",
              "│          ┆            ┆ exaggeration?                                                            │\n",
              "│ bac9geag ┆ 2          ┆ What are the strengths and weaknesses of pandemic influenza preparedness │\n",
              "│          ┆            ┆ plans in the Asia-Pacific region and how do they compare to those in     │\n",
              "│          ┆            ┆ Europe?                                                                  │\n",
              "│ zp4yv4cp ┆ 3          ┆ What are the sources of tension between population health and political  │\n",
              "│          ┆            ┆ power within the concept of public health, and why are these strains     │\n",
              "│          ┆            ┆ durable and irresolvable?                                                │\n",
              "│ u5nibp17 ┆ 4          ┆ What is the optimal level of quarantine and isolation needed to control  │\n",
              "│          ┆            ┆ the spread of COVID-19, and how does it vary with the rate of quarantine │\n",
              "│          ┆            ┆ and isolation?                                                           │\n",
              "└──────────┴────────────┴──────────────────────────────────────────────────────────────────────────┘"
            ],
            "text/html": [
              "<div><style>\n",
              ".dataframe > thead > tr > th,\n",
              ".dataframe > tbody > tr > td {\n",
              "  text-align: right;\n",
              "}\n",
              "</style>\n",
              "<small>shape: (5, 3)</small><table border=\"1\" class=\"dataframe\"><thead><tr><th>doc_id</th><th>random_key</th><th>query</th></tr><tr><td>str</td><td>i64</td><td>str</td></tr></thead><tbody><tr><td>&quot;ejrcujnx&quot;</td><td>0</td><td>&quot;What are the ethical conflicts between public health-driven focus of Covid-19 prevention and containment measures versus patient-centered care for those who suffer the illness and the consequent moral distress of healthcare providers?&quot;</td></tr><tr><td>&quot;20ihafqw&quot;</td><td>1</td><td>&quot;What factors are associated with compliance with recommended behaviors during a pandemic influenza outbreak, including the role of trust, risk perception, worry, and exposure to educational campaigns and media exaggeration?&quot;</td></tr><tr><td>&quot;bac9geag&quot;</td><td>2</td><td>&quot;What are the strengths and weaknesses of pandemic influenza preparedness plans in the Asia-Pacific region and how do they compare to those in Europe?&quot;</td></tr><tr><td>&quot;zp4yv4cp&quot;</td><td>3</td><td>&quot;What are the sources of tension between population health and political power within the concept of public health, and why are these strains durable and irresolvable?&quot;</td></tr><tr><td>&quot;u5nibp17&quot;</td><td>4</td><td>&quot;What is the optimal level of quarantine and isolation needed to control the spread of COVID-19, and how does it vary with the rate of quarantine and isolation?&quot;</td></tr></tbody></table></div>"
            ]
          },
          "metadata": {},
          "execution_count": 138
        }
      ]
    },
    {
      "cell_type": "code",
      "source": [
        "df_queries_v1.to_dicts()[0]"
      ],
      "metadata": {
        "colab": {
          "base_uri": "https://localhost:8080/"
        },
        "id": "9djahA2ScpE0",
        "outputId": "43b6f744-35be-4352-cdf8-5349f2597ec4"
      },
      "execution_count": 197,
      "outputs": [
        {
          "output_type": "execute_result",
          "data": {
            "text/plain": [
              "{'doc_id': 'ejrcujnx',\n",
              " 'random_key': 0,\n",
              " 'query': 'What are the ethical conflicts between public health-driven focus of Covid-19 prevention and containment measures versus patient-centered care for those who suffer the illness and the consequent moral distress of healthcare providers?'}"
            ]
          },
          "metadata": {},
          "execution_count": 197
        }
      ]
    },
    {
      "cell_type": "code",
      "source": [
        "%%time\n",
        "def get_negative_doc_ids(doc_id, query, searcher, k=1000,\n",
        "                         seed=DEFAULT_RANDOM_SEED, **_):\n",
        "    results = [\n",
        "        (x.docid, x.score)\n",
        "        for x in searcher.search(query, k=k+1)\n",
        "        # we dont want to use the same doc_id both as\n",
        "        # both positive and negative examples\n",
        "        if x.docid != doc_id\n",
        "    ]\n",
        "    random.Random(seed).shuffle(results)\n",
        "    out = [x[0] for x in results[:k]]\n",
        "    return out\n",
        "\n",
        "    \n",
        "get_negative_doc_ids_partial = functools.partial(\n",
        "    get_negative_doc_ids,\n",
        "    searcher=searcher,\n",
        "    k=1000\n",
        ")\n",
        "\n",
        "def add_negative_doc_ids_to_df(df, fn):\n",
        "    df = df.with_columns(\n",
        "        df.to_struct('_')\n",
        "        .apply(lambda x: fn(**x)).alias( 'negative_doc_ids'))\n",
        "    return df\n",
        "\n",
        "add_negative_doc_ids_to_df(df_queries_v1.head(), get_negative_doc_ids_partial)"
      ],
      "metadata": {
        "colab": {
          "base_uri": "https://localhost:8080/",
          "height": 393
        },
        "id": "3nyKAD8kbIeP",
        "outputId": "b118c0ab-e251-4e7e-a480-bf5d8e5462a0"
      },
      "execution_count": 263,
      "outputs": [
        {
          "output_type": "stream",
          "name": "stdout",
          "text": [
            "CPU times: user 546 ms, sys: 829 µs, total: 547 ms\n",
            "Wall time: 549 ms\n"
          ]
        },
        {
          "output_type": "execute_result",
          "data": {
            "text/plain": [
              "shape: (5, 4)\n",
              "┌──────────┬────────────┬─────────────────────────────────────────────┬────────────────────────────┐\n",
              "│ doc_id   ┆ random_key ┆ query                                       ┆ negative_doc_ids           │\n",
              "│ ---      ┆ ---        ┆ ---                                         ┆ ---                        │\n",
              "│ str      ┆ i64        ┆ str                                         ┆ list[str]                  │\n",
              "╞══════════╪════════════╪═════════════════════════════════════════════╪════════════════════════════╡\n",
              "│ ejrcujnx ┆ 0          ┆ What are the ethical conflicts between      ┆ [\"qe0vxmox\", \"82gaerf4\", … │\n",
              "│          ┆            ┆ public health-driven focus of Covid-19      ┆ \"f8h9hlks\"]                │\n",
              "│          ┆            ┆ prevention and containment measures versus  ┆                            │\n",
              "│          ┆            ┆ patient-centered care for those who suffer  ┆                            │\n",
              "│          ┆            ┆ the illness and the consequent moral        ┆                            │\n",
              "│          ┆            ┆ distress of healthcare providers?           ┆                            │\n",
              "│ 20ihafqw ┆ 1          ┆ What factors are associated with compliance ┆ [\"ajnyt1km\", \"6w7ng885\", … │\n",
              "│          ┆            ┆ with recommended behaviors during a         ┆ \"asercjr3\"]                │\n",
              "│          ┆            ┆ pandemic influenza outbreak, including the  ┆                            │\n",
              "│          ┆            ┆ role of trust, risk perception, worry, and  ┆                            │\n",
              "│          ┆            ┆ exposure to educational campaigns and media ┆                            │\n",
              "│          ┆            ┆ exaggeration?                               ┆                            │\n",
              "│ bac9geag ┆ 2          ┆ What are the strengths and weaknesses of    ┆ [\"q5pke4tw\", \"05czlqp2\", … │\n",
              "│          ┆            ┆ pandemic influenza preparedness plans in    ┆ \"zf7jd3qk\"]                │\n",
              "│          ┆            ┆ the Asia-Pacific region and how do they     ┆                            │\n",
              "│          ┆            ┆ compare to those in Europe?                 ┆                            │\n",
              "│ zp4yv4cp ┆ 3          ┆ What are the sources of tension between     ┆ [\"7jj00r66\", \"nfz8w8na\", … │\n",
              "│          ┆            ┆ population health and political power       ┆ \"nczeiqmb\"]                │\n",
              "│          ┆            ┆ within the concept of public health, and    ┆                            │\n",
              "│          ┆            ┆ why are these strains durable and           ┆                            │\n",
              "│          ┆            ┆ irresolvable?                               ┆                            │\n",
              "│ u5nibp17 ┆ 4          ┆ What is the optimal level of quarantine and ┆ [\"hilf0r9t\", \"26s2anvp\", … │\n",
              "│          ┆            ┆ isolation needed to control the spread of   ┆ \"v99vlnox\"]                │\n",
              "│          ┆            ┆ COVID-19, and how does it vary with the     ┆                            │\n",
              "│          ┆            ┆ rate of quarantine and isolation?           ┆                            │\n",
              "└──────────┴────────────┴─────────────────────────────────────────────┴────────────────────────────┘"
            ],
            "text/html": [
              "<div><style>\n",
              ".dataframe > thead > tr > th,\n",
              ".dataframe > tbody > tr > td {\n",
              "  text-align: right;\n",
              "}\n",
              "</style>\n",
              "<small>shape: (5, 4)</small><table border=\"1\" class=\"dataframe\"><thead><tr><th>doc_id</th><th>random_key</th><th>query</th><th>negative_doc_ids</th></tr><tr><td>str</td><td>i64</td><td>str</td><td>list[str]</td></tr></thead><tbody><tr><td>&quot;ejrcujnx&quot;</td><td>0</td><td>&quot;What are the ethical conflicts between public health-driven focus of Covid-19 prevention and containment measures versus patient-centered care for those who suffer the illness and the consequent moral distress of healthcare providers?&quot;</td><td>[&quot;qe0vxmox&quot;, &quot;82gaerf4&quot;, … &quot;f8h9hlks&quot;]</td></tr><tr><td>&quot;20ihafqw&quot;</td><td>1</td><td>&quot;What factors are associated with compliance with recommended behaviors during a pandemic influenza outbreak, including the role of trust, risk perception, worry, and exposure to educational campaigns and media exaggeration?&quot;</td><td>[&quot;ajnyt1km&quot;, &quot;6w7ng885&quot;, … &quot;asercjr3&quot;]</td></tr><tr><td>&quot;bac9geag&quot;</td><td>2</td><td>&quot;What are the strengths and weaknesses of pandemic influenza preparedness plans in the Asia-Pacific region and how do they compare to those in Europe?&quot;</td><td>[&quot;q5pke4tw&quot;, &quot;05czlqp2&quot;, … &quot;zf7jd3qk&quot;]</td></tr><tr><td>&quot;zp4yv4cp&quot;</td><td>3</td><td>&quot;What are the sources of tension between population health and political power within the concept of public health, and why are these strains durable and irresolvable?&quot;</td><td>[&quot;7jj00r66&quot;, &quot;nfz8w8na&quot;, … &quot;nczeiqmb&quot;]</td></tr><tr><td>&quot;u5nibp17&quot;</td><td>4</td><td>&quot;What is the optimal level of quarantine and isolation needed to control the spread of COVID-19, and how does it vary with the rate of quarantine and isolation?&quot;</td><td>[&quot;hilf0r9t&quot;, &quot;26s2anvp&quot;, … &quot;v99vlnox&quot;]</td></tr></tbody></table></div>"
            ]
          },
          "metadata": {},
          "execution_count": 263
        }
      ]
    },
    {
      "cell_type": "code",
      "source": [
        "%%time\n",
        "df_queries_v1 = add_negative_doc_ids_to_df(df_queries_v1, get_negative_doc_ids_partial)\n",
        "df_queries_v1.head()"
      ],
      "metadata": {
        "colab": {
          "base_uri": "https://localhost:8080/",
          "height": 393
        },
        "id": "4yNHUvMEgU1s",
        "outputId": "ace6012c-c120-440b-8c49-7f5cd5748d9f"
      },
      "execution_count": 264,
      "outputs": [
        {
          "output_type": "stream",
          "name": "stdout",
          "text": [
            "CPU times: user 1min 49s, sys: 185 ms, total: 1min 49s\n",
            "Wall time: 1min 50s\n"
          ]
        },
        {
          "output_type": "execute_result",
          "data": {
            "text/plain": [
              "shape: (5, 4)\n",
              "┌──────────┬────────────┬─────────────────────────────────────────────┬────────────────────────────┐\n",
              "│ doc_id   ┆ random_key ┆ query                                       ┆ negative_doc_ids           │\n",
              "│ ---      ┆ ---        ┆ ---                                         ┆ ---                        │\n",
              "│ str      ┆ i64        ┆ str                                         ┆ list[str]                  │\n",
              "╞══════════╪════════════╪═════════════════════════════════════════════╪════════════════════════════╡\n",
              "│ ejrcujnx ┆ 0          ┆ What are the ethical conflicts between      ┆ [\"qe0vxmox\", \"82gaerf4\", … │\n",
              "│          ┆            ┆ public health-driven focus of Covid-19      ┆ \"f8h9hlks\"]                │\n",
              "│          ┆            ┆ prevention and containment measures versus  ┆                            │\n",
              "│          ┆            ┆ patient-centered care for those who suffer  ┆                            │\n",
              "│          ┆            ┆ the illness and the consequent moral        ┆                            │\n",
              "│          ┆            ┆ distress of healthcare providers?           ┆                            │\n",
              "│ 20ihafqw ┆ 1          ┆ What factors are associated with compliance ┆ [\"ajnyt1km\", \"6w7ng885\", … │\n",
              "│          ┆            ┆ with recommended behaviors during a         ┆ \"asercjr3\"]                │\n",
              "│          ┆            ┆ pandemic influenza outbreak, including the  ┆                            │\n",
              "│          ┆            ┆ role of trust, risk perception, worry, and  ┆                            │\n",
              "│          ┆            ┆ exposure to educational campaigns and media ┆                            │\n",
              "│          ┆            ┆ exaggeration?                               ┆                            │\n",
              "│ bac9geag ┆ 2          ┆ What are the strengths and weaknesses of    ┆ [\"q5pke4tw\", \"05czlqp2\", … │\n",
              "│          ┆            ┆ pandemic influenza preparedness plans in    ┆ \"zf7jd3qk\"]                │\n",
              "│          ┆            ┆ the Asia-Pacific region and how do they     ┆                            │\n",
              "│          ┆            ┆ compare to those in Europe?                 ┆                            │\n",
              "│ zp4yv4cp ┆ 3          ┆ What are the sources of tension between     ┆ [\"7jj00r66\", \"nfz8w8na\", … │\n",
              "│          ┆            ┆ population health and political power       ┆ \"nczeiqmb\"]                │\n",
              "│          ┆            ┆ within the concept of public health, and    ┆                            │\n",
              "│          ┆            ┆ why are these strains durable and           ┆                            │\n",
              "│          ┆            ┆ irresolvable?                               ┆                            │\n",
              "│ u5nibp17 ┆ 4          ┆ What is the optimal level of quarantine and ┆ [\"hilf0r9t\", \"26s2anvp\", … │\n",
              "│          ┆            ┆ isolation needed to control the spread of   ┆ \"v99vlnox\"]                │\n",
              "│          ┆            ┆ COVID-19, and how does it vary with the     ┆                            │\n",
              "│          ┆            ┆ rate of quarantine and isolation?           ┆                            │\n",
              "└──────────┴────────────┴─────────────────────────────────────────────┴────────────────────────────┘"
            ],
            "text/html": [
              "<div><style>\n",
              ".dataframe > thead > tr > th,\n",
              ".dataframe > tbody > tr > td {\n",
              "  text-align: right;\n",
              "}\n",
              "</style>\n",
              "<small>shape: (5, 4)</small><table border=\"1\" class=\"dataframe\"><thead><tr><th>doc_id</th><th>random_key</th><th>query</th><th>negative_doc_ids</th></tr><tr><td>str</td><td>i64</td><td>str</td><td>list[str]</td></tr></thead><tbody><tr><td>&quot;ejrcujnx&quot;</td><td>0</td><td>&quot;What are the ethical conflicts between public health-driven focus of Covid-19 prevention and containment measures versus patient-centered care for those who suffer the illness and the consequent moral distress of healthcare providers?&quot;</td><td>[&quot;qe0vxmox&quot;, &quot;82gaerf4&quot;, … &quot;f8h9hlks&quot;]</td></tr><tr><td>&quot;20ihafqw&quot;</td><td>1</td><td>&quot;What factors are associated with compliance with recommended behaviors during a pandemic influenza outbreak, including the role of trust, risk perception, worry, and exposure to educational campaigns and media exaggeration?&quot;</td><td>[&quot;ajnyt1km&quot;, &quot;6w7ng885&quot;, … &quot;asercjr3&quot;]</td></tr><tr><td>&quot;bac9geag&quot;</td><td>2</td><td>&quot;What are the strengths and weaknesses of pandemic influenza preparedness plans in the Asia-Pacific region and how do they compare to those in Europe?&quot;</td><td>[&quot;q5pke4tw&quot;, &quot;05czlqp2&quot;, … &quot;zf7jd3qk&quot;]</td></tr><tr><td>&quot;zp4yv4cp&quot;</td><td>3</td><td>&quot;What are the sources of tension between population health and political power within the concept of public health, and why are these strains durable and irresolvable?&quot;</td><td>[&quot;7jj00r66&quot;, &quot;nfz8w8na&quot;, … &quot;nczeiqmb&quot;]</td></tr><tr><td>&quot;u5nibp17&quot;</td><td>4</td><td>&quot;What is the optimal level of quarantine and isolation needed to control the spread of COVID-19, and how does it vary with the rate of quarantine and isolation?&quot;</td><td>[&quot;hilf0r9t&quot;, &quot;26s2anvp&quot;, … &quot;v99vlnox&quot;]</td></tr></tbody></table></div>"
            ]
          },
          "metadata": {},
          "execution_count": 264
        }
      ]
    },
    {
      "cell_type": "markdown",
      "source": [
        "All examples have 1_0000 negative examples:"
      ],
      "metadata": {
        "id": "S3YBGP-FtNVP"
      }
    },
    {
      "cell_type": "code",
      "source": [
        "df_queries_v1.select(pl.col('negative_doc_ids').arr.lengths().value_counts())"
      ],
      "metadata": {
        "colab": {
          "base_uri": "https://localhost:8080/",
          "height": 129
        },
        "id": "1J9kDXT6tKr8",
        "outputId": "4c2454ac-e8d1-480c-83db-d5697afaa860"
      },
      "execution_count": 277,
      "outputs": [
        {
          "output_type": "execute_result",
          "data": {
            "text/plain": [
              "shape: (1, 1)\n",
              "┌──────────────────┐\n",
              "│ negative_doc_ids │\n",
              "│ ---              │\n",
              "│ struct[2]        │\n",
              "╞══════════════════╡\n",
              "│ {1000,1000}      │\n",
              "└──────────────────┘"
            ],
            "text/html": [
              "<div><style>\n",
              ".dataframe > thead > tr > th,\n",
              ".dataframe > tbody > tr > td {\n",
              "  text-align: right;\n",
              "}\n",
              "</style>\n",
              "<small>shape: (1, 1)</small><table border=\"1\" class=\"dataframe\"><thead><tr><th>negative_doc_ids</th></tr><tr><td>struct[2]</td></tr></thead><tbody><tr><td>{1000,1000}</td></tr></tbody></table></div>"
            ]
          },
          "metadata": {},
          "execution_count": 277
        }
      ]
    },
    {
      "cell_type": "code",
      "source": [
        "df_queries_v1.write_ipc('aula08-inpars/synthetic-data-generation/df_queries_v1.arrow')\n",
        "!ls -lht aula08-inpars/synthetic-data-generation/"
      ],
      "metadata": {
        "colab": {
          "base_uri": "https://localhost:8080/"
        },
        "id": "JYEQwImSo-GY",
        "outputId": "71f27811-de1d-431a-fddd-e9183e4d73b4"
      },
      "execution_count": 269,
      "outputs": [
        {
          "output_type": "stream",
          "name": "stdout",
          "text": [
            "total 211M\n",
            "-rw-r--r-- 1 root root  16M May  3 17:40 df_queries_v1.arrow\n",
            "-rw-r--r-- 1 root root  11M May  3 17:37 marcospiau_1k_v1.jsonl\n",
            "-rw-r--r-- 1 root root 2.1M May  3 14:22 cache_dict_v1.pickle\n",
            "-rw-r--r-- 1 root root 460K May  3 14:22 raw_responses_v1.pickle\n",
            "-rw-r--r-- 1 root root 182M May  3 13:28 df_base_prompt.arrow\n"
          ]
        }
      ]
    },
    {
      "cell_type": "markdown",
      "source": [
        "Formatting the file that will be sent to our HuggingFace Dataset:"
      ],
      "metadata": {
        "id": "YbWDQoyUpHfh"
      }
    },
    {
      "cell_type": "code",
      "source": [
        "df_queries_v1_hf = df_queries_v1.select(\n",
        "    pl.col('doc_id').alias('positive_doc_id'),\n",
        "    'query',\n",
        "    'negative_doc_ids'\n",
        ")\n",
        "df_queries_v1_hf.head()"
      ],
      "metadata": {
        "colab": {
          "base_uri": "https://localhost:8080/",
          "height": 341
        },
        "id": "Zu8AxvuwpLM3",
        "outputId": "344e9e7b-a49b-4974-ae69-43ac1444e018"
      },
      "execution_count": 270,
      "outputs": [
        {
          "output_type": "execute_result",
          "data": {
            "text/plain": [
              "shape: (5, 3)\n",
              "┌─────────────────┬───────────────────────────────────────────────────┬────────────────────────────┐\n",
              "│ positive_doc_id ┆ query                                             ┆ negative_doc_ids           │\n",
              "│ ---             ┆ ---                                               ┆ ---                        │\n",
              "│ str             ┆ str                                               ┆ list[str]                  │\n",
              "╞═════════════════╪═══════════════════════════════════════════════════╪════════════════════════════╡\n",
              "│ ejrcujnx        ┆ What are the ethical conflicts between public     ┆ [\"qe0vxmox\", \"82gaerf4\", … │\n",
              "│                 ┆ health-driven focus of Covid-19 prevention and    ┆ \"f8h9hlks\"]                │\n",
              "│                 ┆ containment measures versus patient-centered care ┆                            │\n",
              "│                 ┆ for those who suffer the illness and the          ┆                            │\n",
              "│                 ┆ consequent moral distress of healthcare           ┆                            │\n",
              "│                 ┆ providers?                                        ┆                            │\n",
              "│ 20ihafqw        ┆ What factors are associated with compliance with  ┆ [\"ajnyt1km\", \"6w7ng885\", … │\n",
              "│                 ┆ recommended behaviors during a pandemic influenza ┆ \"asercjr3\"]                │\n",
              "│                 ┆ outbreak, including the role of trust, risk       ┆                            │\n",
              "│                 ┆ perception, worry, and exposure to educational    ┆                            │\n",
              "│                 ┆ campaigns and media exaggeration?                 ┆                            │\n",
              "│ bac9geag        ┆ What are the strengths and weaknesses of pandemic ┆ [\"q5pke4tw\", \"05czlqp2\", … │\n",
              "│                 ┆ influenza preparedness plans in the Asia-Pacific  ┆ \"zf7jd3qk\"]                │\n",
              "│                 ┆ region and how do they compare to those in        ┆                            │\n",
              "│                 ┆ Europe?                                           ┆                            │\n",
              "│ zp4yv4cp        ┆ What are the sources of tension between           ┆ [\"7jj00r66\", \"nfz8w8na\", … │\n",
              "│                 ┆ population health and political power within the  ┆ \"nczeiqmb\"]                │\n",
              "│                 ┆ concept of public health, and why are these       ┆                            │\n",
              "│                 ┆ strains durable and irresolvable?                 ┆                            │\n",
              "│ u5nibp17        ┆ What is the optimal level of quarantine and       ┆ [\"hilf0r9t\", \"26s2anvp\", … │\n",
              "│                 ┆ isolation needed to control the spread of         ┆ \"v99vlnox\"]                │\n",
              "│                 ┆ COVID-19, and how does it vary with the rate of   ┆                            │\n",
              "│                 ┆ quarantine and isolation?                         ┆                            │\n",
              "└─────────────────┴───────────────────────────────────────────────────┴────────────────────────────┘"
            ],
            "text/html": [
              "<div><style>\n",
              ".dataframe > thead > tr > th,\n",
              ".dataframe > tbody > tr > td {\n",
              "  text-align: right;\n",
              "}\n",
              "</style>\n",
              "<small>shape: (5, 3)</small><table border=\"1\" class=\"dataframe\"><thead><tr><th>positive_doc_id</th><th>query</th><th>negative_doc_ids</th></tr><tr><td>str</td><td>str</td><td>list[str]</td></tr></thead><tbody><tr><td>&quot;ejrcujnx&quot;</td><td>&quot;What are the ethical conflicts between public health-driven focus of Covid-19 prevention and containment measures versus patient-centered care for those who suffer the illness and the consequent moral distress of healthcare providers?&quot;</td><td>[&quot;qe0vxmox&quot;, &quot;82gaerf4&quot;, … &quot;f8h9hlks&quot;]</td></tr><tr><td>&quot;20ihafqw&quot;</td><td>&quot;What factors are associated with compliance with recommended behaviors during a pandemic influenza outbreak, including the role of trust, risk perception, worry, and exposure to educational campaigns and media exaggeration?&quot;</td><td>[&quot;ajnyt1km&quot;, &quot;6w7ng885&quot;, … &quot;asercjr3&quot;]</td></tr><tr><td>&quot;bac9geag&quot;</td><td>&quot;What are the strengths and weaknesses of pandemic influenza preparedness plans in the Asia-Pacific region and how do they compare to those in Europe?&quot;</td><td>[&quot;q5pke4tw&quot;, &quot;05czlqp2&quot;, … &quot;zf7jd3qk&quot;]</td></tr><tr><td>&quot;zp4yv4cp&quot;</td><td>&quot;What are the sources of tension between population health and political power within the concept of public health, and why are these strains durable and irresolvable?&quot;</td><td>[&quot;7jj00r66&quot;, &quot;nfz8w8na&quot;, … &quot;nczeiqmb&quot;]</td></tr><tr><td>&quot;u5nibp17&quot;</td><td>&quot;What is the optimal level of quarantine and isolation needed to control the spread of COVID-19, and how does it vary with the rate of quarantine and isolation?&quot;</td><td>[&quot;hilf0r9t&quot;, &quot;26s2anvp&quot;, … &quot;v99vlnox&quot;]</td></tr></tbody></table></div>"
            ]
          },
          "metadata": {},
          "execution_count": 270
        }
      ]
    },
    {
      "cell_type": "code",
      "source": [
        "df_queries_v1_hf.write_ndjson('aula08-inpars/synthetic-data-generation/marcospiau_1k_v1.jsonl')\n",
        "!ls -lht aula08-inpars/synthetic-data-generation/"
      ],
      "metadata": {
        "colab": {
          "base_uri": "https://localhost:8080/"
        },
        "id": "0YFQiA22pZdl",
        "outputId": "5ebece52-0e4e-498d-80f3-34bc9cf84711"
      },
      "execution_count": 271,
      "outputs": [
        {
          "output_type": "stream",
          "name": "stdout",
          "text": [
            "total 211M\n",
            "-rw-r--r-- 1 root root  11M May  3 17:40 marcospiau_1k_v1.jsonl\n",
            "-rw-r--r-- 1 root root  16M May  3 17:40 df_queries_v1.arrow\n",
            "-rw-r--r-- 1 root root 2.1M May  3 14:22 cache_dict_v1.pickle\n",
            "-rw-r--r-- 1 root root 460K May  3 14:22 raw_responses_v1.pickle\n",
            "-rw-r--r-- 1 root root 182M May  3 13:28 df_base_prompt.arrow\n"
          ]
        }
      ]
    },
    {
      "cell_type": "code",
      "source": [
        "!head aula08-inpars/synthetic-data-generation/*.jsonl\n",
        "!ls -lht aula08-inpars/synthetic-data-generation/*.jsonl\n",
        "!wc -l aula08-inpars/synthetic-data-generation/*.jsonl\n"
      ],
      "metadata": {
        "colab": {
          "base_uri": "https://localhost:8080/"
        },
        "id": "RTyR4VMMpraV",
        "outputId": "52e06c66-8203-4643-e6b5-316cc935cfff"
      },
      "execution_count": null,
      "outputs": [
        {
          "output_type": "stream",
          "name": "stdout",
          "text": [
            "{\"positive_doc_id\":\"ejrcujnx\",\"query\":\"What are the ethical conflicts between public health-driven focus of Covid-19 prevention and containment measures versus patient-centered care for those who suffer the illness and the consequent moral distress of healthcare providers?\",\"negative_doc_ids\":[\"qe0vxmox\",\"82gaerf4\",\"y6ntkpal\",\"1g2fgsdy\",\"j74bejgi\",\"rlqxmf1l\",\"eham6trt\",\"phao3mlj\",\"t8165mdx\",\"xsb56aj6\",\"ucc6owat\",\"1sngodb6\",\"bcd0y9c1\",\"rvyoaqy8\",\"4woc4d1q\",\"no8bgglk\",\"9b4dxdyr\",\"3ehzct6i\",\"kshjqsdj\",\"crfn58c8\",\"3msnnoj6\",\"w1870ayn\",\"dzmbfp2g\",\"hr28qy4t\",\"7incf20e\",\"nfg613c9\",\"fqp9wqgm\",\"2nqava5a\",\"mbs0mddg\",\"ey2djr28\",\"n5s44u3c\",\"8w3xyfvw\",\"pnzxkkmx\",\"doyscgbx\",\"9erjf8rk\",\"8gfvsku2\",\"wahcfox7\",\"wvfm8y72\",\"zmpbp4nk\",\"wbbotohj\",\"7hqn997j\",\"dgvgi270\",\"jkmihpt5\",\"d6zwg2lp\",\"45xycxxd\",\"3xfhjddg\",\"d7zsw2yx\",\"poxr7vzb\",\"hax4pdvh\",\"tvs1snq8\",\"tuk1l0b4\",\"2a12nsnl\",\"8wxkrv6h\",\"4ccluw7p\",\"4kf9mgy8\",\"awbl4bxg\",\"k9257jaa\",\"nz0ylacz\",\"0btb65c5\",\"ix9x25sc\",\"jb7kdabi\",\"mof6nazf\",\"rugijb30\",\"e544gdzx\",\"1q8tqeg7\",\"hje8jkpq\",\"6mzowtji\",\"zcdvql6t\",\"s6pwpsay\",\"m4lq45ru\",\"h1ywhuwh\",\"a7yq1zu0\",\"hrbh4czx\",\"6sery0b2\",\"p954kmcd\",\"9sm7iz5x\",\"lzkk37u1\",\"q2xjx56v\",\"7jxwn2y6\",\"j2bel3i3\",\"7t2mu13s\",\"h13v8i14\",\"cwtdkylo\",\"i2h0swu7\",\"jjb20xa1\",\"k4y6t0i5\",\"jslfu3qt\",\"d7jmakcj\",\"pl9bud2e\",\"v917ga9t\",\"5rfsffdx\",\"9lyxc951\",\"019rcbpg\",\"5gvr2hsq\",\"dppwztcg\",\"f4e7ucxv\",\"n5d40q81\",\"bvpyom24\",\"w261bfjv\",\"fs2xox7j\",\"jwa2gkb9\",\"grilber1\",\"a0y23kdm\",\"kbwnhqmw\",\"m6poosn3\",\"shqavwpf\",\"bu6wobmy\",\"dtd1zheh\",\"ps4w8te8\",\"y3snte9a\",\"c5y77x1c\",\"drlj2ps4\",\"1zbrq8gi\",\"8dl4d2se\",\"ca7wvjp8\",\"uz4407as\",\"deas7kr0\",\"yro3xoh4\",\"8fhpsn4n\",\"6iv1ag57\",\"ky33ju30\",\"wif0te3w\",\"ma3ndg41\",\"4ea77hqx\",\"lv5w32p1\",\"4ay37pru\",\"5o12olsu\",\"f6jznntd\",\"woscjkii\",\"s58sd8e4\",\"aldyvi08\",\"k5wgizj2\",\"q0ubeurh\",\"1easwkry\",\"azt39js9\",\"uj8gwfdo\",\"afa6aucu\",\"9659rpgy\",\"g8saag2o\",\"mspd1yjc\",\"44tjfttb\",\"c79lt4iv\",\"yprrds5y\",\"c28kz9c4\",\"7cpuuep4\",\"ob5100fe\",\"mwj2qby4\",\"nrhru1ds\",\"pir3xmbw\",\"qm0yuzuh\",\"2japddyn\",\"du9lzlji\",\"hcd34m7b\",\"3vo7ajp0\",\"vw4b9xmg\",\"p4taftq4\",\"p077nn3o\",\"qgjr8ldx\",\"rp7eoonp\",\"9pn6f6g7\",\"7apdkxx6\",\"yj1qdve8\",\"hw31ojox\",\"wttjgayr\",\"6ngxo8ff\",\"lm18i64j\",\"72jtf4jo\",\"brurrmi4\",\"8bytwb8w\",\"j7vuoer6\",\"kcrmi3x8\",\"aplbtvfd\",\"zzpw375i\",\"sbw1yn1s\",\"8uxkz6bv\",\"toizrp89\",\"e64k5nl8\",\"a74dta6h\",\"22iripr9\",\"vuo9m0lz\",\"xxu5e5t1\",\"1y8zigag\",\"6mxpmjnv\",\"0yc0tdqb\",\"huleu7g1\",\"tnp0lrrh\",\"836k814s\",\"3jwl97qb\",\"tg0s6ko8\",\"vj2z52vg\",\"ytqppfwq\",\"p67ahia4\",\"mudxyy68\",\"6i0bmnee\",\"4i1djfn9\",\"fbn5asf3\",\"efwuy8p9\",\"oaz5wbzs\",\"1hdjn5gb\",\"de2aimuj\",\"tsms3303\",\"azlajqbe\",\"cwdwlr75\",\"vk5xy3zn\",\"i1gdsiw6\",\"844229sb\",\"x9ehr5zj\",\"7jxt6diq\",\"p5ixvjd7\",\"quoa363m\",\"sx2llame\",\"vvta72f6\",\"skkng2le\",\"2u5zxc2i\",\"218gezdv\",\"usv8b1n2\",\"d19xv5f2\",\"7fjnf2fq\",\"ut1kzurw\",\"2rthuz6z\",\"qzxvh2qc\",\"rftvrs8w\",\"mwrm2umq\",\"ce4p827u\",\"863m07vh\",\"62s3cxv8\",\"vl5zhxyh\",\"pzmo4hja\",\"22ioujwl\",\"ljx13yd6\",\"324jgy1r\",\"bmerwxww\",\"m5vi6a3s\",\"lx7m9swa\",\"gz2qv4m6\",\"o1yfuwoy\",\"r7mlpmtx\",\"0372rzji\",\"707hxl1f\",\"qc6zx0x9\",\"zm7odfnj\",\"6k4brmx2\",\"dposqujy\",\"we9oekt4\",\"10kejwwx\",\"k41xro7c\",\"h2tcrh1q\",\"lqpt64ub\",\"7zx3quwp\",\"rrbw8mdk\",\"k14j47h2\",\"28znb322\",\"hejqgfys\",\"x7or04u6\",\"exmpexrw\",\"wls59o2w\",\"wydt1ykq\",\"jpm8regt\",\"nyg4iu4q\",\"dxqqfr90\",\"fj21uirr\",\"kkse855d\",\"drrrstgr\",\"zndtddty\",\"wp0q6n1t\",\"jtn9d0d6\",\"iohvj16d\",\"fhvkxpyf\",\"9gxmaiwc\",\"y79qarkr\",\"7njssonw\",\"pws42iay\",\"lj2iu7z0\",\"cmw0lgpd\",\"y7b0u82k\",\"kf0jtqwl\",\"xx2i5c5m\",\"212qr1rw\",\"lhm59gxa\",\"vmgzta92\",\"8c87geuy\",\"rm97dlvk\",\"ajqbljai\",\"7glw6pir\",\"yfai0izm\",\"kafyojiq\",\"cl64kf3p\",\"qud4bj12\",\"0c1gbrqe\",\"7mts2lk4\",\"p3uord42\",\"42pjc0lo\",\"dfkz4f4j\",\"e95ijdwf\",\"y545606n\",\"rdktog3q\",\"abzpfdcu\",\"sjq9ldo9\",\"8slrecps\",\"52tyduwr\",\"nlow8b8e\",\"c6enz5dt\",\"ptutkd6o\",\"h72v5o8u\",\"ejg393zs\",\"lrf0whrs\",\"e841wdeu\",\"c7fnqe07\",\"nforhbjz\",\"4kh1otrs\",\"4mxf5bp2\",\"me9ie5u7\",\"tva9akex\",\"ddulfe06\",\"t0blvz92\",\"ha9843d4\",\"yr9tzccr\",\"1ui0p8eu\",\"l79456c0\",\"2onxj1oe\",\"qvay40pd\",\"nakss8ag\",\"4r44ww59\",\"snz9gkhh\",\"ue489rpx\",\"2g0obbqp\",\"b31sbem1\",\"5rdmnnsa\",\"erxxs1a7\",\"elbjs7ft\",\"6lql1m5m\",\"4k58f2cb\",\"9t5pmon1\",\"s91sz7c0\",\"gy90nvir\",\"qqqu1adu\",\"xtoem66z\",\"efyctlss\",\"1p1917my\",\"euv03cul\",\"c7weqc03\",\"tj8fxw94\",\"med3c01q\",\"19wkwldb\",\"2f1h4h3b\",\"g22orr8h\",\"he209wn8\",\"vllhhi1k\",\"it3ubxdw\",\"yt0lafin\",\"bqf43ttw\",\"loavg6d8\",\"ae241pmd\",\"aosmo568\",\"czoul5o8\",\"y8zosieg\",\"4extn9is\",\"uhg196fy\",\"suh39ld4\",\"qozj69iw\",\"56rkl17j\",\"m38sr6oc\",\"79py0wjm\",\"daxz9yhp\",\"vdf35h96\",\"sgz8qsdd\",\"mu0g857x\",\"bv2h50dy\",\"xqqn1t4e\",\"2pd801t1\",\"mrm40glh\",\"6ae1p15w\",\"880lwnde\",\"fzthd8c0\",\"ey07rmgc\",\"0j4rid7k\",\"7fqxu2ph\",\"fgnrujsf\",\"0g7h76bk\",\"45dy34u0\",\"09u3kn1k\",\"b0t6bsya\",\"ovowpb9q\",\"a900e66r\",\"udr1z9wf\",\"334hmwmj\",\"21bghq0n\",\"wgcmuhf1\",\"yh0okyrx\",\"sy7kgh2a\",\"28lmzw9u\",\"ib5c3lbi\",\"7oymk2vn\",\"ess14nld\",\"9a2hcwrs\",\"6vhxg10m\",\"xor1qa21\",\"powty0gg\",\"0bwcttv3\",\"ubcxopk0\",\"mrh4my3u\",\"lcwxn3vq\",\"gngx618g\",\"80c471y3\",\"9x9stq1g\",\"ao9j0tn3\",\"xwpe1aus\",\"x65ziupe\",\"unpcyp5w\",\"9qh7efs4\",\"su0uibmi\",\"g4znmct3\",\"u9jffox1\",\"0yuq7vym\",\"8kl50a1l\",\"y4a1g6km\",\"rjl16i1h\",\"79rpu3qf\",\"npho46un\",\"ioty2kto\",\"4kk2nv0n\",\"xfwseuxu\",\"wqzabk43\",\"wi3s53nn\",\"srbyxhxd\",\"91qifefq\",\"o3taml6o\",\"p10cya94\",\"2n99n38w\",\"0qpfoh5t\",\"pq5m6l12\",\"afwxps4b\",\"9fpb08tl\",\"l8itvvm0\",\"dlnd3etl\",\"iotmjo9h\",\"cswpckme\",\"pj3jd1vi\",\"1z5fky0d\",\"nd5ozoso\",\"j04q157f\",\"bp30zius\",\"kg8zwysg\",\"e98a5ed5\",\"xhtkrjgz\",\"6r6qs4pp\",\"5iyrj07n\",\"taue7bfj\",\"c1krlejx\",\"6vf3km5i\",\"yivcblo5\",\"6buwb6p1\",\"rk26q935\",\"v4e771kj\",\"fpj4hn7k\",\"qn6jp5zf\",\"58czem0j\",\"lsvf3hl6\",\"pcbpnv9g\",\"riejfoab\",\"qjfe2t9v\",\"js8kx3yc\",\"u7egknq6\",\"yzixu404\",\"e3gok0ot\",\"qqzo2d8s\",\"dm6595rh\",\"cns12o35\",\"3qw18rpc\",\"ptkw0csu\",\"2rwrkhxg\",\"hxh8lodt\",\"pynqwj5t\",\"1u3qiwdi\",\"6ckw729g\",\"q7izbxd0\",\"xzcxehui\",\"08siqoqc\",\"7eitcvox\",\"pz7ltv41\",\"9luzvzsu\",\"ooh25s0y\",\"43f8djmk\",\"wtx50nad\",\"98jz8tox\",\"fhc1qf8d\",\"flr9nmog\",\"1yxqe6n6\",\"u2guhh3h\",\"nnd1vccf\",\"2f5ge0tz\",\"epy6rxla\",\"o6a4kmmh\",\"mk91to1m\",\"of47ogow\",\"1ozoq3hb\",\"q6xb0ska\",\"ggv3xnll\",\"vqim4t6x\",\"bjopy0zw\",\"ehrwew7q\",\"t821mnvc\",\"u0msbnsh\",\"ajjh5a61\",\"rcq0eaei\",\"a28fmtlo\",\"m1e9raz3\",\"qw5bxmdg\",\"5tlc1kun\",\"a4dxfmbe\",\"frvmzzy9\",\"63zo59sx\",\"o7pd5uac\",\"1k31oqgm\",\"fyttjb32\",\"z4a6qure\",\"jte9xx5e\",\"sfy7ea5z\",\"0ixs4z85\",\"gjigvjgv\",\"fv4t6pqh\",\"xp948zax\",\"b4r0jyjo\",\"h5pit94p\",\"t38qv5py\",\"6af1cf8s\",\"rzi6omdy\",\"p67twx7a\",\"z6j61cez\",\"ssxet105\",\"t802kjpk\",\"refafhy3\",\"s7my19xs\",\"8j5p1hq0\",\"bis2arbu\",\"mkr7n1i0\",\"3wirkfrf\",\"o0mhzx3g\",\"qrnsmhws\",\"khqx4t4q\",\"gfd12nao\",\"hlebf1pw\",\"7vtqte8z\",\"7ofa04l1\",\"1d1xhk99\",\"n5dbz5gj\",\"fgjzo4xq\",\"j1naa7iu\",\"uiti7isd\",\"4j3fdjlg\",\"jpxjiaru\",\"jx0zvhex\",\"0rsbmh48\",\"qwinggg4\",\"8d3t7ub7\",\"xphjmmia\",\"zblusivi\",\"qpbcwf5w\",\"pdpg55aq\",\"jej4l04c\",\"h3zvzr6w\",\"cyjfljoa\",\"tq1leraq\",\"tfx7tx9i\",\"21ldudka\",\"hjw1940x\",\"0jaz4akb\",\"ul91jrpd\",\"i62rkr05\",\"1jf1hfhc\",\"p4aar3zx\",\"d3be1bhi\",\"0j5828ah\",\"rzla86sw\",\"atcsir5c\",\"9fuiind8\",\"9b556q5w\",\"yoszzgfr\",\"j0uojajt\",\"h1ktlceq\",\"ygosfou2\",\"idhr2upe\",\"0rbgbsj8\",\"h93g5hvf\",\"k30mv20e\",\"11sxecb3\",\"gkzngj73\",\"r384fbwc\",\"au47m41l\",\"tr7h36i9\",\"z0r1b1gl\",\"pxk4x63n\",\"lu33gkbg\",\"2uismbn7\",\"fdqhnmwn\",\"o01w28gb\",\"p8hgri6n\",\"dgy7qbl5\",\"xzdh8yum\",\"t1hwh3o8\",\"014xcira\",\"4xve1bl6\",\"exlsn8bb\",\"ppqgxl0j\",\"39jjedq0\",\"ywiltn15\",\"hr7i5frr\",\"k90i33gp\",\"pql33jms\",\"erfb4hzb\",\"j46rtnkg\",\"oemsmzon\",\"r6xe6cln\",\"cvtim1ez\",\"od832cia\",\"j0lpy07l\",\"jkjyh4cs\",\"1tq5krod\",\"gp0ajkt8\",\"pulkw50k\",\"bb8u9nmj\",\"dndiybf5\",\"b5xrb7xn\",\"q13qndic\",\"w524alg0\",\"z0408dje\",\"1t94ll58\",\"imnvwczd\",\"a35thouq\",\"h5w8if5o\",\"omd7kl0b\",\"e19cldqc\",\"e0huz3tz\",\"3gnm63t7\",\"q6mugw5g\",\"3ly4f8dy\",\"y7ujxvgj\",\"i31nyb9k\",\"r1gxafzj\",\"2qpup1lf\",\"ik3jt7tl\",\"thnu82g9\",\"6sgeraws\",\"1bpk0jzc\",\"l7p0sxqu\",\"y4e7hhjd\",\"w3avnbpu\",\"xppcf64v\",\"v5pcpss9\",\"6n0n6ghv\",\"exy69neu\",\"4uiyj6lg\",\"x9yo2vcs\",\"va27e52t\",\"kqrkzvay\",\"5h80p757\",\"1sswoz0k\",\"jsgzgsme\",\"s67v4qj8\",\"ne41q53b\",\"q6qad9nv\",\"02tomttb\",\"xp7fxceo\",\"pzbcthjr\",\"lbrpbhpg\",\"y0bpn861\",\"urfxti0r\",\"559vaaoo\",\"3mvjc805\",\"wqkqcjzl\",\"x0me00m0\",\"gfef69te\",\"7skrmp0e\",\"810fmd8e\",\"9xe3z5hr\",\"7p6qregn\",\"rwwznlip\",\"n2kn0iif\",\"llsgu6il\",\"0rztvk9g\",\"llumyzno\",\"2zaxn6tq\",\"6ag747lx\",\"awg7mm74\",\"qwn4yi59\",\"oqndmsxb\",\"ou7o700t\",\"grsfdmll\",\"jox35yg1\",\"goy6cn9w\",\"goo993eg\",\"ufbmmlmj\",\"ftrfxur9\",\"um1jr5at\",\"tipealcg\",\"prrjscnd\",\"rffp6qe2\",\"rml5wn6f\",\"vwscg8sz\",\"wdnnjlcw\",\"uiy18hx9\",\"rxvxf34z\",\"olgl8zvx\",\"x30svp5y\",\"kueqo67y\",\"hn6f3cyd\",\"1q8i2wb3\",\"2nlnyxct\",\"0cxhxbsv\",\"qftsizis\",\"lwcibtzz\",\"pug2r9nw\",\"vuh12cog\",\"qhd47rqc\",\"2wxd9sv6\",\"3ymmnt98\",\"rovmpj0v\",\"6al503af\",\"dy6935iz\",\"z2035pka\",\"0o3wjvpx\",\"9ry8tm4s\",\"ls20a2ve\",\"819mdp6t\",\"rjs0f0nq\",\"3rtx6fo3\",\"pl5hyzwp\",\"h4vigeuy\",\"qaqj9nb2\",\"gxmt44lm\",\"2kc4sbsa\",\"75uiua31\",\"74pzq0sc\",\"99b09xpi\",\"8j31wu4l\",\"5w194etz\",\"giqn206r\",\"oxs7qc0f\",\"i91efpcr\",\"t8usfe10\",\"c9c36az9\",\"mnucvmr1\",\"ltljjqmv\",\"xf2y2996\",\"lk4mhlv3\",\"1pl6q9po\",\"74xuvaz6\",\"h2zwlyz7\",\"p645zix8\",\"e6tyr09f\",\"3cjcx1sh\",\"49rm7pmw\",\"mul7nja0\",\"0u56njnr\",\"mwiw79mn\",\"t60ygy6i\",\"jvu5smka\",\"vb4eyjyu\",\"411qyubx\",\"r946okl9\",\"8p9d1c9k\",\"qw2w8gpj\",\"71rhjy74\",\"t2gm9i0f\",\"an3apm5g\",\"j1sgaido\",\"inroi3nv\",\"r6xo0hqi\",\"ysfucc53\",\"fjxguh5r\",\"rv5m7ffy\",\"2tax8ajw\",\"hxzw357a\",\"ah6vfqy8\",\"wl0v8lng\",\"6vs2jesb\",\"w10y5sf9\",\"5nzni4k1\",\"soykkhxz\",\"tmlatghe\",\"481uktzz\",\"kwf6a2x1\",\"ujbclp35\",\"7c96e00e\",\"97ap4m61\",\"de45ri7h\",\"plx46bw9\",\"w933g6mm\",\"jk79yj1c\",\"1fpsit09\",\"py38vnwc\",\"xw9ur4hy\",\"izltn367\",\"6mxkc7wf\",\"uqkxodjy\",\"h1xoy282\",\"0jfwzfge\",\"lb099dyt\",\"62je92vo\",\"ltjurdrq\",\"ruc7qopd\",\"f3itn0sb\",\"izhmkii0\",\"b80qpzko\",\"sd0s0jup\",\"ilmbu8j0\",\"voljvhq9\",\"f5zokomm\",\"yv5q8pyr\",\"kifsj94h\",\"dt6t7on9\",\"ot8353im\",\"elmagpu4\",\"lo6zomz8\",\"9gtnsyts\",\"asu17dea\",\"0khsxhwv\",\"4x0g8tbz\",\"3o5bfcge\",\"fqoai0yh\",\"83p3sjja\",\"h85or9mv\",\"rpcw6xso\",\"fmpskwtx\",\"l4o7nicc\",\"t7iyt5d4\",\"vtuljhcp\",\"j6cvpwio\",\"7g7fkmuv\",\"bvyer90z\",\"qqh7ayga\",\"23cjm86c\",\"o8ohjgb2\",\"mucatzaa\",\"4ulba7f6\",\"sp7brt83\",\"upnr3j7x\",\"n4v4n8d1\",\"wmfcwqfw\",\"ruvzjje4\",\"m6bwfubs\",\"fzjbdsg0\",\"m6pth0tu\",\"ydgme85u\",\"ohba2n2o\",\"7g69amr1\",\"u32tk3bd\",\"qeyw5my5\",\"nhn986qw\",\"30miiqi9\",\"g0s9xk4z\",\"bq0y7krf\",\"7xyzpx3r\",\"0ow89v8w\",\"mfty18xa\",\"7lxfjwog\",\"8tzp2tkc\",\"cr3yef46\",\"3mwx9s5x\",\"iw6r10gq\",\"b2jyct5c\",\"aovgef85\",\"6ym9qwkd\",\"49uzkg1u\",\"ovh6u0fm\",\"2a84u4tm\",\"hxzc0bzp\",\"t8ocqm6g\",\"g12hyyo6\",\"oslvaoh4\",\"zt8hxoum\",\"nedsqmr0\",\"m0cnkpb6\",\"hyig2t8c\",\"1opxw4dd\",\"rcyyanqa\",\"tjjuokec\",\"6kntd89t\",\"hiohwe2o\",\"lswhykr5\",\"0d08vijd\",\"p93sh4i6\",\"188mp3hj\",\"wlv5bhfj\",\"e38nu08a\",\"kdy31grj\",\"emcn4wcj\",\"usp8g0nq\",\"gt3nzokj\",\"df8c6v2c\",\"8patrxld\",\"kvzgixiz\",\"xph08fwv\",\"rn3qt4v2\",\"wacoz5t9\",\"d6a3uuv0\",\"mojxv2iw\",\"7y2do769\",\"unnd3o6b\",\"cmhtpxz7\",\"sp6w3ldb\",\"yj2wrr9t\",\"g4dny17g\",\"025wpsds\",\"by2j7byz\",\"50eruta8\",\"daqqy3ke\",\"rcbw54xc\",\"s1frs6y4\",\"wn5g5zyo\",\"xm4lk5qx\",\"rnkawxrq\",\"msqvb97f\",\"6i4b26us\",\"0r62kx2q\",\"9hvhru6o\",\"idlyl4ga\",\"vzn8yjag\",\"uo34csav\",\"evjs1490\",\"yvtsgqco\",\"blwrpf38\",\"21lnf8gw\",\"5w4p0pqk\",\"uqhaxqqh\",\"m9h9s0o7\",\"rzmx6tv9\",\"iwyn32tv\",\"zazfrdv4\",\"n4b9om3c\",\"zdzbkxu3\",\"srdrr853\",\"09gzchv0\",\"8g45ecg7\",\"43geausg\",\"24cwhhmn\",\"xlrnqbtg\",\"d7vpwb8h\",\"0plt9dhh\",\"bfbopd6j\",\"sdzgy0nw\",\"hwlr3qfz\",\"bh48s29v\",\"3cwffe0i\",\"u3ieoo5n\",\"z1upqkh0\",\"c86ezpag\",\"cy87puhu\",\"v9etowes\",\"0c412wq5\",\"j5glp7xc\",\"7wusbdmm\",\"c0of2cas\",\"ylystcb2\",\"66ey5efz\",\"95tw84z8\",\"5dik5m8u\",\"scr9n7jw\",\"b5xae518\",\"3ryui22j\",\"uvjriyx1\",\"xmf90axz\",\"t053ryho\",\"tpqd3nnd\",\"4azsywuu\",\"asrn7j9o\",\"lr0ma85f\",\"oibbvkdp\",\"a401kyv5\",\"2le8d3xe\",\"n22iq0r3\",\"c3bjo9ff\",\"houxpagf\",\"lofrebwi\",\"3nihls52\",\"nft7hggb\",\"ev0b28ax\",\"ow9mn18o\",\"ow02q6vo\",\"tlzt1o2i\",\"3rfmpxfg\",\"h83gf11w\",\"ndfoppoq\",\"bfm45zas\",\"lowzv03i\",\"8x1a11iw\",\"7ns5omnu\",\"fl7yrpzs\",\"ggweno1m\",\"v8al0p4e\",\"bxeoso4k\",\"vxvule0c\",\"9vyqjqqm\",\"gphud9yx\",\"wh6aaqlu\",\"ie52j7n5\",\"7qr964zy\",\"vcxk1f1v\",\"40qodhns\",\"f8h9hlks\"]}\n",
            "{\"positive_doc_id\":\"20ihafqw\",\"query\":\"What factors are associated with compliance with recommended behaviors during a pandemic influenza outbreak, including the role of trust, risk perception, worry, and exposure to educational campaigns and media exaggeration?\",\"negative_doc_ids\":[\"ajnyt1km\",\"6w7ng885\",\"ks1l11ot\",\"sqe4dtlb\",\"ka0cqrom\",\"c4jb5z5r\",\"zmk6ay67\",\"a7hsppj1\",\"uaab0y8b\",\"2n5stt0z\",\"o9axz535\",\"itp1hnql\",\"mexfkial\",\"m4u48nnw\",\"qfyivjpu\",\"h180nsed\",\"zckrpd20\",\"r16o0m14\",\"6qalfch0\",\"tcchq12l\",\"sf1fgyvg\",\"s63r7lvj\",\"dg3hkt42\",\"9nbohk15\",\"6p0knj62\",\"1dkkwt7h\",\"2bfqbs19\",\"zlyz8jzk\",\"4by61id3\",\"7agyp81c\",\"1kpw4ru0\",\"z0e97ost\",\"8ubyveyt\",\"9elnknig\",\"5iqg3we8\",\"xipu4yoe\",\"6gw9cwra\",\"tw6wusxe\",\"oml3d52y\",\"s5m0y4iq\",\"ovimjpkx\",\"zlmd3q9a\",\"2q6qmex3\",\"lkmqmk0y\",\"0v34vz9y\",\"ysa8vb9x\",\"j2lanfjm\",\"wsq6gq58\",\"uf3vid6u\",\"2pmpa7n0\",\"tevw83ju\",\"yw8rzrb7\",\"d2r26kle\",\"baxxcyji\",\"vfnbs2jn\",\"hycd9zua\",\"ptkw0csu\",\"57zwd3y6\",\"0muyq6a5\",\"sc0p3n46\",\"r20bix22\",\"vb1kf7ch\",\"nqrtk06s\",\"dfh3b9ln\",\"opnvinhv\",\"59i8wv4o\",\"l8svzjp2\",\"e6e6omxt\",\"2bj1xi3x\",\"g6tz2bqa\",\"pgbrtnqi\",\"y2l06kr0\",\"fzusgbww\",\"mtecvroz\",\"h6zf25mt\",\"bqufyfsg\",\"w8ak5hpu\",\"okkxenst\",\"j0xqfgi9\",\"9gew5yro\",\"pad3x324\",\"gd6dd4qm\",\"6bjloq2l\",\"j1naa7iu\",\"1rq612hm\",\"ruf4rzxm\",\"wlta0qxw\",\"6e0xfi8b\",\"9x2qm5jl\",\"3jolt83r\",\"s99c0jby\",\"z8bjyr6k\",\"lnyzwgx4\",\"lsbny5to\",\"p030li19\",\"4qzdg30w\",\"1dyhkm7z\",\"k88hchau\",\"7s3l2j1a\",\"0vecbxny\",\"2yzas2j4\",\"eklwwu1j\",\"zsgjxn7s\",\"4q04teum\",\"t2e4bxsu\",\"nvq8gsq9\",\"e64k5nl8\",\"mqabj23h\",\"9f52pqxf\",\"i5cteccb\",\"pdkjj87a\",\"jtvf257r\",\"49io30x6\",\"rhgfmqgu\",\"49xvz389\",\"nlbruv1p\",\"cac6jtxt\",\"98umk3e8\",\"615sdkpr\",\"vg42z900\",\"zcy1sm6t\",\"ts9gco6p\",\"9c0zrp7p\",\"sy0vg8s1\",\"0ztyvq50\",\"czcx5xwb\",\"dlq22nsu\",\"69sfmnw8\",\"kj3ptk7x\",\"7u4b8if7\",\"2qapgoaz\",\"krgsd5z3\",\"9r5td4vy\",\"cw3jkf3x\",\"bgu5hfvf\",\"8r0orhkm\",\"e27lm7rr\",\"0qnp8yy6\",\"1igz6i8u\",\"91720pog\",\"gy99976v\",\"m9c90p1m\",\"miyvn7vd\",\"7fpgly3m\",\"ycw846fe\",\"19585y91\",\"qexqgi9p\",\"zrqp24gb\",\"793ywpcd\",\"bs4jczmw\",\"c8nrd4h9\",\"bbolfmhw\",\"fite9vs8\",\"1d1xhk99\",\"4igvc039\",\"djkc2mhw\",\"fknm3wf4\",\"8z1uh1zv\",\"n5c3yv6h\",\"lhhxwmx8\",\"t9oh2i0t\",\"8t6rsvqz\",\"fqs1byxa\",\"qfl3i7c6\",\"feulesm1\",\"6i4b26us\",\"h2tcrh1q\",\"7incf20e\",\"30ks807x\",\"v0ervzru\",\"f9wnf2a6\",\"7om13u87\",\"esjg2hg5\",\"j4g1xxc1\",\"o5n379o7\",\"784b7xpq\",\"j0qperwz\",\"5yieno6w\",\"z4di6mkv\",\"0ea1r7gu\",\"pln87zoc\",\"pdc2swh6\",\"4lrb73hx\",\"nm0i0rtz\",\"loavg6d8\",\"9fdw11qy\",\"7plpqe4z\",\"87pamw52\",\"bus3axay\",\"r9s902nf\",\"8ruloxnm\",\"rrrezi6f\",\"ui570wya\",\"ozkllp62\",\"c14q470w\",\"l4wo1a84\",\"5t246mn0\",\"cqd2pa8c\",\"t9t2qlw4\",\"9amampof\",\"x580ktas\",\"a2kill55\",\"h2hm73u1\",\"b04ch0o3\",\"7cz1fvdi\",\"t0l9j8qt\",\"zn71hzuz\",\"hcx4fwum\",\"nairxam8\",\"6upti3bg\",\"dl5w9mrx\",\"k47fv9j2\",\"f4cgle95\",\"czk65emp\",\"a3zb4t8v\",\"bo4iju0l\",\"vp80nm1b\",\"45d9tj2l\",\"pioompgx\",\"d4w9caiq\",\"q6g4rpx3\",\"eppzwzhw\",\"sv0n466b\",\"ptukvdgw\",\"ybj6tm1w\",\"8arcciwt\",\"hgiphvt3\",\"j8e8gb0l\",\"vlpwhmui\",\"f0omfyeu\",\"ub7x9j3d\",\"u5w39d3p\",\"r3in76wm\",\"426rfwqc\",\"3nowks3j\",\"72c16efi\",\"632093wv\",\"5iejckwx\",\"axio9zna\",\"iqe6sdq2\",\"k59gdemp\",\"8fp3a9h8\",\"sy3ncwgw\",\"q0kj6hip\",\"c04dk2tw\",\"yuxh3rkq\",\"aqe118oo\",\"hns3hjhi\",\"d1jwk7zm\",\"fkn47wxl\",\"f4jm8bnb\",\"1vcc1khg\",\"wmlqsk6l\",\"35u70l6e\",\"4aux2mxa\",\"wi8lu0uo\",\"5s1zz2lm\",\"4o9ph0d3\",\"qzxwrqw2\",\"ltil9hwl\",\"33goapke\",\"xpwox6of\",\"y03brbyb\",\"t8o4j8ia\",\"u892wpg9\",\"fjss4e92\",\"73xgk6z9\",\"9pmg7l7h\",\"qqy1xgta\",\"yojj6om3\",\"0gt21051\",\"0tqwjdhd\",\"irdbj3ca\",\"6ipv3lf6\",\"g9cccwo1\",\"ptuqsq0q\",\"olckhtwl\",\"bje6wz01\",\"2lj4rgdz\",\"zn7ydrvh\",\"oak1lfmi\",\"1rc2swfm\",\"2c381u4v\",\"cnmijcwv\",\"oqo1xcb3\",\"5q69h2mp\",\"s5fdv8po\",\"442gq3k5\",\"8ti7a8dw\",\"vg92q6c8\",\"21y9rdnk\",\"vpg1sfsk\",\"a0e3kwbe\",\"zhgol57d\",\"8z3l5k4l\",\"t4dafq67\",\"f2vtmokt\",\"nisu0gvk\",\"xdvigpqh\",\"larl314p\",\"lbi9hapk\",\"5mnj3qr7\",\"3gdawhfn\",\"v3u1r3us\",\"2xkc4wq6\",\"i3rd3m8r\",\"5v9kjdbq\",\"dlrs9ne7\",\"9nfz9m2p\",\"jmu808c0\",\"iigpyzw4\",\"3wrrbnbt\",\"riejfoab\",\"kp7tdtua\",\"qu1yymse\",\"ewxlq9nk\",\"74joo4yr\",\"k6dcr2ec\",\"yy0kkgwu\",\"j3y7sy0k\",\"asuxx1ln\",\"jxonslhh\",\"b864ry4x\",\"0ymeocbf\",\"le3m1y07\",\"enyudvsr\",\"t8jxqbso\",\"4i3c9vbs\",\"m27rpu1v\",\"tgd5cn57\",\"dcsmh15h\",\"ba3qakrs\",\"788zjhkn\",\"vhrikgpi\",\"bhe34dky\",\"hw2ixelg\",\"pajemtoq\",\"1dejiix6\",\"5gwifm5b\",\"4zrmsw2f\",\"6n29eryp\",\"9syaol9i\",\"rndu5ake\",\"lsyiwylf\",\"xfq2s412\",\"tfn0ltrz\",\"j3glby40\",\"57x3j1np\",\"l4pqa19e\",\"spca3le8\",\"57es391o\",\"0anubfxv\",\"51ih0b2y\",\"hs7gn62e\",\"9fia8w7l\",\"4m5bp0fi\",\"ljanbjdw\",\"iwdklgyp\",\"6iv1ag57\",\"mtqjflnk\",\"4pa93xqi\",\"xtfjw1ag\",\"pettf7qh\",\"q61hhgzx\",\"gxy5qlvt\",\"9iyu9ymo\",\"uzgfx0fc\",\"j8h7endt\",\"hltiva9i\",\"djxw2n23\",\"i5p3vbfr\",\"pcbpnv9g\",\"mv2rz3r9\",\"mff2y6ou\",\"n5b1kzlw\",\"0tun7fjk\",\"l7a0kuud\",\"fl4dsu7d\",\"9bs1udnv\",\"9dces8lw\",\"dl45plby\",\"a28w5bln\",\"1z25rpul\",\"rg92gcc6\",\"0omh67sn\",\"lsp55aps\",\"vk8mmv6h\",\"56xf9inq\",\"pa6iqc83\",\"vhaidt8f\",\"qd30tmuy\",\"6puccigu\",\"xza7o3s7\",\"kpr3yndi\",\"79rpu3qf\",\"hbpk850a\",\"mt808lzo\",\"co11vspl\",\"e0k4o6wb\",\"uc8vm79c\",\"3crd5fdv\",\"1jztwge9\",\"2qf90osi\",\"l414z6gc\",\"upl3ny5a\",\"q2lv1yzh\",\"m6qe57he\",\"14ftgh6k\",\"ln7iil5y\",\"1j62m0sj\",\"n4j1q8zr\",\"1o6ctvur\",\"4wv23t18\",\"jt3vjsqe\",\"snz9gkhh\",\"d5tr12h9\",\"ldkortog\",\"ossmgzzn\",\"ivjt0eml\",\"auq3msc6\",\"in8a3s23\",\"jrvl0ykn\",\"zazfrdv4\",\"llstohys\",\"2bz9u8k0\",\"lkupo7x9\",\"gv2owt9e\",\"iedbjopq\",\"al6tifeu\",\"fnuj0ttp\",\"jr8dk5ey\",\"flr9nmog\",\"b3qu4bvm\",\"ylcv4zvl\",\"wrru98zg\",\"2sxy3spd\",\"s73hljz9\",\"hjk1eblw\",\"wlbja1gz\",\"08gqn86z\",\"ldja6aa4\",\"ffqt4vr8\",\"4rwga8wi\",\"3wg26frb\",\"hm6e333r\",\"vt2rei7e\",\"xz8uokyy\",\"66dfphxq\",\"5mq7h8ng\",\"xac800t7\",\"tdswzj7r\",\"3v4govzs\",\"h1x55p2v\",\"n80jy8zl\",\"23cjm86c\",\"v5kob7tk\",\"2al1kf3t\",\"c7q3vh2c\",\"v09jj3a2\",\"3i1uub1l\",\"za0gq27b\",\"z6si7vr1\",\"jah97uxj\",\"s8jgq670\",\"9xavaxsu\",\"l76bqsn0\",\"o1vxgzpj\",\"quybpffc\",\"5o12olsu\",\"334qzbqk\",\"xxidwdi6\",\"crla8vrj\",\"95z5oa3i\",\"xc055tva\",\"7hqoc1sv\",\"hj7vz4kv\",\"3nk9kvdy\",\"2qbffe7j\",\"nku9xqoy\",\"pm95v31c\",\"ndpmze2f\",\"bfokijzv\",\"ilmbu8j0\",\"truei5y2\",\"sjl2kebl\",\"b5yl88mh\",\"4f9dev3w\",\"77paw55k\",\"pl2d1yc0\",\"8ldbydv4\",\"jt0b0eby\",\"1w32svet\",\"ugbwvy6j\",\"f3ds1rq6\",\"orcb3jn3\",\"rxk1x3mi\",\"gxwtqqdu\",\"xg179j22\",\"5mcc9l2m\",\"d9gtuf6r\",\"y1cv3sq4\",\"sxj1qlop\",\"zcdvql6t\",\"mfjyjjer\",\"dh3p7k3a\",\"ypjx6dv9\",\"9kd7hsqb\",\"57j77hha\",\"0javg3m8\",\"mzui69t4\",\"sgbu2i18\",\"3o7e12m6\",\"sf9g9ch2\",\"3bvtcdja\",\"u4fxf2t4\",\"velir6gb\",\"03odxrgc\",\"y9vx7coj\",\"9n8h3fzx\",\"bkc4betx\",\"7etauol9\",\"9nn5sniw\",\"zw89nryl\",\"s1fncvji\",\"7abc8dxj\",\"tq6tbhsn\",\"gpyp6yx8\",\"1kmedgpu\",\"xwosn8s0\",\"x0bio5bl\",\"mkw284xs\",\"p22qn6cl\",\"jzyn6swh\",\"up7hlqck\",\"7yucn30u\",\"zgcpwzq4\",\"n750c4q1\",\"peppszqx\",\"bis2arbu\",\"59jvu7zt\",\"kfkt2g1s\",\"ae1ihh9o\",\"ee53rfxw\",\"arexn6f8\",\"vnc1iay1\",\"ag0s2u1t\",\"1nilfq6c\",\"pavnpgu8\",\"9k0bsktb\",\"66ey5efz\",\"y1jyzdf3\",\"fytdeu6i\",\"6c01sg9j\",\"wqqk4ltm\",\"28rt9l8i\",\"z6cp42aa\",\"8jzrku20\",\"mm7amtch\",\"9b4quuqx\",\"29s9v1j8\",\"10zzz7qe\",\"m3a6kl8s\",\"w9bon3dc\",\"gzy7tbcf\",\"uzuwqy3g\",\"s18j44l3\",\"1i1rhwcw\",\"30pl008y\",\"tel8guc6\",\"me9vzf1w\",\"85r5svyg\",\"6eg2cnxz\",\"30gmnn42\",\"eykopfco\",\"zmip653x\",\"0gl160v3\",\"oviloku5\",\"lzhobnch\",\"vmpntehu\",\"ilhck7jq\",\"ajw4j8b8\",\"xwfptmmv\",\"y2his4v9\",\"n2u0fu4j\",\"8hj9xuct\",\"j68x0yd1\",\"ms6c41v0\",\"yk9u4fvp\",\"boil9atb\",\"kpezaorq\",\"vzhf2ou8\",\"upya9ehz\",\"7xdnmms9\",\"fdkbuw6e\",\"23anx6ez\",\"l5xg37pp\",\"xsasi7nj\",\"tf1qyty3\",\"urdi5pzs\",\"6gr1682f\",\"dyfvsxnz\",\"hoqe8z3x\",\"2r2zpgtq\",\"bpfib2cf\",\"u0raz910\",\"56hsntz2\",\"w1he9ebs\",\"cex96yya\",\"uhjtilve\",\"xipn0dg4\",\"kmlios1x\",\"kf7a9ccd\",\"pykihnup\",\"q9ytlxcc\",\"g2jx3awo\",\"nft7hggb\",\"93nuovsj\",\"aynigoud\",\"xb5pfzsq\",\"kw8xtw9r\",\"94puwlbm\",\"glbqzr8o\",\"sl66vrux\",\"secjw87p\",\"kocgrz22\",\"fl80ikuh\",\"0oov2an4\",\"4dv6954b\",\"9v0z2chz\",\"u9gwi2ma\",\"eemzfrbv\",\"xxwpbtbb\",\"mtgj5vuk\",\"bix9d12b\",\"6qz7bqnb\",\"ma8z2rtn\",\"hmh4s3w4\",\"tssl7ycx\",\"is20odaq\",\"jzjsxksk\",\"famjnaik\",\"wnjjqqn5\",\"aeadjm4i\",\"hh4p7cg3\",\"30g0f6t1\",\"ksfcc8x8\",\"4qdh4cgu\",\"hhpnewdt\",\"k0o607vm\",\"w524alg0\",\"h6id9mh8\",\"882rmszp\",\"n2ot474v\",\"fu9b446y\",\"f8cnhuu9\",\"9vsi8hfx\",\"jtg8x8y0\",\"ktajrf7d\",\"ycmqt1tv\",\"crtf3fhk\",\"dw2xblyr\",\"035schzm\",\"lrk4ty99\",\"wee1133a\",\"49uzkg1u\",\"u6l7gzax\",\"wfm1m6xy\",\"ppqgxl0j\",\"upqaahwu\",\"ftg5hpin\",\"n2r4pzan\",\"8v0ki1qp\",\"qmnmhrto\",\"734pubux\",\"zp2u7e03\",\"mg2zikyp\",\"wvqvtela\",\"nw1nlc1y\",\"793lv4be\",\"jfxqipt8\",\"khad607r\",\"exgu1e6x\",\"elbjs7ft\",\"20q94hbx\",\"h7l7kltn\",\"17z9338l\",\"ghb55qkr\",\"z6vddid9\",\"h7oidcoz\",\"i1mdd56z\",\"vl057lfs\",\"binhoul6\",\"96mkzzh9\",\"4ii1dlpl\",\"umr5fkz8\",\"6hacc7gp\",\"rnkawxrq\",\"b6tgn38t\",\"adqahvol\",\"7j7w3h36\",\"7opphvf5\",\"luqkootw\",\"bujh6goe\",\"enq9zr2g\",\"r4i2gtv8\",\"zi0flem8\",\"r9srhj4q\",\"itjrg8x6\",\"9y9gjyby\",\"bnl6c9wp\",\"35ouirv7\",\"mcozigt2\",\"div81bpy\",\"3bou4426\",\"bo15d97z\",\"lwshgy6e\",\"65gjunjg\",\"9djtkp55\",\"um0ds7dh\",\"83pnvlpw\",\"g1gkhxwh\",\"fcdesvfi\",\"m13pqri2\",\"xzdh8yum\",\"4lyf9ip5\",\"p5dz1c9u\",\"f93porms\",\"tfazq3vk\",\"ricb63xp\",\"onyjw7cf\",\"zkjerna2\",\"6sxp4mw2\",\"5fe8lehl\",\"sstb22x1\",\"ffipgmly\",\"2wymlnn2\",\"ruvzjje4\",\"4kf9mgy8\",\"ug1lt3f1\",\"imatoqzt\",\"wx5eg6ga\",\"517gka4h\",\"zqda9ssv\",\"peef2hmq\",\"qrcv4iuq\",\"g1m3ywsm\",\"g5sb5gqe\",\"zxb2j8tw\",\"jlahpe3b\",\"92o213bg\",\"2w2xijf5\",\"6d25aq3i\",\"m1xf62bf\",\"fowfz59x\",\"510k36vj\",\"5jjstgkl\",\"tmta2b55\",\"y5y2yxsg\",\"rhdl3yfw\",\"wyl1v83d\",\"nxn74cbu\",\"fryrs7vx\",\"28ddm9um\",\"vm90vn6h\",\"x5nfp25w\",\"i4k2yvqk\",\"2ug5ljcd\",\"inboxdth\",\"rrqw9l4l\",\"yzb8yo90\",\"dp9g2zk5\",\"luc9c72y\",\"72oh3vze\",\"w6oisc2q\",\"mha3up4b\",\"xofwk88a\",\"r12copka\",\"oqj5x00a\",\"a7yq1zu0\",\"2prs48ae\",\"ln9xw11k\",\"by47qh6i\",\"a24qbiyd\",\"vzqrxj2w\",\"0iwdqbu6\",\"w2wnsjyk\",\"8hjbqxkg\",\"adt65g8h\",\"msqvb97f\",\"jppjqdi0\",\"92owbjrn\",\"10b5s81p\",\"x4nz1nh5\",\"22845l3d\",\"7039khlt\",\"et0lq6xj\",\"8hvm79r0\",\"t4wm1k52\",\"iylmvmv3\",\"byu04pn3\",\"0wfaggvo\",\"duy5nvb5\",\"pp6tz7on\",\"n276aksa\",\"5iyrj07n\",\"8qfeoayb\",\"kcx2sido\",\"fdqhnmwn\",\"8f0pn321\",\"g4sw3gfn\",\"qfzh86l4\",\"22rf9kuq\",\"c41plqkp\",\"95ulxnwc\",\"3wzrc7kg\",\"d5an2mpi\",\"9kz1cvyc\",\"m66npv9k\",\"xsfolppr\",\"m0k5g9su\",\"cdxpodfg\",\"k8qwf5hz\",\"6j6w2s61\",\"d28lgf0y\",\"d37t9f4i\",\"vv8o917c\",\"2z5r0qgg\",\"eom7gu40\",\"3waid65i\",\"18im3npb\",\"qpw7a6xg\",\"2784hze3\",\"9o0h4099\",\"no17kjw8\",\"kmdxxx76\",\"n61uzx9o\",\"ioq66pq8\",\"d7qc20i4\",\"ztoxg354\",\"16zvqizl\",\"rk7ijexa\",\"skcaw9ls\",\"7bevh6pf\",\"sig0h723\",\"sk0z9ev4\",\"jsttsnqz\",\"p8p144z9\",\"h51zr96k\",\"2d9fzvpq\",\"u32h2lbs\",\"rk2sx21q\",\"yy7bcfzz\",\"ren0qcz4\",\"95zawygq\",\"2ex4c7tj\",\"1xnq9wka\",\"59vdbqos\",\"7ukx4y6w\",\"7wcjqhbq\",\"imyvmgdk\",\"ry2e21xs\",\"rf2y3q44\",\"s1gnwb2s\",\"f4j5vw98\",\"izyjo3r4\",\"1fgbpajx\",\"wln758og\",\"b3frnfr7\",\"si9jhugj\",\"7j98rhr8\",\"zqzsgekj\",\"r9mfszmu\",\"zieigrn5\",\"sd3hwvi3\",\"h9cqqly7\",\"mdfdt3h7\",\"jv3afofh\",\"zeq0h02t\",\"2e1zd80i\",\"bzwpavq3\",\"hznnbpll\",\"56sag9d0\",\"daiikgth\",\"9o1r8bpt\",\"pgrhe3jj\",\"l8i2n8uf\",\"rxg0hwii\",\"lhn34tc4\",\"kcl401xb\",\"5nkoybui\",\"4m2or9bs\",\"1dr70rbg\",\"tgzj338h\",\"n85ldret\",\"qa4ut7zw\",\"mn06dmrq\",\"c0g999r1\",\"2x89dvoe\",\"jlcrmdpk\",\"m55dbx6z\",\"3k7b92vx\",\"hyig2t8c\",\"zq08eo60\",\"8yj5zkbt\",\"zdg8d6dx\",\"vzfdz241\",\"uuqrjrrj\",\"6xu7q927\",\"v0cgu6af\",\"11b97bnp\",\"6lvy86kw\",\"ev5w6lw2\",\"gfdv200v\",\"dwt9rx7q\",\"n1vn4fuy\",\"kvv3fx2n\",\"l2fq6boh\",\"nyklmyw0\",\"y4qcm35g\",\"4ccluw7p\",\"tfspedf1\",\"khqvezmu\",\"mgn5x4f5\",\"6czte82i\",\"w4aup3na\",\"ggsstwcm\",\"ti2k6ptb\",\"lluqlzlg\",\"p2ufydgs\",\"29m4jf7y\",\"4xox40wo\",\"zfn3aimy\",\"xqtgao57\",\"9pzgy66o\",\"chebq8xn\",\"w3zbf5k4\",\"k6648biq\",\"c5fi434e\",\"w67z5qof\",\"azy56z3k\",\"rum2ib44\",\"zisujjsx\",\"6l7x6j3b\",\"58czem0j\",\"pdxo6xj7\",\"m2ic7ljm\",\"p3zjxo1h\",\"2anabami\",\"605ulh1k\",\"xs3oqs2a\",\"b8p4l0yp\",\"ufmw1hwm\",\"ax3i3d7f\",\"0xd6fer0\",\"m1omwq0d\",\"3j0eq93w\",\"8kaim4z1\",\"3uvbfp8c\",\"jdk8m45k\",\"kuwhbxq2\",\"86vjgalj\",\"jaaqvzfd\",\"6ym9qwkd\",\"x3bab4ty\",\"qgjdybcr\",\"fx2dbld5\",\"1s4n422x\",\"obvo311x\",\"o79uz1xb\",\"9j2uz9k3\",\"lgsd95uk\",\"tfx7tx9i\",\"38a43c0w\",\"88xf0xrx\",\"it65d6q5\",\"pwx2aval\",\"jw9dslgi\",\"6dcpuvm1\",\"9ra4veji\",\"saloatt2\",\"i5fc7w6g\",\"ea3pyonk\",\"jzjhhn23\",\"k3c8nlgz\",\"2sqlqh5z\",\"45579gmi\",\"ri8f14v8\",\"rz9nh1q7\",\"8ravbor6\",\"6sery0b2\",\"nxqer3m7\",\"ii50gly3\",\"k95wrory\",\"z1529seo\",\"amvr2qkf\",\"gcjgfasj\",\"e1rg212q\",\"u21njr3t\",\"t1dggckr\",\"asercjr3\"]}\n",
            "{\"positive_doc_id\":\"bac9geag\",\"query\":\"What are the strengths and weaknesses of pandemic influenza preparedness plans in the Asia-Pacific region and how do they compare to those in Europe?\",\"negative_doc_ids\":[\"q5pke4tw\",\"05czlqp2\",\"c3qfnktq\",\"09jyekp5\",\"iq7paeuq\",\"dhy80rkn\",\"4upkfpuz\",\"e82pjjuu\",\"73eg9png\",\"ucp9079x\",\"d7693jga\",\"t6h7d8me\",\"czh7xqph\",\"atee6lis\",\"1o4d3emn\",\"4c665f08\",\"t9v0hi0s\",\"qf8fxbpt\",\"hf3nytb2\",\"sk0z9ev4\",\"u40p74pb\",\"qo98x7of\",\"bqm6ty79\",\"j0efi5vc\",\"5fa3c7q4\",\"msp7p2ef\",\"ii1h9bc7\",\"mxo571pt\",\"pk0ealu5\",\"e0z5ypii\",\"fizomohm\",\"6e7gbx2n\",\"437zx0xr\",\"gcs4inh9\",\"ckpq0pvo\",\"aoviner2\",\"dzzlpz4o\",\"9949lon5\",\"rhwihzrx\",\"ax3i3d7f\",\"ete7ertb\",\"stjgmqo9\",\"mglpugbg\",\"l26sdtxf\",\"72f6yysw\",\"21lnf8gw\",\"4524vg4x\",\"k7yxpl56\",\"aovgef85\",\"q0peybon\",\"g1gkhxwh\",\"rcel491x\",\"pov7oi1l\",\"wytlfffq\",\"9chszfvb\",\"23cjm86c\",\"bo32mdh7\",\"ile2md92\",\"353qqpbk\",\"yr9tzccr\",\"3onttonl\",\"62gbvlsh\",\"3mvjc805\",\"f3pteuxr\",\"zaw7ybih\",\"msdyszr1\",\"rk3d6se9\",\"kwf6a2x1\",\"92o213bg\",\"mhpdfrko\",\"cndb031c\",\"qj54bozq\",\"5givph12\",\"5dom0xv6\",\"bwbq78tf\",\"fue7ri4h\",\"no8y1ior\",\"jtulg3sm\",\"9fn9c3yb\",\"h7oidcoz\",\"bz4rr6bh\",\"66j1icdo\",\"gozt5aur\",\"2bew6jko\",\"5b7qjitm\",\"6ulvk9hv\",\"e49fwf8p\",\"7l8lqi1e\",\"rvedli28\",\"8871aifz\",\"tw15nhql\",\"ta8sss1s\",\"velir6gb\",\"b864ry4x\",\"z24it9pv\",\"zvmfes11\",\"2yao5a80\",\"80tr6lxh\",\"xqwkrktg\",\"5stet1uu\",\"kk39ywfa\",\"t5mej3lc\",\"3uzsx715\",\"kild3r86\",\"95z5oa3i\",\"38ky9vdn\",\"q10zmids\",\"b43e8fti\",\"34h9u8f5\",\"9cduq57k\",\"7ftnttm0\",\"w7jcbe2r\",\"41adigg4\",\"9bs1udnv\",\"y9lq830w\",\"rqrig4s3\",\"xzjw0fiq\",\"451n89e1\",\"efyctlss\",\"b9sy9ube\",\"latusndq\",\"wtpr7m9v\",\"zyaj90nh\",\"5wyyb6ez\",\"vzzx713l\",\"kexfuoj0\",\"wdmbbz4k\",\"f4qbist7\",\"yv16olzl\",\"wqkhqnlr\",\"3dvr09au\",\"23m8w6nl\",\"rljm9ij7\",\"l11puhp4\",\"9opqbu7h\",\"3e3k78xo\",\"suzq01ti\",\"si9ty2dt\",\"il023zqt\",\"6oznrryl\",\"xh59nton\",\"kfbu10oy\",\"2cubfxpv\",\"zhdjd3br\",\"xb7eryfy\",\"dq5132me\",\"tzedk7ru\",\"nuzsx4sy\",\"8zer55tt\",\"ie0lsot0\",\"nbq5shhc\",\"fzba05wn\",\"ipdyywbx\",\"l52p02ra\",\"9siu7wgs\",\"c60pmwfs\",\"fre859cf\",\"myv0pc2e\",\"rys2zj4c\",\"99irda25\",\"30gmnn42\",\"1hmte4la\",\"y2vkpuv3\",\"0aommdzm\",\"knpkff3u\",\"we4ptygr\",\"93fpknck\",\"irdbj3ca\",\"zzi5kdqt\",\"ltp7iv1z\",\"rsz7ch2a\",\"hweno9u1\",\"73dsc6q3\",\"5nkrrqqw\",\"wtwl2yk8\",\"jnyvwnri\",\"vojbn0p4\",\"ontzpc3v\",\"mxuj8pwk\",\"7nk28248\",\"z6tp42b1\",\"t6n0vj9q\",\"ntqk4imv\",\"yt9rj42s\",\"y3ywrpox\",\"7v4s1og4\",\"mnucvmr1\",\"96v85b0a\",\"ndou78wq\",\"hmvo5b0q\",\"bhgw44iv\",\"hlebf1pw\",\"3w3f00ph\",\"mniy2dr5\",\"5j00nd0z\",\"r1ps3ydj\",\"p604vvbi\",\"dtua8dvb\",\"5p1tjohe\",\"frlc6694\",\"l3notfcl\",\"opgfgehy\",\"qic51knn\",\"qhnbbzo5\",\"fffjcnak\",\"1pfqgvie\",\"1dmsh31i\",\"1cwloktu\",\"fesjfup7\",\"fite9vs8\",\"56sag9d0\",\"oqe3gjcs\",\"xj04gmq7\",\"1rmpn4sk\",\"1sn5tv21\",\"3amxb7qr\",\"e1aodl9u\",\"ri7v2ka3\",\"p5eq1wxi\",\"qqsmn72u\",\"59m284oq\",\"n95j94ck\",\"93x4yzj4\",\"sv700gnq\",\"2j591gq0\",\"24fkaqlz\",\"x6cu3aex\",\"1fk6zcqi\",\"yn3dcoid\",\"96e6r428\",\"a4wr2g4c\",\"zirhtm8s\",\"7ubptlo7\",\"hayhbs5u\",\"184kiuah\",\"h4vigeuy\",\"93op6bqg\",\"p8wl388y\",\"j74wnaef\",\"uq80ybb0\",\"wjfg5j6m\",\"fvfjz7al\",\"qnv6k81w\",\"0b47aobp\",\"9se0wm4t\",\"9s7y8guc\",\"eioez25e\",\"wmqtxmv0\",\"cl60qmu3\",\"9rjiz2pe\",\"99b09xpi\",\"83pnvlpw\",\"ij3faz52\",\"8r96391m\",\"rl8cdxv2\",\"3cuzmsll\",\"8va21fcc\",\"t1birs9w\",\"jy4vsk6a\",\"hbhtbgzd\",\"22lf1cp5\",\"qzr8zwvi\",\"lw0cv74b\",\"t7l19jrk\",\"wf3nsehs\",\"4cmeglm3\",\"ehabkd78\",\"yajnzgd5\",\"q6mugw5g\",\"u1ky1mev\",\"p4taftq4\",\"pq7tqzxp\",\"k7z3ndjt\",\"17jvvfr3\",\"usgyb75x\",\"q0qhcfah\",\"z2dzchu1\",\"0tuytqnx\",\"boegbole\",\"qw2w8gpj\",\"nm8ladlm\",\"mjilvi81\",\"ai18bt45\",\"ctgoq3xk\",\"xsb56aj6\",\"ilhnluqc\",\"h8jkrpn8\",\"4xox40wo\",\"yxhk1qm3\",\"4tk252pg\",\"vob1bu9c\",\"emnln2ix\",\"c8rb8yqh\",\"al6tifeu\",\"t8aa9kjp\",\"evz3gwac\",\"cbz5c2iu\",\"fpexj3s5\",\"rgls0xgn\",\"gf1xexu4\",\"7opphvf5\",\"bo4iju0l\",\"htgjwcgs\",\"1vhiy0tj\",\"jfu5f3xl\",\"6k1eo6gd\",\"zeq0h02t\",\"v48mz21d\",\"bevg0mdx\",\"z1cra02c\",\"0b9ry64w\",\"hqyknwtu\",\"63tgc5fg\",\"n4gece0x\",\"thebz6s9\",\"zrqp24gb\",\"7ugqjg5c\",\"miptf6od\",\"l895pfd1\",\"ll109j3i\",\"53afdmjy\",\"u4gc98g4\",\"q5hslguc\",\"dir4zeb7\",\"xttzg46i\",\"gcahc58f\",\"npebzun0\",\"049yjj7r\",\"y01w04lc\",\"ze511t38\",\"tob9ui0v\",\"m4xuoc16\",\"zs7zcpri\",\"8avgxkir\",\"q8d5twlv\",\"jjb4k1um\",\"z0et7kvu\",\"hxkfggmg\",\"5m8ivo44\",\"bf7ywbdh\",\"jeomic5j\",\"c3ha5cax\",\"t1l2m5w9\",\"08gqn86z\",\"mu7pvei0\",\"v932f5ni\",\"qlittfxl\",\"fhp5f78b\",\"pnicobgd\",\"y0bpn861\",\"unut3h5h\",\"ffa4kkqq\",\"9bg3t8rx\",\"lng7g1fu\",\"0pfrk5uk\",\"oamrcna5\",\"1f2n8p01\",\"mxz0z2ez\",\"5kvs4ty6\",\"jjsfxm49\",\"6bjloq2l\",\"igy373wz\",\"ysa8vb9x\",\"pv6dv408\",\"ef4wyw2f\",\"3bvtcdja\",\"ck0m3h7u\",\"6e8agsje\",\"ljqn6f26\",\"xdjwdd3t\",\"rnkawxrq\",\"i758v1vb\",\"ua0luq11\",\"qbt142yj\",\"py38vnwc\",\"a56u5e2o\",\"va0mwojp\",\"twmx5udk\",\"su6vhs49\",\"9vn3ww70\",\"pqroy0s5\",\"73r088ba\",\"mkabcvkw\",\"eovm42kk\",\"nbj8fqml\",\"m3a6kl8s\",\"hsc5r35t\",\"7zc2qpuo\",\"rozpps6v\",\"w7f4rkyv\",\"gw6zi5qn\",\"tr1f0c3d\",\"3dpnmswf\",\"c7skxte0\",\"l05t154q\",\"sbd4xrj6\",\"2y4sjdtm\",\"gykw2nvt\",\"14aiwe6f\",\"cmnatjkf\",\"ze9gzqhw\",\"xv3k0irk\",\"c1pfdfpi\",\"t1hwh3o8\",\"h6id9mh8\",\"nhkdo7hw\",\"scr9n7jw\",\"wbp2ykwu\",\"9dgd5ldy\",\"mmttkom7\",\"rsifxvtj\",\"79oh1g9y\",\"bink39ir\",\"52dldsz7\",\"7jmnwpq6\",\"ilt8776o\",\"4cniomio\",\"5bw20to4\",\"d3882bja\",\"9tzhnnis\",\"mo0bhc4s\",\"hra8otj5\",\"90vyici4\",\"tevw83ju\",\"51yojluq\",\"7l0qmssz\",\"nlkv03kk\",\"p4js2gl7\",\"vmh3kfpp\",\"9vx482kb\",\"srzliod2\",\"j40zj4al\",\"45gemxar\",\"3k5lmawz\",\"xxcx7hg5\",\"40xvvw5f\",\"4bcyeywr\",\"8nqompvc\",\"nokowfdi\",\"yee0ha2k\",\"nj4p03cr\",\"be8v9kuu\",\"dor0703h\",\"8n0mwad5\",\"0gbbyjyw\",\"h2m4nkii\",\"5gj4lhdj\",\"fb61ed4x\",\"idhr2upe\",\"7njssonw\",\"9qla5z46\",\"kab6f157\",\"bltjbxr0\",\"y7s6qt6j\",\"n3hcc5f7\",\"1ghjd0c7\",\"dl79v71g\",\"ii50gly3\",\"e8dd0bw1\",\"xv8gtwzt\",\"3g4tosjx\",\"06o0rmhl\",\"n2v4v51j\",\"15bf0i7j\",\"0ztyvq50\",\"bj9fier3\",\"14azjvbf\",\"2g4m0dy7\",\"rdl9sxo5\",\"et5ub85f\",\"py57ibkz\",\"fhv9034n\",\"raz0qm9k\",\"ehercdou\",\"5kx5xgco\",\"dgun7d3d\",\"5ysikjaf\",\"gam03dkr\",\"1yf4yism\",\"qwet3l4c\",\"ns3qyftr\",\"2ykwvhqw\",\"j7r6nl8d\",\"9qjnhn8h\",\"f6f3qhsi\",\"ewx5xhrb\",\"bmerwxww\",\"722aa3th\",\"wqi1hul3\",\"sqyqbtj7\",\"1upboqcr\",\"qfuasag5\",\"jw34swx1\",\"k95wrory\",\"jt9nvo5v\",\"fnb3yc45\",\"m1xf62bf\",\"kfyvzjiq\",\"u1n4gyww\",\"xpwsdl44\",\"auwm2qj0\",\"be2zuqpg\",\"s99urdwm\",\"tqwcpnpt\",\"gpz76nrw\",\"7q3ouq1g\",\"zxlhxmsq\",\"typbs772\",\"krlwws32\",\"9vkhptas\",\"b80qpzko\",\"kv16lxve\",\"p9yoibkr\",\"itw7p4wj\",\"2gdu0iog\",\"5fl0rk90\",\"82s14z6c\",\"5lty18vs\",\"yahf2o7k\",\"uom9clgm\",\"fhkbcp7z\",\"qb31rxnn\",\"ufxqcf3c\",\"v4ncshav\",\"tirmcptc\",\"4o6o939b\",\"nqk3as1f\",\"36v9f1yz\",\"xhtkrjgz\",\"2b2h1xog\",\"u29ww64j\",\"igmcmjes\",\"3afgpunj\",\"j4vylbhy\",\"skgse19j\",\"5jjstgkl\",\"q38mwcrc\",\"w932k1v6\",\"sk86rbap\",\"5zbzm1b0\",\"wdnnjlcw\",\"pgf8z24t\",\"rle6tpx0\",\"6l7x6j3b\",\"5f46aull\",\"c0i11t0a\",\"bule5ys8\",\"utu73rt9\",\"md5bdbwc\",\"b32e9wvv\",\"qqgbn6o1\",\"2pw76a64\",\"cg9pyoam\",\"gfxhf4fl\",\"kusjwue0\",\"o4tjwwwq\",\"riu2omfe\",\"agsu4ptu\",\"rs79r7kc\",\"kzemv1vo\",\"6fh69mk4\",\"12kq1sem\",\"f9pk211l\",\"ou4fkjwp\",\"amr2e63b\",\"k0ku5emd\",\"pql33jms\",\"u61m4x9l\",\"7mjp1hv9\",\"qxosm11k\",\"ok0ulu4j\",\"nzh87aux\",\"6rujx4vs\",\"htabgijx\",\"wucqt5ay\",\"csokkcqq\",\"76fencqf\",\"xqf33fdk\",\"w5kjmw88\",\"yvmut510\",\"bqf43ttw\",\"w8krzps2\",\"muybvyqa\",\"qp77vl6h\",\"a0inkl9e\",\"nmmohw0d\",\"cvd9ld48\",\"2w99mje3\",\"mcywx9ol\",\"3dakhjoy\",\"pyad4m3d\",\"jzbjw0qe\",\"i1nh9k3e\",\"68qjl9p0\",\"8hnzx44p\",\"eham6trt\",\"x4jmuzwa\",\"5iwgebvp\",\"twghf5m6\",\"luloic87\",\"izx9nxiw\",\"58ti0m1l\",\"v0g12cne\",\"e5hjn8dw\",\"2ks9iimj\",\"ijahxy6l\",\"jxxcvbna\",\"k6epy5f8\",\"muhem2vg\",\"eus1vmmy\",\"b4zcvd04\",\"a5733ma7\",\"s79tp5ro\",\"v917ga9t\",\"refafhy3\",\"58czem0j\",\"hi5hbnc1\",\"5go8mo4m\",\"67as3rzm\",\"xmc10kv0\",\"oqs6x1xy\",\"qrwxqhws\",\"3smc4ye3\",\"cil3vj4w\",\"e5mu5dcp\",\"55ngu8y3\",\"xsxeqw66\",\"y8r7fx1o\",\"9uoznwu0\",\"8bv39h5z\",\"9mma6rva\",\"xbn5ov9s\",\"jvrw06w4\",\"ln9xw11k\",\"neqndgpc\",\"zsy5gowg\",\"6hum16ve\",\"skc6d9c3\",\"t46cql1u\",\"7kkaq3wk\",\"x2jll2iv\",\"9m2067po\",\"mgqm9311\",\"qm1yutgc\",\"470r0ies\",\"4p17r41l\",\"45wffqpc\",\"lfe5vaz1\",\"9j2ngvlb\",\"dzy34m94\",\"bv37yivf\",\"r0goseca\",\"90yiky0n\",\"0kuqa186\",\"8ijgmbmr\",\"kh6x849c\",\"kmdxxx76\",\"xk6pz929\",\"vtuljhcp\",\"5llpyfgz\",\"t0tewgvx\",\"lsgyubdj\",\"q2otgybl\",\"gfzobzrg\",\"ls6on0sg\",\"my8qkv4t\",\"fs050m3r\",\"oie4wdkk\",\"wfdk3dea\",\"shb994z9\",\"qww6pe61\",\"br661awf\",\"tvlcsv2t\",\"6z3ek8s8\",\"asn5irpp\",\"evjb8vpx\",\"e8k72955\",\"fcufmmr0\",\"s5ceba6m\",\"zjsjgd31\",\"enob1ze1\",\"atmkmxid\",\"rc9qjnkf\",\"j9mli4h0\",\"90c7l36m\",\"dc7fn26s\",\"1kmedgpu\",\"unce8thq\",\"d7d3pvth\",\"bumlarqa\",\"7p05jk1h\",\"sdumq61z\",\"ha7csiy0\",\"h8c8o0dn\",\"o35ff4zc\",\"ewjpucpq\",\"f2ekp4s9\",\"yoawg139\",\"822g6n1d\",\"na0dqv9d\",\"nwwkw2iq\",\"cp6he5mc\",\"ub6fehlp\",\"rjzther1\",\"0yte5kue\",\"h04pkc9m\",\"49xvz389\",\"kw8xtw9r\",\"ju09xvyz\",\"lk4mhlv3\",\"esvujyyq\",\"fls35tpb\",\"91pb9nq3\",\"6q4nzv9d\",\"kdwh4hgf\",\"72gqujlv\",\"9hrvzvwj\",\"msqvb97f\",\"2wwu9kh4\",\"bo3f06wm\",\"tz62llbe\",\"sgrdyzaz\",\"41e2tqkc\",\"8p910932\",\"wcyv6w47\",\"cljccfpc\",\"nlow8b8e\",\"ux1rvhgd\",\"ffctjyul\",\"72oh3vze\",\"j4uir8ns\",\"h7pteo3e\",\"djvheqtk\",\"ge8d98wt\",\"u4oc2goi\",\"h0bvprat\",\"5okwk9s4\",\"qe3d60yh\",\"t0l9j8qt\",\"6p2znqfy\",\"cdnv4av1\",\"ao5676lc\",\"usv8b1n2\",\"wci03fnp\",\"4tx7u2i9\",\"22lt6h40\",\"0usvjfos\",\"c04dk2tw\",\"vxpley88\",\"yiwvvvll\",\"czuq8rw5\",\"0yx8a4op\",\"08qoho81\",\"12wcxeup\",\"zfiunztf\",\"p6uqakzs\",\"ijjpaxlo\",\"rzahg08k\",\"o01w28gb\",\"2u7r00s1\",\"gwesnzs7\",\"6s7oj88n\",\"vtefe9q0\",\"hwkouyzd\",\"353n75aq\",\"6cj539uw\",\"0x294f8t\",\"rqo10s2g\",\"wvttjysw\",\"av4droeq\",\"l42mq063\",\"efa0n5wx\",\"c1dy5vsn\",\"h3mei542\",\"4oa0gsos\",\"r9cefnht\",\"wq7p3116\",\"on4hqcuk\",\"jf0ariz8\",\"yj5ca2f9\",\"odbaqyi5\",\"ow7fcxlw\",\"tql5cv8k\",\"ls20a2ve\",\"r9s902nf\",\"mt00852w\",\"cyzuayp7\",\"5rbcwcvf\",\"cq7j8m17\",\"1w147c2r\",\"jk5j9fpi\",\"dg3js04t\",\"7plpqe4z\",\"bt7o8yxk\",\"uxhpv6qf\",\"7ms4b8gh\",\"20thrpop\",\"cysj93kv\",\"nop3g520\",\"mcyeyl4s\",\"04czoarc\",\"axljtddn\",\"ymzv7ocl\",\"dcop6gxk\",\"dye2qnsc\",\"xq5ut572\",\"am2qsqf3\",\"k1r91nt5\",\"o3fsdu18\",\"3pklqjbx\",\"jplg9qjm\",\"htykr4b1\",\"tw6wusxe\",\"iedkgd1b\",\"0eg4z2gq\",\"o0skq3r5\",\"yivq622u\",\"2fgtjouu\",\"2xzzceoz\",\"ycj7246z\",\"jn5hwrny\",\"gxeozzl8\",\"2bxpqhro\",\"uoh8nmyd\",\"d37u3qbd\",\"nhke2xam\",\"dap6hxbm\",\"cer8a7tw\",\"jzke8fop\",\"b99y6n43\",\"ntgt5hy9\",\"ckms25na\",\"uzjgdxj0\",\"5w7i5j24\",\"wi5683yi\",\"3emzk5by\",\"dr2c1be5\",\"hiw9unh3\",\"e95ijdwf\",\"5w4p0pqk\",\"g6x500gd\",\"9ufrjeap\",\"a0dp3of1\",\"3jwl97qb\",\"g2v3teuu\",\"h1eqnzn3\",\"3a18ye1h\",\"ntub7gnw\",\"1pl6q9po\",\"lwjpah8q\",\"73pm790g\",\"jdvvegp9\",\"wp9dpiqs\",\"nft3avqn\",\"ln0o7jyx\",\"mwlgvuag\",\"8mpxt8r8\",\"3to3la5p\",\"qn3v40j0\",\"xzcxehui\",\"nvyknvc7\",\"e325hnb0\",\"2ubk6lxo\",\"x2k4jxhe\",\"v2bcmwq8\",\"atszv8rc\",\"4zyfc0y4\",\"li7pk5xy\",\"i61lytem\",\"lzzp9zp8\",\"coof4kti\",\"7ofa04l1\",\"p3zjxo1h\",\"wlta0qxw\",\"icr4nuy2\",\"0vueeyub\",\"wqkqcjzl\",\"1eembfsg\",\"4fnzww6y\",\"v056i6g7\",\"59l54ts8\",\"0ve0pj97\",\"flc5f9wh\",\"yifhgoal\",\"wka9q98s\",\"2v321xow\",\"uuwg48zn\",\"8tima7kw\",\"8orcmz32\",\"d53wtyim\",\"fyy0odgh\",\"nj58duwu\",\"ev9p2apu\",\"qxkxjxsz\",\"rntaggru\",\"wgxt36jv\",\"k41ix3rb\",\"16m8i0zn\",\"46ryh8q8\",\"7ogc51kf\",\"71mbwaym\",\"0lze7emi\",\"80ym2rsq\",\"pklvvgd3\",\"8iyynbup\",\"a7hsppj1\",\"j10tvmvd\",\"bdh9ctpa\",\"uoldq732\",\"9v0z2chz\",\"zn0j9ant\",\"gr2jinqo\",\"599x0euj\",\"9zf2h0xr\",\"o37c7bx8\",\"ecu579el\",\"61nvkiz7\",\"q5qehrsn\",\"ywb9krdp\",\"r9bvidec\",\"sg1ne5r0\",\"adcptyfj\",\"x6re8787\",\"fwnjby5p\",\"25v5mr3c\",\"6803ycsy\",\"1cht4bqh\",\"yyz95rym\",\"7l17lern\",\"y6ntkpal\",\"5izyl234\",\"jqzs17go\",\"hh631w92\",\"0mita7bw\",\"yoszzgfr\",\"60u7muhc\",\"i4xjk61t\",\"gzq9xpe0\",\"mlp3i0zr\",\"4rc9bgba\",\"xypntyod\",\"0ybn2igj\",\"2n2jwnsi\",\"ubmvtvwc\",\"oo55yqfv\",\"8qdn9ucx\",\"cr3yef46\",\"hkowhppa\",\"dc6jtcz0\",\"1iqosu74\",\"psjcbuhj\",\"oe5ks8nv\",\"7pnz98o6\",\"clon7gq8\",\"e5kwb4dy\",\"6pgii2nl\",\"2uo59hbm\",\"mushg30y\",\"dognow0r\",\"36qvjmxa\",\"y0muda95\",\"rsnblu4d\",\"y9ppd9c3\",\"707m9lik\",\"nevpd14t\",\"x16659y5\",\"g0z2maks\",\"8c8ty54d\",\"mymamv27\",\"nwt6snyr\",\"2int7x6k\",\"xzkqcgpb\",\"qyo01e0w\",\"rfjvoype\",\"p9vqpazu\",\"8pr2i46w\",\"pldpknn8\",\"6ka8bqnu\",\"kshgjhzh\",\"vi997dms\",\"svk16wt8\",\"nu8q72l9\",\"kjkuet78\",\"uo1d8xka\",\"muyqlptp\",\"7miabbsw\",\"p34kk4up\",\"hm9wd817\",\"42b11fr8\",\"e5p43y3r\",\"d8eqifvv\",\"egl1f66v\",\"i0eepojf\",\"bgn1sctn\",\"hec7nypt\",\"hzcvmd3j\",\"j5o8it22\",\"mkr7n1i0\",\"pspzv0ds\",\"zf7jd3qk\"]}\n",
            "{\"positive_doc_id\":\"zp4yv4cp\",\"query\":\"What are the sources of tension between population health and political power within the concept of public health, and why are these strains durable and irresolvable?\",\"negative_doc_ids\":[\"7jj00r66\",\"nfz8w8na\",\"cranqd1y\",\"zurjyoo4\",\"0jaz4akb\",\"53au53ai\",\"myjbk7ye\",\"iusiq33a\",\"dykke8bi\",\"gbepptb1\",\"johlu7hk\",\"dfh3b9ln\",\"a8jumn5x\",\"ojqyc89s\",\"4ezebg45\",\"4nc4d05v\",\"y25lwmyt\",\"7ofa04l1\",\"3ddb38de\",\"d6fw4s52\",\"vw1lwev0\",\"2g4m0dy7\",\"ni5tlvrz\",\"o1fa8dfw\",\"t0blvz92\",\"8jqkmqp9\",\"pyad4m3d\",\"1kpooq3j\",\"11ycbgsr\",\"7w739546\",\"40bkgvzi\",\"d61n3v90\",\"2ncdreah\",\"85rkkoff\",\"r4i2gtv8\",\"ubuwacxq\",\"z6si7vr1\",\"p0g22sbc\",\"s4g3awyc\",\"rcjbnzak\",\"0pbjttv4\",\"d5p4chhg\",\"2wzk2nio\",\"vu58whvs\",\"o0bs0a28\",\"c79lt4iv\",\"j74wnaef\",\"9hse06cd\",\"zg2ixzug\",\"plcdwazu\",\"cxo6lob7\",\"ioq66pq8\",\"e7pt3gs0\",\"zcsqzz0v\",\"53yf9ozo\",\"901ghexi\",\"0lud5r46\",\"nbza9cul\",\"10hez3w0\",\"v2j7zstv\",\"y0bpn861\",\"lufwpqk5\",\"0yiek4bg\",\"8srz0stg\",\"h2tcrh1q\",\"el11o2cg\",\"fj21uirr\",\"w8ak5hpu\",\"3fnfs2e5\",\"pdctikjg\",\"fx4jgsle\",\"vm2bxmic\",\"sgz8qsdd\",\"jjwd0332\",\"znjdk61l\",\"cbptisfd\",\"kr9uljop\",\"zd7q42ja\",\"s5m0y4iq\",\"08pyx98r\",\"m055b3ip\",\"udr1z9wf\",\"n7sgi8vi\",\"hbfbmpds\",\"8joudz3f\",\"istxgokg\",\"pxkb00qh\",\"x2jll2iv\",\"snz9gkhh\",\"ckms25na\",\"6vy40642\",\"z2035pka\",\"ri5v6u4x\",\"me9ie5u7\",\"g2v3teuu\",\"b0t6bsya\",\"y8qlfcel\",\"mg2qs3b6\",\"qd7dimmj\",\"mof6nazf\",\"t9r46ci4\",\"ky3icm1m\",\"4eldkteb\",\"v25z1he7\",\"eqzath4f\",\"jn109z1g\",\"cftdo2ac\",\"0ekb6c8e\",\"ux8hua39\",\"nxnakifu\",\"89ez30ea\",\"qxo5omah\",\"84fwup69\",\"ei929tlt\",\"ujcoanjv\",\"z2g1mx1p\",\"r0qzv3en\",\"tm2kesum\",\"46yeaavx\",\"6rwbtcmt\",\"y2dqi5df\",\"ppeg9z2q\",\"vy00r2b0\",\"kn87q7nb\",\"n2qlrez6\",\"5ct1mujm\",\"vk8s1f23\",\"bplelgpr\",\"ee53rfxw\",\"t1hwh3o8\",\"f7qh7lvo\",\"ot8353im\",\"bpfib2cf\",\"xhtkrjgz\",\"ek7udwrw\",\"g12hyyo6\",\"tri13sy0\",\"6n5gnow1\",\"dlhebvsh\",\"05ppugs7\",\"bhl729up\",\"41yxvtzm\",\"7n8rrvrs\",\"dafpoz3r\",\"0e18wkmr\",\"y9rqr1h8\",\"11edrkav\",\"61cl4k8k\",\"nwvm98h6\",\"yo9ynl9e\",\"i3iv9ewp\",\"s1mbk5ll\",\"h0m4a22q\",\"ivonjg82\",\"sx7yr9pr\",\"axk0aq3u\",\"8e9tdfqz\",\"eibueob0\",\"hmvo5b0q\",\"yubsj4rx\",\"b0weul0x\",\"dd5gw66t\",\"j2lanfjm\",\"ess14nld\",\"1q5ivslk\",\"1of5ertf\",\"t8m2qk0r\",\"81olp11p\",\"i84epslv\",\"adxc9ko1\",\"9pzgy66o\",\"hxp258y8\",\"7rie00od\",\"suzhg1yd\",\"nvoq7vsi\",\"6bmrqc5v\",\"asrdjmpi\",\"ydyp51ri\",\"5577efs9\",\"2pw76a64\",\"f9pk211l\",\"qpmeyqwf\",\"j0ucgrps\",\"8sggr4lj\",\"fzbu506l\",\"eno3160r\",\"ik7imk74\",\"4xve1bl6\",\"j9cwlzxu\",\"3m2mme6w\",\"49xvz389\",\"qqsmn72u\",\"rj2i3cxy\",\"av9q3p04\",\"3jwl97qb\",\"8u64vyr9\",\"f1h9dkwm\",\"z3jfxhca\",\"9xxw3vm6\",\"vr14h5bv\",\"91uj6sph\",\"om8ztm54\",\"oomxlk75\",\"5skt9o55\",\"ddr4rr7m\",\"09gro5z6\",\"rrbw8mdk\",\"7bgsaq6x\",\"izr3wwkj\",\"f8h9hlks\",\"608b4e63\",\"n95j94ck\",\"8klkojpo\",\"41kwjq8u\",\"arexn6f8\",\"m86stpnq\",\"6g1qxz9i\",\"ymzv7ocl\",\"33gepnqd\",\"9lusan32\",\"hlx4gdc6\",\"9amampof\",\"j64x6f5r\",\"3qbvlbwo\",\"y3fhubnc\",\"hmnb446h\",\"ybh8yk8n\",\"oaqqh21e\",\"yzb8yo90\",\"de2aimuj\",\"4lf8n7mr\",\"i7h70bis\",\"qw5bxmdg\",\"0pk8e2jf\",\"rygx2d3u\",\"7ukx4y6w\",\"mjgx31n9\",\"a7o0xom4\",\"5so17je6\",\"lofrebwi\",\"6hm6gp8r\",\"seo0cc2l\",\"amze2iqh\",\"7ftnttm0\",\"dafll0s6\",\"v6q09lwr\",\"yrxxi2op\",\"h4n7m5i9\",\"4extn9is\",\"87i01hsi\",\"2xtdt75i\",\"ag5vzc8f\",\"bo32mdh7\",\"0pq59s73\",\"b4s6mz76\",\"bv7akox8\",\"n178ls8c\",\"r0yekbfj\",\"bqodr0h0\",\"8s1lw59s\",\"n57hoty4\",\"cdthfl5f\",\"1209f3df\",\"p060sjkb\",\"8f0pn321\",\"quoa363m\",\"xm9ke8hj\",\"et87cukv\",\"oq1fbkq2\",\"2qds187e\",\"i2o379st\",\"uy90ulsy\",\"xfwojl20\",\"45gemxar\",\"og0iz44o\",\"5cm6122n\",\"edxi7u9y\",\"6jiy0b55\",\"kvyc29vv\",\"ke4wrmha\",\"6af1cf8s\",\"p6s5mci5\",\"5t00445h\",\"j6ybcv93\",\"0v4wvgl3\",\"b8lpi6dm\",\"d1iob1r7\",\"ricb63xp\",\"906w0zr7\",\"3fw8z027\",\"6zt8qa8i\",\"92o213bg\",\"810fmd8e\",\"pu9vd195\",\"304ya7fi\",\"wfizgwng\",\"pwx2aval\",\"boyqqbpx\",\"njkq3k7r\",\"znlnqs2k\",\"zkvjbdlf\",\"4hz2upuj\",\"ywe89dxd\",\"dvbqc1fa\",\"f99itvu9\",\"d4qmtysd\",\"sctzn7i7\",\"rkkimpbx\",\"hgkjnvby\",\"mtxdn5ks\",\"wl1uihn3\",\"cmqj8get\",\"e86wqbuy\",\"nhvftcvo\",\"1t0mklwi\",\"a6u7qguc\",\"2yipfs8c\",\"i4w63xqi\",\"3pklqjbx\",\"zhkslci4\",\"gapckmpn\",\"p7uwsu4d\",\"jvs5vtwn\",\"ah6p5oi2\",\"nukldq8c\",\"foekg5re\",\"qw1e5cof\",\"nlow8b8e\",\"6oaixh1h\",\"ld6zftb2\",\"xjbz9fw9\",\"6w02vzcw\",\"ubuetsi3\",\"t6cyxo6l\",\"erdwejd2\",\"ze7rzint\",\"avgxu5ie\",\"movwhsc9\",\"qz14s5ni\",\"6xavgbyu\",\"9psmkf55\",\"vpc76p2c\",\"i4nczo46\",\"6o50m9si\",\"hxkkb59z\",\"m6bwfubs\",\"6dpmmz4z\",\"zb6ih5dl\",\"sca620aw\",\"b6ltipck\",\"xsa8jpn6\",\"ybgjby5g\",\"b7o9n6cz\",\"awr5ny1l\",\"zl5lgcog\",\"in7rc3xu\",\"74qmy02h\",\"3hn0xkst\",\"5ji6512w\",\"67rsh5ob\",\"gvg8b14p\",\"yk9u4fvp\",\"sg3ay5a8\",\"f2zpapwe\",\"6oznrryl\",\"kjqozkro\",\"g8zezcj1\",\"t6sfs24q\",\"zolktlsj\",\"y467ydtc\",\"renssekm\",\"uxbfpx3z\",\"qtc4lrk6\",\"tq2jl6tq\",\"fizomohm\",\"221pn1vx\",\"yxtepbta\",\"zt6q2h1c\",\"gsoi59r6\",\"nq4uf0wh\",\"mwiiwl0k\",\"e79sx5tj\",\"8ravbor6\",\"98a9glyi\",\"wkm3ld3y\",\"tfx7tx9i\",\"cn9ukws9\",\"yh0okyrx\",\"su6vhs49\",\"vft55fm5\",\"n8romqlt\",\"gvpeuz9g\",\"v3xe5w8p\",\"db15tt14\",\"q65j5d48\",\"7ie23c7f\",\"7zm3bif5\",\"6748c617\",\"noejyvtd\",\"p9ssdlpt\",\"famjnaik\",\"dzzlpz4o\",\"3ehzct6i\",\"jxutbxso\",\"mkr7n1i0\",\"4tikrce6\",\"yfzod931\",\"8l0mpv3g\",\"4yjj4xwv\",\"rbrjlz25\",\"32o6cwhu\",\"1riprk86\",\"05hxrpi1\",\"19eej6bu\",\"sdumq61z\",\"vqxnnzcd\",\"ujbclp35\",\"1cpvboto\",\"7zy8gnf7\",\"9fuiind8\",\"cc39klkc\",\"81rq5vdg\",\"d6rg8j8z\",\"hdvlsuc8\",\"0cnyqwv8\",\"1b99hm1e\",\"wc6ih08a\",\"xtxfadn9\",\"1ocg0gj3\",\"3a18ye1h\",\"xhrcpxfv\",\"y90w53xo\",\"19xp903w\",\"gakvwvgm\",\"16im3xzx\",\"g3taxzwf\",\"vnqxfdng\",\"1h1hwbos\",\"pr8za61l\",\"3cw8zcee\",\"mswb3q67\",\"tecwuvs4\",\"wuhred9k\",\"v5kepma9\",\"mgqm9311\",\"gk2s4dfc\",\"lizkp0xw\",\"fvvgbwwq\",\"iwq74do9\",\"i2h0swu7\",\"pn6tu1sm\",\"i6grgo4u\",\"unwedsap\",\"9v5vfd26\",\"cm5fkgdq\",\"uefgdk8f\",\"xmc10kv0\",\"3emzk5by\",\"ltdav7ic\",\"4kf9mgy8\",\"cex96yya\",\"fdwrrpnl\",\"360mjoa3\",\"m5f4skti\",\"pyzh9fo8\",\"ry0etg4b\",\"kqbeinez\",\"8pgs02vj\",\"jqheqrhb\",\"w23o4s3r\",\"nhrzc7tj\",\"3yw5ig0r\",\"921orhjg\",\"na4mrzi7\",\"98n6ycwe\",\"05uppupb\",\"c2a07zg0\",\"847fac65\",\"ygzyw9h4\",\"taq5l1ts\",\"xne08vbd\",\"igq57w33\",\"jxjvimqd\",\"sbw1yn1s\",\"781feqx0\",\"d2lufz2c\",\"5n0mnmd5\",\"obvl9nto\",\"6s7oj88n\",\"fvnd31xp\",\"bf79lj4f\",\"tftglfs7\",\"k90i33gp\",\"w3er9e58\",\"35jxue66\",\"zoakplwl\",\"r8r86tqd\",\"ya81rc2n\",\"yad14cdj\",\"hit4kza8\",\"aqqo8bah\",\"5h80p757\",\"mnucvmr1\",\"lqpt64ub\",\"ctu3mrnw\",\"i49md5nk\",\"1lkrz70h\",\"ikepr2p2\",\"5ysikjaf\",\"ls20a2ve\",\"29a7njqi\",\"xz0k3zqk\",\"bwnvfs8l\",\"5gjhrstx\",\"fa7611un\",\"ymlzs5nw\",\"xxxhw680\",\"i9rpsiq1\",\"8ttk0l73\",\"56sag9d0\",\"yajhp7bb\",\"nbb5qrc8\",\"mzv9t7ex\",\"25cawzi0\",\"gy138l9b\",\"m9h9s0o7\",\"v2w0i2ex\",\"aq17yfcq\",\"dw3uarf5\",\"lzzp9zp8\",\"7ocseuz3\",\"q7izbxd0\",\"vyz6f3he\",\"6sgeraws\",\"pgbrtnqi\",\"u0xmlsq7\",\"pr6lhdpz\",\"cy7k8baw\",\"kj2tnw8q\",\"2pmpa7n0\",\"pxho2kaw\",\"dustkox6\",\"r6y06zwj\",\"7cygck74\",\"mxngvobe\",\"us29j281\",\"3iw7xl2j\",\"r8lymmec\",\"k3w8h961\",\"rkwgu493\",\"oxugqbwe\",\"7n5emzg6\",\"evkpk2d9\",\"fzba05wn\",\"r0e1ihdd\",\"r1gxafzj\",\"2otxft31\",\"e8ndfbrb\",\"qe7godp4\",\"s5iavz3u\",\"ttz7pvpi\",\"9erjf8rk\",\"crfn58c8\",\"0604jed8\",\"6jw0p7kb\",\"m9rxnm3s\",\"94bh6cvy\",\"n1kkcl1w\",\"kexfuoj0\",\"n5u6b097\",\"yx6b1gml\",\"g2g649fl\",\"scaccywy\",\"9io5w5zr\",\"d029nxm4\",\"0c1gbrqe\",\"gl6q4ati\",\"hf2f5rib\",\"iwq8uaho\",\"3hmv4o82\",\"12g7p958\",\"788e2q3h\",\"hueh82hr\",\"u9wkjm0x\",\"ixecnm18\",\"mtgfjyww\",\"ds3qgw5p\",\"ldpde54r\",\"dw5gdaa9\",\"lph892yi\",\"zlg51bpt\",\"znmsx6x2\",\"34yatsnd\",\"wby5bacq\",\"xedqhl2m\",\"bvk2nc1x\",\"yshj57rf\",\"9b6j5lk0\",\"lrbi5198\",\"ivrlx2ug\",\"k223ittv\",\"5opiip58\",\"6h1949p8\",\"a8jslzhc\",\"kpr3yndi\",\"rb4h9edr\",\"bporw5lh\",\"6yhjuqxj\",\"22iripr9\",\"go8lly5h\",\"q1agthwf\",\"qkr6jydj\",\"hpejohle\",\"lzy4cc8s\",\"k2keaggr\",\"3a6aky7i\",\"br661awf\",\"wbp2ykwu\",\"pk7pnmlo\",\"yy16dffi\",\"thqz4pv5\",\"cw0ewwdm\",\"sd0an0z3\",\"bsworuee\",\"c45feko6\",\"lr0fjpkj\",\"phf2sgw5\",\"7fqxu2ph\",\"1cht4bqh\",\"lezggdjb\",\"3i43x17v\",\"77b8ocfc\",\"2e3hjwiv\",\"b50gptdz\",\"cmnatjkf\",\"0p383h4s\",\"9949lon5\",\"kfjg81i7\",\"afagsm66\",\"dzr8m90i\",\"kun7bzwz\",\"ssy2bbrn\",\"nm7s3v5q\",\"9931bjmw\",\"lvlbwcl0\",\"itvc86cv\",\"069pelqj\",\"fugb778l\",\"uwecc6eg\",\"vb4eyjyu\",\"qx5osh0n\",\"m1v9q7gk\",\"744r7gc3\",\"y8ajajb0\",\"uep2tfnu\",\"q9kqjvvf\",\"xr5586zj\",\"lszibfbc\",\"oixz7y10\",\"smv2tuvz\",\"idel6l11\",\"b8lhf2hn\",\"osdp5xz5\",\"fwhi8qh9\",\"2o6x1km7\",\"bsllyhz2\",\"v4qanc4p\",\"p954kmcd\",\"zlmd3q9a\",\"loasm17r\",\"pt4uk6w5\",\"ca7wvjp8\",\"fx6el910\",\"j1x7js5z\",\"m12xbjps\",\"yltc6wpv\",\"0cgi9chx\",\"sun2nfn7\",\"40yhwoke\",\"rf8wjkdi\",\"zm38v6do\",\"c6xy0lkj\",\"tgw1kws9\",\"tuk1l0b4\",\"ktwqlubw\",\"2y4sjdtm\",\"imrg2qu0\",\"dns7cmjl\",\"jnxk77y6\",\"3bou4426\",\"petvptff\",\"m1qjnune\",\"e8k72955\",\"wh6aaqlu\",\"xzfo5jjq\",\"37ekh24e\",\"wlbja1gz\",\"yfai0izm\",\"fgjzo4xq\",\"8ceziy8w\",\"w23raqge\",\"f3sre07i\",\"vsvk7iuv\",\"tngrwsak\",\"8btefxgb\",\"d99qjip3\",\"ppveyxw3\",\"5m1ch7ls\",\"gxjygs0h\",\"wcl8z530\",\"b9sy9ube\",\"xpwsdl44\",\"k65bypg2\",\"mpvkalu4\",\"a28w5bln\",\"xoq9qblv\",\"n6lzen2f\",\"kqlra788\",\"ktppk6wh\",\"85jq9qzr\",\"tfn0ltrz\",\"7t5mm8og\",\"ke3n5ae0\",\"1nnjrjwh\",\"2y0y5521\",\"uju6214s\",\"7o5x3d4a\",\"hzzmbrc7\",\"lhkb1v2u\",\"l31xbv6i\",\"dz2lhq4g\",\"1n6lve4w\",\"dtua8dvb\",\"31kg884z\",\"1w8pr4k7\",\"pir3xmbw\",\"0uo5t826\",\"5dik5m8u\",\"te74xvnd\",\"tdz64op8\",\"qfuasag5\",\"6zld1n9n\",\"ii1h9bc7\",\"n0ggrp16\",\"2j52hbnl\",\"3mu9rrql\",\"29sdr9l7\",\"io2f52kn\",\"sr180ufm\",\"of5dvq44\",\"mmugwqe7\",\"3kdbetb0\",\"j4w27pzi\",\"c6601yxb\",\"qydo3yr9\",\"nlui9d6e\",\"3r7trjrf\",\"wdnnjlcw\",\"72dr70oe\",\"yjr6afqi\",\"m1awr1rm\",\"u4mpclwh\",\"ipdyywbx\",\"2tax8ajw\",\"2sz7j89r\",\"ria9v2p6\",\"okc1hovi\",\"l5ogbl5p\",\"uiti7isd\",\"72f6yysw\",\"okbreua3\",\"idymxcdx\",\"c2k38u6i\",\"s1b6uamb\",\"47m17k1t\",\"t9mxjsuc\",\"8dv8n3ea\",\"ewjpucpq\",\"ekesy1qk\",\"7jrqoxe9\",\"axi02p00\",\"62va6ikq\",\"w76osch5\",\"baq47reg\",\"h7sxkqw7\",\"qrba3bff\",\"cil3vj4w\",\"fjxguh5r\",\"phq5bxyz\",\"pexadl7z\",\"4wel65eo\",\"b47haum6\",\"ew2kjq5s\",\"shb994z9\",\"6hurfri9\",\"rznoo1b7\",\"ns9kf87i\",\"8ez3jdmc\",\"7yucn30u\",\"oe4pdiw4\",\"r9yngrra\",\"2an4ebq3\",\"uu4k2j2a\",\"vddwzeew\",\"7uukeqea\",\"xilenqax\",\"j68x0yd1\",\"7bm33lqz\",\"c0aw6jkz\",\"0f5eqxyb\",\"lvm5ej0c\",\"9avdzh6g\",\"535cpe5x\",\"b06084r1\",\"4wt2s03q\",\"6ua5txjc\",\"tmlatghe\",\"9rnvawfa\",\"jk5j9fpi\",\"w3catjj3\",\"6ym9qwkd\",\"609eozai\",\"199senps\",\"j4vylbhy\",\"d3terz0j\",\"wbbotohj\",\"wwucpqin\",\"c7skxte0\",\"2lh406q2\",\"ebyidb6l\",\"lyd2imag\",\"bh2dark5\",\"6e8nu6nn\",\"txfzik7z\",\"zg3gu28f\",\"6fh69mk4\",\"z4egpcld\",\"cvbpgvso\",\"cz3dx4ld\",\"pkigizib\",\"k8s4eevt\",\"nf7v4e8h\",\"5aszobbw\",\"i7vx1sg5\",\"rs6hsy8u\",\"5nh4zp4u\",\"fs5rx07q\",\"2x7njefq\",\"35uroe47\",\"zz58w3ro\",\"2aqegze8\",\"3r5vycnr\",\"7q8hjzfc\",\"s842zn9l\",\"q2z05cri\",\"8vl1m068\",\"9nt8l9da\",\"wo0pfpq9\",\"ucwlgs4i\",\"wehyny8n\",\"6j20p0gv\",\"unut3h5h\",\"lkw7ony8\",\"m1e9raz3\",\"1ru3wgkk\",\"lx7m9swa\",\"5vs82s89\",\"hayhbs5u\",\"0i1h9ukf\",\"7zme0kxy\",\"3iec1te8\",\"v4ncshav\",\"s0cxhf54\",\"hmii6bvq\",\"u4gc98g4\",\"op5wcxlg\",\"wnuqe66q\",\"4pztbu51\",\"pl4qmvex\",\"buz1f5g5\",\"atcpxfs4\",\"95fz95ne\",\"1he26n1o\",\"340zwkin\",\"sp6w3ldb\",\"dw2xblyr\",\"6rsklvhh\",\"r55fe25x\",\"jmagvo5s\",\"vhgvuk6a\",\"s4327gea\",\"41m5b96p\",\"rgc0o2ws\",\"le0ftbps\",\"tsm48wio\",\"uyn7c5qh\",\"tvcundwj\",\"y3c4uzmv\",\"71qh6yjr\",\"yjudxakz\",\"58ahygu6\",\"msefg1ww\",\"1etlv9nx\",\"f3bpwm5j\",\"oemsmzon\",\"0b7aui02\",\"u6dasgqi\",\"ljkdcoan\",\"mpmneelo\",\"e0plqpgb\",\"cvesi5u1\",\"1ihm08gq\",\"lt9is0is\",\"itjrg8x6\",\"ee4o9ahy\",\"7aop9iay\",\"j6zirpyz\",\"iohvj16d\",\"w054dkn1\",\"p3uord42\",\"ahfyesgv\",\"wl0v8lng\",\"zva0nr1k\",\"hyig2t8c\",\"5242ns8i\",\"z291xh1g\",\"7pnz98o6\",\"ju09xvyz\",\"gr2vioor\",\"6s27v6at\",\"50njcfe6\",\"saloatt2\",\"vz47ajvr\",\"74joo4yr\",\"ju4gtfjg\",\"f3784mjc\",\"308k2m2b\",\"faec051u\",\"mob8dbcr\",\"ntknzc3n\",\"0btb65c5\",\"zxe95qy9\",\"gugmzisp\",\"lt725v4f\",\"5z06apoz\",\"eih2yvls\",\"jnl4jdob\",\"ztfzi3be\",\"z1xx8rqe\",\"n4b9om3c\",\"gngx618g\",\"69zx97my\",\"39cth46v\",\"jtyoojte\",\"mnaikw2n\",\"qaw99njr\",\"788zjhkn\",\"oks2pddu\",\"d53wtyim\",\"gykw2nvt\",\"ruxa82xd\",\"n38f0i5z\",\"nyg4iu4q\",\"1fxdu19u\",\"hbalyfy3\",\"zzc7n84w\",\"n527noso\",\"yuk8r3gt\",\"549r1cat\",\"mwtifswp\",\"mtgj5vuk\",\"hms44bie\",\"gmh1ss76\",\"qgjr8ldx\",\"qlmltr3n\",\"l0z56qx4\",\"fw32uyn6\",\"vhghhvnu\",\"b3xier18\",\"nn3q1hw5\",\"umoowoa2\",\"ijahxy6l\",\"ewxo8lg4\",\"fcnkwwpw\",\"zvmfes11\",\"8dpq0sz0\",\"p34ezktf\",\"363z2zgl\",\"wguvz5w7\",\"09gzchv0\",\"0j4rid7k\",\"s5mxes4r\",\"bvpyom24\",\"8j41fvyk\",\"5iwgebvp\",\"2bo8z52j\",\"ttm9tshn\",\"bpkkbp8h\",\"hpg2uw4v\",\"nczeiqmb\"]}\n",
            "{\"positive_doc_id\":\"u5nibp17\",\"query\":\"What is the optimal level of quarantine and isolation needed to control the spread of COVID-19, and how does it vary with the rate of quarantine and isolation?\",\"negative_doc_ids\":[\"hilf0r9t\",\"26s2anvp\",\"5blojnvc\",\"xfei3wi0\",\"68amlriw\",\"ghmvmkez\",\"mgbvutrk\",\"ik92udod\",\"0u23not1\",\"srpcov46\",\"d2f7kfmv\",\"d9y31nlj\",\"b4s6mz76\",\"lmo0ry4k\",\"we62087x\",\"vu431218\",\"zgzjl8uy\",\"e8qca6ye\",\"0wycbaki\",\"ptb6dst8\",\"wf5p0ecl\",\"mujpekyu\",\"xz7dpnr0\",\"kcb68hue\",\"sxgoz54c\",\"dpiiaxxt\",\"90o6d9g0\",\"vla37afb\",\"6dy16352\",\"82o75tet\",\"jt7ctj2z\",\"k8gohq9o\",\"nbn42eo0\",\"5zg5g77w\",\"jnz5by5w\",\"y520m28z\",\"8x99pb3w\",\"m27nyzrw\",\"vuvd6mvz\",\"g47k6r90\",\"9ezhwvv9\",\"s1f18nde\",\"ovjcbe25\",\"m9icky9z\",\"jlu4e4td\",\"s9h1jzzs\",\"c7weqc03\",\"fepjg45p\",\"5jjstgkl\",\"wwr777rk\",\"2gm4n85q\",\"51ih0b2y\",\"foekg5re\",\"iobpcfs5\",\"4o5l7h0t\",\"1d1xhk99\",\"un02vlkn\",\"xwghd9ut\",\"3e0bhyfk\",\"9b49796l\",\"x2b42r9f\",\"ka7nvqcc\",\"dsmdqp2o\",\"clsrt0dw\",\"6qarauys\",\"3l02stc3\",\"sehtk97f\",\"9o0sjnml\",\"ke4wrmha\",\"pebjtb96\",\"xr4g78b5\",\"3aydxtl3\",\"wvtczrbb\",\"jpxjiaru\",\"6lql1m5m\",\"l88etofn\",\"o0okucwu\",\"nvudywc1\",\"s0zdqd6d\",\"8874c8jp\",\"222c1jzv\",\"eg0syz2w\",\"pigamjae\",\"4ah705nc\",\"lgphvgar\",\"79rpu3qf\",\"m3nqa321\",\"gaqa24b9\",\"bbi5j8ea\",\"1jwrq6j9\",\"5x3k4m3q\",\"ngsstnpr\",\"kitltmh7\",\"ark2r5wh\",\"tq7bqmhg\",\"8esaz4or\",\"aqqo8bah\",\"6eonuc8x\",\"ei4rb8fr\",\"a2e7qh5q\",\"4w8qhup2\",\"jhgphysn\",\"u74jut63\",\"m8aevraf\",\"kjx03hju\",\"32hjzdum\",\"68ykes60\",\"c4x20sia\",\"5fe8lehl\",\"rr7r7ef0\",\"iil8bzrm\",\"r044iimd\",\"9xvhf7ar\",\"56j9rjjh\",\"05i5j6js\",\"8z6nmmyq\",\"mnmliv4e\",\"rjrx6saw\",\"qb0frju1\",\"fmahx3lx\",\"vpl2xu2r\",\"rfni76sv\",\"ps4w8te8\",\"5kv2j7nn\",\"db10may5\",\"jb7kdabi\",\"erxxs1a7\",\"fkwi6ze8\",\"7vuejy26\",\"wqh84nsg\",\"az9e2byy\",\"r9itwxcp\",\"lszibfbc\",\"6vs96f1j\",\"veodk758\",\"8s5ypdho\",\"jlxkr8p6\",\"d63q4spg\",\"ot8353im\",\"t2y4mzx6\",\"hwat5zz0\",\"byp9heum\",\"ecdjebhj\",\"ks1l11ot\",\"p5eqgwkd\",\"fevvmqe3\",\"6yrs1sqq\",\"v3n9ff16\",\"6f6t558e\",\"8ynk9k8r\",\"2pcc8dmt\",\"suh39ld4\",\"yt9rj42s\",\"1x3dp1vv\",\"ajqbljai\",\"l2fenhya\",\"vryp24pn\",\"rv7vjdpg\",\"v88f9e7m\",\"hs4vs2cu\",\"hz8cd2md\",\"nowwviz3\",\"09gzchv0\",\"qarz4o2z\",\"yyx0ydht\",\"3tipg0ym\",\"yyux8k36\",\"xzz3gu3l\",\"qydo3yr9\",\"fllqdn4s\",\"gzzkngo0\",\"2sq8g01x\",\"dgha14wo\",\"9vsi8hfx\",\"vj86rtx0\",\"i3bjywcw\",\"ihq2cpe6\",\"1yo8win8\",\"h0e7fgjv\",\"m4xba78g\",\"96tvnecq\",\"r8vug98w\",\"68op3d8t\",\"od832cia\",\"4j3fdjlg\",\"h1ktlceq\",\"ejr0gvxp\",\"23mtbo84\",\"q5wiqpcb\",\"xi2xvl8s\",\"srzno341\",\"e5kwb4dy\",\"hdbbgee2\",\"asercjr3\",\"exmpexrw\",\"s91sz7c0\",\"o2vae3ia\",\"ts3llerc\",\"jvpwltbx\",\"vgbhyzb9\",\"3mwx9s5x\",\"lwe7whmg\",\"gn8x6n9b\",\"pn6379q6\",\"cuemi94l\",\"2g6jxi5k\",\"nexy77dv\",\"e2p46wa8\",\"igpxdj5m\",\"z40j06sy\",\"qun1kyvw\",\"1dho7mmd\",\"1vc1h7kt\",\"kg9imute\",\"rv06wb3x\",\"lb0k7wxy\",\"vkd5zwtd\",\"6f7sjujr\",\"kysv2zrq\",\"qvv62yr9\",\"gdsh8wmv\",\"emui8kb3\",\"vpodtbjk\",\"nmx91h0a\",\"2nzmpjlj\",\"flkd7u9u\",\"algpj6k5\",\"i1q3n101\",\"nr7fmydo\",\"ndwbnsv3\",\"lmw13n6k\",\"rd949pro\",\"s4lsbl1j\",\"7foug62h\",\"a54c5qcz\",\"9hrrkqgi\",\"y8hzi1gl\",\"ek1m4yiy\",\"8thnpepc\",\"usp8g0nq\",\"9x4pbm1t\",\"dnshqna6\",\"4sxsyr6k\",\"ln0o7jyx\",\"t87xrilj\",\"ew69xoot\",\"1ocg0gj3\",\"mh7mzuoe\",\"t5cfza23\",\"szu69bys\",\"t1ggb2cj\",\"j8x384vp\",\"2697ts31\",\"tt1bbvdq\",\"29a7njqi\",\"urmogf97\",\"wxgi2cj6\",\"lasjsm7w\",\"u4uvwpj0\",\"pughsygu\",\"1j6b2gqo\",\"3jwl97qb\",\"v3blnh02\",\"4ec9n4d0\",\"z6cp42aa\",\"rjzther1\",\"lh4cs5qz\",\"0iurfr6h\",\"q03884i9\",\"eecl7nl2\",\"7lrhf88p\",\"gh58t6eh\",\"rzurz5bj\",\"fttwshmb\",\"iphuh7wp\",\"z9tk3bhi\",\"15slu3kk\",\"gz2qv4m6\",\"lejn9z0y\",\"82b2jg05\",\"8y92vh5y\",\"3clh1zv6\",\"ts3ra09u\",\"qszvwqtj\",\"5toc1b8f\",\"nvofyg16\",\"ue7g2vpx\",\"6ev4ed6z\",\"v3arkk2p\",\"xamybm81\",\"ejskxpsu\",\"zq86ms8w\",\"29pj30j9\",\"evjs1490\",\"g5vxjkur\",\"u8i3kbl4\",\"9qdl3jt9\",\"8dv8n3ea\",\"8w22yn1i\",\"jzb09eb9\",\"onxosato\",\"0ai8chbu\",\"27z0z409\",\"rjp21ogj\",\"9eti2heq\",\"lkupo7x9\",\"5x3ztp1n\",\"ilkmkun5\",\"d9jjavx8\",\"h0yzj1ro\",\"vno8vjg6\",\"tbpr30ic\",\"r77p53d1\",\"97c92pu3\",\"azk7dfub\",\"r123ayhe\",\"srbyxhxd\",\"ei1nkcmf\",\"f6f3qhsi\",\"9sr5b44k\",\"0i8t11vj\",\"23xkaa19\",\"3dx6deei\",\"uk67ac2r\",\"hycpqla9\",\"vtwvjtd0\",\"qfzh86l4\",\"x7yugjzj\",\"arblbs1w\",\"tkfpcowf\",\"17jvvfr3\",\"lu9mum1d\",\"ogqsi3ns\",\"bcfm5epo\",\"kromgrnu\",\"qdap5cxo\",\"wh4ald1r\",\"mmvbkbjw\",\"r53su7jm\",\"0vrb3law\",\"umkg8n5q\",\"m5ptobvz\",\"s6dnt3b7\",\"su9qkmty\",\"8tallaqc\",\"qnf8o5br\",\"feen4e8w\",\"m37n5kr9\",\"kdhp9cwo\",\"tzz7nl04\",\"ix9x25sc\",\"x1jtn0px\",\"msae301p\",\"q8p187qx\",\"6x92lwlv\",\"q49c71l1\",\"brt7ud3u\",\"nrzcdc0g\",\"bdmu9cz2\",\"lgf0nwgx\",\"9fm6l4x6\",\"5ufy25kc\",\"4uslmbmw\",\"uexec8ux\",\"uilzmmxu\",\"zs30wdhl\",\"svo94kuo\",\"d1jwk7zm\",\"h2hhn9es\",\"c84ybwve\",\"7ofa04l1\",\"48qq1f78\",\"u6b8iwr0\",\"y5ljaa63\",\"jul5sadv\",\"lp4vhwsz\",\"w57e1eu6\",\"qzxvh2qc\",\"try8yju1\",\"88gb52j8\",\"o3bp0837\",\"unq04cju\",\"0bzrko4i\",\"fex8sd1t\",\"fmucyl4f\",\"6vkqm2hd\",\"s4q7eitn\",\"gt5pq29h\",\"3i1uub1l\",\"74yqqocc\",\"hjx91t2q\",\"ef721182\",\"qyg3phma\",\"ggub9u83\",\"zl5mhuth\",\"uzqdx3v5\",\"qwdjb7vk\",\"3oovwwem\",\"zpywr5d9\",\"gs4r9j7o\",\"glu5xlsd\",\"jjb4k1um\",\"8g47xmjz\",\"lgz5khav\",\"dvh7c54t\",\"1ub7mcvx\",\"gilpb3oy\",\"aghf4p8h\",\"1cjzuals\",\"ta8sss1s\",\"mow7glzp\",\"epenenbo\",\"dr1ym2mb\",\"nwtwymdr\",\"voli003m\",\"2g4m0dy7\",\"j5jr3cvw\",\"oljg1ldn\",\"9pj5xqks\",\"401tisd3\",\"agwhkfcb\",\"oq46065c\",\"7if0owv2\",\"e350kj7m\",\"4vgbzcx8\",\"w27fkqg3\",\"g46myqe7\",\"7htcicqg\",\"4haf8aaw\",\"8txtk0b3\",\"6kq9cefs\",\"mr851682\",\"qvu7981m\",\"v91sfqt6\",\"gixhroz3\",\"t0indvpn\",\"rsewj2mv\",\"62v5ej3c\",\"xa5ubtah\",\"i8q5grdh\",\"ukjtkzd8\",\"x14iywtr\",\"okfzkidc\",\"kfjh9bq9\",\"ge871ypq\",\"xqowfmzz\",\"5381wzor\",\"zueghgx5\",\"gvxuz8jt\",\"f460m8bf\",\"b6r6j1ek\",\"1ttv56b9\",\"uig5y33c\",\"19pw86uo\",\"rr36a3my\",\"01hxgcds\",\"tc96t3tb\",\"xdgd11k6\",\"0a3hx9gb\",\"ieatbmak\",\"phibo0fc\",\"4iznx549\",\"zjmshwl3\",\"9332svol\",\"7ky38p3w\",\"ca92pbvi\",\"vjtwipu9\",\"o4816yco\",\"6eafic1k\",\"4outpiwu\",\"xilib1jg\",\"5rz7gk3m\",\"jl5z8tyd\",\"ejrcujnx\",\"f5zokomm\",\"jrvurm62\",\"y64wuxp4\",\"q2716lda\",\"kpjopsc0\",\"vb4eyjyu\",\"1rc2swfm\",\"zva0nr1k\",\"fetbio7q\",\"khqx4t4q\",\"pps56i3b\",\"m3f2n5uw\",\"ezz0fcbb\",\"ghdywizi\",\"qnnt7e6s\",\"2ncdreah\",\"aveb6bdi\",\"vm88faiw\",\"9gvdpt61\",\"r2mwzzaw\",\"x8i5x62v\",\"203ihdb7\",\"73yg1bi1\",\"bjc0dmgq\",\"acmfhbtm\",\"grwyhs04\",\"ltdajnyy\",\"pw4kjry4\",\"ib0cofa4\",\"rwwznlip\",\"pbczw5gu\",\"0s81kk03\",\"t62m8uwv\",\"dvgigmdq\",\"tob9ui0v\",\"c2kmog0g\",\"isees09x\",\"ai0hz4uq\",\"priiggyi\",\"ihfo778i\",\"gryanolh\",\"gy0kfhy6\",\"7lz06a7a\",\"2qpcot6p\",\"huh3mkv4\",\"a4ulg4ck\",\"vbg06yyw\",\"r3lgpdqq\",\"6jvx3l1u\",\"nygjg7h4\",\"0tuytqnx\",\"1amm2hh8\",\"8b9hbpzs\",\"9i61rsei\",\"h1ywhuwh\",\"zdh8ms1z\",\"f9r3ge7n\",\"h24xix96\",\"k0d3cn3u\",\"8t35z4gl\",\"xqtgao57\",\"bb6lv6yg\",\"for4729o\",\"7mk1jbn9\",\"ver7x3lx\",\"w5u4zxdb\",\"naxmx8pk\",\"2oi5km6u\",\"7f9c4j5m\",\"uqoa2z0f\",\"52c7myio\",\"9stj6pnj\",\"g2zj3cou\",\"ru1unusq\",\"5quoa15h\",\"vaexbkof\",\"rmwi1yo0\",\"hmvo5b0q\",\"zcktrmyg\",\"r9yngrra\",\"leh2ny0e\",\"b8a78ym6\",\"cr3dgx3d\",\"3wegrnyn\",\"tw7f32uw\",\"bwmpamea\",\"tswojeuv\",\"fw7dh5u3\",\"a2pqrdln\",\"5afj1mnr\",\"uys4etn0\",\"g5kbgymf\",\"v9wynk5x\",\"f43392kp\",\"azv7vf0d\",\"u7dgeqoh\",\"mbf9lqdd\",\"5zg3xr69\",\"fye1yhha\",\"h4kmrxeu\",\"7w1qyb0p\",\"cwwycik5\",\"6yfj4co0\",\"52zjm9jt\",\"45edcrv6\",\"0av6gx7r\",\"pxfrh4a1\",\"0z826j39\",\"m5487mn0\",\"hbwul2p8\",\"ln1l99uk\",\"wtk27dhx\",\"h1xoy282\",\"4i32jv9i\",\"gmx1p71j\",\"w8ak5hpu\",\"fagtfdx1\",\"djq0lvr2\",\"hqs9rvq6\",\"lyz8cyx3\",\"kqyo1dgd\",\"vd5lfouz\",\"1vbps6ig\",\"ykofrn9i\",\"ju4gtfjg\",\"arexn6f8\",\"nyu97wow\",\"1nnyg89n\",\"czwgwnmn\",\"xybs5b24\",\"kjnnh00e\",\"l5ogbl5p\",\"rehb912d\",\"ckay4ufw\",\"pac60omg\",\"wlncrdv4\",\"xxg9ha5z\",\"v5js0ssk\",\"j0a3tgbd\",\"jcjb89wa\",\"cgde85eo\",\"hnlcwa7m\",\"tc02pxt9\",\"dt2c48qd\",\"45dy34u0\",\"e05pln2x\",\"8jvljcuh\",\"1qeiho6q\",\"eg8p2030\",\"kowo6dt4\",\"idg60ids\",\"9gllxpjd\",\"9wqme1k3\",\"i2acghft\",\"wp8bc0t0\",\"f0ahn4iu\",\"29kudfjp\",\"dh3p7k3a\",\"ue489rpx\",\"7hkowm2y\",\"yp9kj5cv\",\"a09wfmj9\",\"t2x4yfrv\",\"o1yfuwoy\",\"nsanzt0n\",\"3e1ji2mw\",\"5lrd70ir\",\"uo4k3grb\",\"s62ip646\",\"9ufwwz8u\",\"p8cu27ma\",\"xfi3p601\",\"r24lvhvs\",\"gokevnzw\",\"v6nzp73y\",\"9xh51cd1\",\"w9a4tpsu\",\"281oiwuz\",\"iqe6sdq2\",\"73dwlakt\",\"nfg613c9\",\"f6kaef4a\",\"orlgzv71\",\"98i0dwat\",\"6cwjuooq\",\"2rgiz01n\",\"qfuasag5\",\"37katpp3\",\"6gsg0u53\",\"8625dwfu\",\"ofccakya\",\"u5qt9es8\",\"cqrldx58\",\"ptfhjlav\",\"usvaeygq\",\"06jig1oj\",\"0d9shlo3\",\"vfeu3zli\",\"2cvp8wch\",\"mbndm4sk\",\"31jzsl2y\",\"jza49u9h\",\"hp3qdmdt\",\"k4204pb6\",\"q0eghbna\",\"z0gysxni\",\"jgfmbvii\",\"1uggxinp\",\"e2ncyhk2\",\"5c579tli\",\"soei4j7d\",\"6qtwh53p\",\"fri9zun5\",\"xtvy79a3\",\"ufbmmlmj\",\"ydbye9z7\",\"dnaith3a\",\"1aqxxmf8\",\"vghauzfu\",\"gp4i8xhv\",\"tg9fwb8j\",\"soq96b5i\",\"6hxl3di9\",\"dqkjofw2\",\"w9laappc\",\"mucsf9op\",\"u7zxlgxz\",\"pdpg55aq\",\"ztrv92cr\",\"0ojan1ey\",\"3lxvu00w\",\"9pn2reoh\",\"ca053qzz\",\"emodr41j\",\"ophojm43\",\"3l1cp1w8\",\"3mzzbtsm\",\"yrw1wj8m\",\"djitemau\",\"5ttz48he\",\"upwn9o2m\",\"1s0jw2bd\",\"myyrjc5w\",\"ejdbx7q7\",\"hdpdo6qv\",\"cgwek4kw\",\"mj1ax2al\",\"l352l3yk\",\"yp8x5zwi\",\"65fwicjz\",\"8eidc6e9\",\"0slhylvz\",\"02j2nwqr\",\"32lau54s\",\"fyttjb32\",\"oyfx3ij5\",\"cvmnmg04\",\"i3criz4j\",\"z9jk1n7o\",\"0j4rid7k\",\"mmy45mhm\",\"s2gidnce\",\"6yt479hk\",\"x7t7thg1\",\"nek58pxo\",\"ry3m6x8c\",\"dpssd1ha\",\"miem1poh\",\"ujh2nmh5\",\"y0gq9kgk\",\"00zcp325\",\"6fskjdi4\",\"8wpccy2y\",\"ts9gco6p\",\"wgcmuhf1\",\"4vrqzbof\",\"z71c6xeo\",\"azdu4rgp\",\"z6z8avy0\",\"41gd7rug\",\"j0nm444m\",\"px0twvhs\",\"pfyh5id7\",\"rk3d6se9\",\"k6qbxrg6\",\"n2u0fu4j\",\"mg9hofte\",\"rsjx62i4\",\"3s2g3o81\",\"baujkbnz\",\"90yiky0n\",\"l0b99hye\",\"ud782pt7\",\"ql1tthyr\",\"om9qd1ne\",\"becy7zyj\",\"h2nk4iot\",\"m6qurano\",\"me9ie5u7\",\"ilhhdwe8\",\"a4282jtk\",\"xtpa84h2\",\"87ba4k4r\",\"hn1shmog\",\"1odiafhw\",\"z3ge4pol\",\"adxc9ko1\",\"ldyfoxdq\",\"0ia9q846\",\"lb2tuol2\",\"nyan7jnt\",\"jplefgee\",\"omokne9u\",\"9ae26r2z\",\"mcywx9ol\",\"aqwdg489\",\"t0blvz92\",\"ask2jhg5\",\"hpyh2dxy\",\"qkl2yiqa\",\"kym04u27\",\"s5p7uzoq\",\"ilhnluqc\",\"eoxrh2sl\",\"scbbps9f\",\"1f2luunz\",\"zsh517cb\",\"i8w88cb0\",\"ht88wu6s\",\"yh0okyrx\",\"0bvdcroc\",\"fnrt0jo5\",\"uzj8smoo\",\"bcd0y9c1\",\"fcdesvfi\",\"s0eq3jy9\",\"0croajal\",\"wcgw16zv\",\"wv28qg1c\",\"7l8roegq\",\"ri9aqyck\",\"cmw0lgpd\",\"cs67b5su\",\"gqw815xx\",\"mdpyzr7c\",\"mitvv9rp\",\"ugus60mo\",\"v5bmsln8\",\"p6cesrdb\",\"yvsyo4l9\",\"73cfcubp\",\"vxy41zov\",\"7r2xx73n\",\"sxno0tfd\",\"p80d3n8k\",\"9pl7mta8\",\"wzq5k3te\",\"gxv6cbom\",\"wldxibrt\",\"8gvqgmuv\",\"zhzurrlp\",\"dxvo3by5\",\"5q4leivx\",\"qlkanjs8\",\"tpdkdeha\",\"yzt85c03\",\"o8uk6if2\",\"tqpm3qj5\",\"hao5hft5\",\"8patrxld\",\"3suti99o\",\"0f8v9bgi\",\"4lz45ywi\",\"7ucc64uh\",\"0xqhpqm4\",\"g3f8cqpd\",\"gec6n7lb\",\"2u228xe9\",\"tr1knchk\",\"6imghzg1\",\"aoqyx8mk\",\"zooo00gz\",\"fhepdgz9\",\"2xxwft4g\",\"bjij8ds7\",\"1gbdrmvu\",\"gs2wi7hr\",\"hr28qy4t\",\"67md81fq\",\"kyy4z4wu\",\"64igat2s\",\"ag4faw4m\",\"8ilsk5yf\",\"fryvl4vt\",\"vw4vul5j\",\"dy2tige9\",\"vl5zhxyh\",\"mxen3n0k\",\"ham7q345\",\"pgr2jpl3\",\"y7ujxvgj\",\"scyndvq8\",\"ymas7mk5\",\"2cakhama\",\"6om7unal\",\"1tz62rgr\",\"7gfs3s2p\",\"ynf5bzha\",\"9du2negf\",\"grmef7ab\",\"2xflheth\",\"k47fv9j2\",\"tnwfp1je\",\"1fm9smfr\",\"8tiutamd\",\"tbsccwgx\",\"lxbnwed0\",\"691860rj\",\"uq19u471\",\"7519sr13\",\"9wd5x7r1\",\"4vhlgqig\",\"8crqwe2q\",\"yfjpmo4u\",\"sqe4dtlb\",\"wk2tjxxi\",\"xug6bxgn\",\"x2bi3v3u\",\"ply7gp60\",\"1wcltcpr\",\"t5gbl7p4\",\"nr7cvd40\",\"q4nzhbvt\",\"jmqh8006\",\"aurcsiag\",\"7t5mknhz\",\"0klg8yvs\",\"qsxn5onx\",\"9fm1ewss\",\"ivb8tm4c\",\"0x294f8t\",\"baheh8i5\",\"3mbmq3rl\",\"eqd1vcmi\",\"gc5ieskk\",\"873jmrtk\",\"r2x3awlw\",\"4e0n72dj\",\"pbs95hy0\",\"o80y5cic\",\"rh00pi2j\",\"bts6oju2\",\"bkd7ztaa\",\"53el0fqr\",\"olckhtwl\",\"fsjze3t2\",\"2nqava5a\",\"itefsyv4\",\"2j4z5rp8\",\"gduhterq\",\"oin5s5ub\",\"qrykqohx\",\"eru2c5bw\",\"rc88vn6e\",\"cenc2u15\",\"c5shbba6\",\"gk8cow8k\",\"szsb1oan\",\"v49bgnqk\",\"k9cg0efh\",\"9hgtvm6d\",\"wadta686\",\"x12cqydo\",\"k6hh7yft\",\"m6t1ggcy\",\"i5b0k41k\",\"eyyuo052\",\"v946wp4n\",\"d12eavcu\",\"fqoai0yh\",\"5u62q7f8\",\"4smyxdcr\",\"mia3dytz\",\"ncr8i4z3\",\"j8uleim6\",\"nskewteb\",\"fkunlpoq\",\"nbve6g81\",\"kk39ywfa\",\"5sqd0c71\",\"twh8k0rz\",\"2tygnf8l\",\"ss2ojcst\",\"e5nxkvo7\",\"6a6njt3u\",\"x1gskivc\",\"a4khopb5\",\"u7caoztm\",\"2mlu8evo\",\"xzhoa03d\",\"21deuayd\",\"l9xibe6i\",\"d13j2pt5\",\"64fuqj3o\",\"km5z3hpf\",\"0qcp1rul\",\"dvo3q193\",\"wm36vwxb\",\"v99xg2ny\",\"kptk5drq\",\"9m0mslk9\",\"13weny1n\",\"ndnl9boh\",\"69nnyq8p\",\"wdnnjlcw\",\"od5nnxvg\",\"9h45c2di\",\"hcl5b7pq\",\"14jm4ayn\",\"8gh2cjvc\",\"3rtx6fo3\",\"gtmpn7vo\",\"xubsqetp\",\"ealibraq\",\"v9gfh3m1\",\"v99vlnox\"]}\n",
            "{\"positive_doc_id\":\"9ga0hklg\",\"query\":\"What is the effect of IFN-α on IFN-γ production by Vγ9Vδ2 T-cells during chronic HCV infection, and how does it improve their function capability?\",\"negative_doc_ids\":[\"zeu5rokj\",\"8txogxek\",\"c405lrjb\",\"jigc7nr7\",\"815wzghv\",\"d4jd1jnf\",\"k2a0q9y8\",\"651shwu2\",\"ajann22b\",\"ihw2qckn\",\"u3p9wldw\",\"r9rn0yyz\",\"675wjv05\",\"32id2m34\",\"99qg7dkk\",\"p493tr5u\",\"4brgo7hp\",\"yw6rm761\",\"vor3dbcn\",\"w4emoao6\",\"vfi2vsod\",\"dfdyqqi1\",\"sm3ej4ty\",\"ivoyw3fn\",\"wobsyenq\",\"nbtfb39r\",\"5aym41p5\",\"yh8zi1ee\",\"epccjb9b\",\"jerxjqma\",\"0go1vl9q\",\"tv7gb7zx\",\"c8v3e3sj\",\"vm2tk2eu\",\"04t2oee5\",\"hsyvblmy\",\"9pesnlrt\",\"2tstixkj\",\"l6d8b9hr\",\"sh3010q8\",\"xvd1yokj\",\"6x29v3hc\",\"ub1pozkh\",\"rhld75dy\",\"zvqxwvs1\",\"qp3biiu8\",\"q1yz7qlx\",\"3y2do81d\",\"l8gszu1s\",\"3qemb0x3\",\"3omybzhz\",\"ew2gr67s\",\"s6qw8l4e\",\"5d2fenla\",\"ihpx9gru\",\"t7vav41i\",\"dd98qb6d\",\"mqicryxr\",\"y8rri7hg\",\"ufkojrk8\",\"0am7p0qk\",\"4owfih6l\",\"xhnqywqb\",\"6gmpik8h\",\"8hcujmuo\",\"f0xd4ph8\",\"2tmsxja8\",\"m6abyuvx\",\"7n1a3ete\",\"is51asw9\",\"7wmejjp4\",\"1muwp1t8\",\"6acjgug3\",\"5x4qbvyj\",\"yvp5kfto\",\"85yd3h2b\",\"20evfmcf\",\"9rrqjqzb\",\"bbe18xb4\",\"i0zamkpd\",\"dk1nmok1\",\"chgx70e2\",\"5qwtvm9x\",\"362hyb9t\",\"vrc3vra0\",\"c8pfu7hs\",\"atrulvc0\",\"dokiyfyb\",\"zid0rc95\",\"35db6qsd\",\"jhu5j288\",\"pzgq6cw0\",\"kocj6nqc\",\"44imoolt\",\"q30bfc3i\",\"4wjm8n8c\",\"bb2lq2fo\",\"04ljoezz\",\"uwxk1o6d\",\"0tfjq69h\",\"nm15y9mx\",\"zstmdt4n\",\"nx4imroh\",\"t4vwo69q\",\"gzvfz8tw\",\"x59n8rmf\",\"7mqw21zj\",\"jvwdcfn3\",\"j9ld7q70\",\"kabzmshf\",\"z49qcjly\",\"9awx92cv\",\"xs7df6a7\",\"8f5xe4zc\",\"qxl0whpq\",\"oruqlb1j\",\"ik4ps0qn\",\"66wgkibh\",\"omihw8qo\",\"domo21f9\",\"bvvbn9wr\",\"onzqj42e\",\"iq1gtb5w\",\"ivscb6yx\",\"gruevlu5\",\"qrev1acd\",\"bggo5e9t\",\"9ib77yws\",\"ejc9rpsq\",\"z3aqf3mr\",\"kgvizb5n\",\"pxavvadg\",\"i7v9l6ii\",\"8qvhu3hd\",\"v3hoccem\",\"zi8cr2rs\",\"3hgku2e4\",\"pwp1zoxm\",\"g5sum116\",\"dl6bfnmq\",\"4gnt3kop\",\"ilke8k2c\",\"9rx2vmjh\",\"b62ybp9w\",\"6jrj91ob\",\"hfwxsr9y\",\"rsz7ch2a\",\"9ii83ph2\",\"tyeh14wz\",\"ubnzkfwz\",\"elp21kda\",\"2w5ws14b\",\"0vby04et\",\"klv9jdm8\",\"gnmnlvt1\",\"ajafw966\",\"zpt31c6r\",\"fpsytchi\",\"6anybxnk\",\"3z31cvof\",\"1vjdvp8q\",\"lajgkpe9\",\"gtgdabnv\",\"mjbl1j9y\",\"nf8dxwra\",\"xc1ruvsz\",\"1ay8y7li\",\"vhiwrhkb\",\"ebkwv4zo\",\"kt3rru9r\",\"f3fctcru\",\"ovbuy2fr\",\"jhm7u8ka\",\"b5hj2phh\",\"3rn6fwx3\",\"8x37yjk3\",\"2kqknxiw\",\"h0lv21dw\",\"sl02wdlm\",\"pfvbty3r\",\"liqaq18f\",\"wqr14w2y\",\"2w68g7cv\",\"x1ywhsug\",\"o1bxwvso\",\"9u2tl1d5\",\"a6guli86\",\"ez3yq7xi\",\"o7f0q31t\",\"oumvnt2f\",\"vis0sb9c\",\"d8j7mb0t\",\"hp5ys21i\",\"fs503hcv\",\"g1nvmt0t\",\"tked0i7a\",\"8sfxagvn\",\"k751ryv4\",\"onuq6j3j\",\"ba43331p\",\"xfoy3i7d\",\"gdt32ity\",\"q5i2rnhs\",\"hugenn14\",\"81aaakpx\",\"z2ye02pw\",\"zbzcplli\",\"6khbc1u8\",\"pukh8zqt\",\"19jo817j\",\"6rwevq39\",\"ogkxg3d8\",\"sqxrwgif\",\"qcnmhvof\",\"nkr14gw6\",\"omua4gs8\",\"4lh2swjd\",\"zfpcuhpy\",\"rs79r7kc\",\"guw3vyxz\",\"pq7xa4rr\",\"1g2l18zo\",\"7ecliy9q\",\"5fi7spyu\",\"yl60pb6n\",\"1zu664jr\",\"u8nh8cr3\",\"y93umzps\",\"bspyhs03\",\"m0va36er\",\"nc30w22t\",\"1ji6lnfc\",\"qcjbtflt\",\"oxima5sg\",\"fn8k8q3e\",\"bfbuyzts\",\"sprxbypw\",\"nwtjhajl\",\"0dkttavx\",\"todneigr\",\"2tmpmm6r\",\"4dhk8eq5\",\"b4re5bky\",\"jko7bxfn\",\"9kt1kdgg\",\"mgrf1odm\",\"0y53hnve\",\"htqy5wpi\",\"gcjx8i14\",\"2zi5iv2t\",\"13cii3on\",\"d65r6q69\",\"qxp0gfp3\",\"62x9csvi\",\"jhklq4w3\",\"w73gtjr4\",\"vbbewppa\",\"vzbh457k\",\"j9qucb0k\",\"h4iv8crq\",\"muf6mqoy\",\"m9rg6d3w\",\"4tfgi9hi\",\"zh0zn5rx\",\"xs55np00\",\"scwowzla\",\"ki94q4qv\",\"tbe8fbfq\",\"yiy6uak8\",\"4h0ng7ff\",\"avhxj8jk\",\"9vnthmfn\",\"qq4pzaa2\",\"cd83w9o6\",\"764gxwhu\",\"16xdkpv3\",\"rixuuytu\",\"9lpn8div\",\"vpbdtnyl\",\"itlnpjg6\",\"lt25nrck\",\"xw3n0fhi\",\"67ao8chx\",\"umn83919\",\"w2bt9tnw\",\"5hxha7pb\",\"8e7dndfq\",\"aonbvub5\",\"hgwlufyz\",\"l2vvfro3\",\"z1tt014r\",\"jwalxp9q\",\"wdsb8spb\",\"mhinfmal\",\"lhxfrylo\",\"pkye6rf7\",\"r6n6xgyr\",\"094d0rn6\",\"qxo82jkv\",\"wp2wr3b5\",\"3420qo8m\",\"nuhdq6e7\",\"ry4z9w1f\",\"jbjysyqm\",\"081o2zmd\",\"auuc0ge3\",\"t19hqtfo\",\"vbg9r6hq\",\"tfui9ikx\",\"omd3e0tj\",\"8r4fhzlm\",\"anaqgzvi\",\"20f2hv2g\",\"cfbvka30\",\"k8z6v2vx\",\"cccbb6xs\",\"zuxzzumt\",\"7pb3pdml\",\"055qesm0\",\"bqrkctzb\",\"66chji84\",\"ydu0l0st\",\"r1wkx0ml\",\"c5snhymz\",\"xwtz8a93\",\"fkfuivj3\",\"4ts8ek78\",\"hyn6pzo6\",\"cfg2ij2p\",\"6njxf06i\",\"yhdj5m0e\",\"gi9m5d9r\",\"kmheuc8r\",\"n497clms\",\"l8wj6dsy\",\"wl1kuszc\",\"kds9gffw\",\"f6vspygt\",\"arx8crls\",\"1fdy9vdu\",\"c1fzx7if\",\"stmw36ei\",\"ynknzf3y\",\"rhji4io9\",\"cprd40bq\",\"51hq17mu\",\"ljcw6x4l\",\"zr495eff\",\"i0v4thcv\",\"im7jqe9z\",\"8n9ukhro\",\"nxhdxejh\",\"roj8ksvc\",\"53l0yw16\",\"ghgrskc5\",\"b53ov53k\",\"ym75a8aw\",\"i2h21t7i\",\"2aku9prp\",\"5bdkkgjm\",\"uzjtycsz\",\"myjijyx1\",\"d2ftieoj\",\"kgb8r561\",\"c1uom5f7\",\"4yx3n29t\",\"47c9z2gk\",\"dj8ue7m7\",\"iks5ujmx\",\"r2fymtc8\",\"od3o9s04\",\"5342lyeu\",\"qzm9wgde\",\"0kkixvvq\",\"cdioar2j\",\"h6uwhjzl\",\"9ntusgd8\",\"r38t0m0n\",\"37dvjp3n\",\"0n5bxp93\",\"rpnuauwz\",\"qek9jy2c\",\"srk7b83b\",\"ndptuv68\",\"8bhnlsgy\",\"5tkhjiwl\",\"jaew05zg\",\"idmj2d7p\",\"qg541qho\",\"itt4g6jn\",\"akqprfgi\",\"jwglalgx\",\"fiyvdrto\",\"0y70leum\",\"j0v2gbls\",\"z5lv81bi\",\"gr2kk9w4\",\"j99xxo4p\",\"q3be4e15\",\"6fwb59sr\",\"ap0wfjhq\",\"b8xb1f12\",\"shnejtjt\",\"lsvhzl6d\",\"z3ww3b5s\",\"okc7wf4n\",\"s31mbs7a\",\"riq8p5u0\",\"48xnqw3g\",\"nfnstu7c\",\"b4lpkwaz\",\"2s1io2fg\",\"oug7uknd\",\"6g0jjyft\",\"0xhn1lqg\",\"8bx2shuv\",\"uhwg608l\",\"xr5rm6dn\",\"c5jdp5jv\",\"l9re9h4j\",\"0pdpofye\",\"o64lzfpy\",\"x6dcvzfj\",\"tsyvfgor\",\"qibsccvd\",\"z1vv63u2\",\"hfdr3wnf\",\"leatazuy\",\"4hey869h\",\"laai8ohw\",\"vnzp9cno\",\"oyhzn2kc\",\"glm2dxhh\",\"3d7o52dn\",\"4c2flue4\",\"m9q4av7g\",\"iro6migr\",\"2rlkxgxt\",\"f0dq94j1\",\"1aezgrn2\",\"vwnpred5\",\"obm13pbg\",\"bgo9qkc0\",\"0cnexuqr\",\"rafwlw0t\",\"6iq7gvhl\",\"q52nvn0n\",\"mbeyduzy\",\"fgwf6wy3\",\"0evcghxu\",\"ma7tsm68\",\"9go024lz\",\"r8nlef0h\",\"tfke4xfv\",\"s8b1823e\",\"w436rjdr\",\"37g8zxne\",\"hv3gwvdi\",\"lodjcj8c\",\"z6k30y1m\",\"d82sj80v\",\"09n4wfl1\",\"unrd76bo\",\"ss1435el\",\"j90daoiq\",\"8o07qnrh\",\"b0p1b4g8\",\"7tviw9uh\",\"v21m22i3\",\"ec59u6aw\",\"8cpt5810\",\"56dbkz6x\",\"yxw1r7ff\",\"496cfdx6\",\"tavk5mwk\",\"i2bsmroq\",\"k1wd7ymj\",\"8yrpcl94\",\"levsn7b8\",\"jh04b55m\",\"rl5nieie\",\"iub5hvz9\",\"vr3n3jgx\",\"rxzgfk1k\",\"7jb9qegr\",\"k1q8dxc2\",\"acmjghym\",\"ilfcuwgd\",\"8hiymqyb\",\"pa1mlf3b\",\"1gugg162\",\"ur071q7h\",\"5fecjksg\",\"cy4y8vnt\",\"rsrmwjtt\",\"62zqbzaq\",\"im5bc10r\",\"1d1gf7az\",\"j0spztmy\",\"g2rcabaz\",\"ucfx0sbp\",\"hx77tpbt\",\"djjtgbh6\",\"14gcu1se\",\"id1cxmk1\",\"f95ww13r\",\"kgtou9ca\",\"jgf2wk1m\",\"4qsunjvu\",\"5ylwwu6m\",\"l09lwlcq\",\"447waw66\",\"fzsczb8m\",\"05mezubh\",\"ngbd5fpo\",\"0vsf67nh\",\"2fsg65d7\",\"8kjqhyvd\",\"lnhzz2dj\",\"sb0sdeaz\",\"76uk9tj5\",\"czqw99kr\",\"gy42b8oy\",\"k1lllg6y\",\"zk5gx5r5\",\"8cn5ewtz\",\"8zvq9pan\",\"ntq1f4ix\",\"2gmerfkv\",\"ai0ao1xq\",\"4yr30dv5\",\"44w6omdp\",\"tnnan2jl\",\"rphmxnyv\",\"83m31u4o\",\"o0agqo7z\",\"t4rua95e\",\"4ub5ts0r\",\"a78a1cg2\",\"rya21i2b\",\"j8yv9mip\",\"3bniy5b5\",\"l9vu6mo1\",\"1rhlu59c\",\"uxzeg16r\",\"j0u2e01k\",\"zksl5e0i\",\"zgz4snfu\",\"xhy9fysy\",\"09uwhxs9\",\"lyb3wqrf\",\"3j51tk3n\",\"kdgf5xa3\",\"uguchw1h\",\"nicnngdw\",\"bf3fre8r\",\"oxvcvo7c\",\"qwtn0ctw\",\"eph6mib8\",\"72221h9u\",\"q8gshba8\",\"b47ax7sv\",\"r5a6ikhh\",\"i0imuyqg\",\"lr68epyb\",\"e1xm39x8\",\"r0zm1ttp\",\"bdm7yvn1\",\"yikru6d1\",\"69rljdy4\",\"eqjv5y9z\",\"woehnok9\",\"mcj309zd\",\"9ccgpihm\",\"xcohtt4o\",\"9172lw6k\",\"dwn3oydi\",\"wv2rnqyw\",\"hez16eik\",\"ejkrvze7\",\"xyvsm6j3\",\"c2es9wjg\",\"urlvaswn\",\"6jd1jeof\",\"mkoeoaug\",\"r04y1j22\",\"06z7p7rc\",\"jogpyeay\",\"b1e0bbrp\",\"x4vy5bm8\",\"lk5gsxqr\",\"638isaf4\",\"mz45gyyy\",\"rjg0crb3\",\"i8tvdd99\",\"5qiwui6u\",\"e9nwx5oa\",\"k8wo636m\",\"qknkp164\",\"99a9lld8\",\"t0ij21io\",\"supdzy06\",\"iqzcipaq\",\"o0m71kvw\",\"8cejk1li\",\"h0q1m3ed\",\"zurd5d64\",\"39syhbwa\",\"6td1y0cr\",\"abpge1fb\",\"4buooi2d\",\"xp2oqxne\",\"iivygo4d\",\"erqmbi2b\",\"7sul521y\",\"mynhbqqu\",\"gwdxctr8\",\"0ozhye9q\",\"wnvhhrhy\",\"pbiwlqez\",\"ctk1zp3u\",\"y95g4354\",\"6hfuw6qw\",\"9o5q5rlp\",\"uu55iibd\",\"k0szgcca\",\"1ac14ga6\",\"5klod1qw\",\"bx86tq0y\",\"3qdnnwvd\",\"icbf8o81\",\"cpa2sl50\",\"elwhzp9u\",\"f6vg9b17\",\"p3qxne7m\",\"6cci17lk\",\"vdweyoud\",\"eiew0z3o\",\"yy5etfek\",\"8hwaebo3\",\"dbexsugq\",\"pvgafgxc\",\"2j6qzzs3\",\"1lfo7j9i\",\"sydnosmr\",\"oi22n113\",\"6xvfy4wc\",\"fhie2m3u\",\"7ow1jja4\",\"pmpa95l9\",\"gs1k7263\",\"m20jn63j\",\"6k09684o\",\"fvoke2yc\",\"jvcgcay1\",\"qpwvqdlc\",\"m9eck2e2\",\"st6gyozv\",\"d6zn8m3w\",\"qyu4xv4k\",\"8i8faass\",\"e2rhioty\",\"u1iw2c8r\",\"j46329o5\",\"j19ct5o4\",\"ube8ytcp\",\"key29aid\",\"vys68qd3\",\"ory75o9o\",\"5szalmsz\",\"5wy321g6\",\"ouhq3a21\",\"ofp7tupv\",\"0klqz70w\",\"kep2dgaw\",\"9ftduhb7\",\"cgky82ga\",\"qjwwcz5h\",\"oktefody\",\"3dgjv0x1\",\"zgxpvggy\",\"lpf9lpky\",\"b5rh0org\",\"w6zoo59t\",\"4mt2v3ip\",\"drqtqkq2\",\"qkdni38b\",\"jfnty6ur\",\"bsq4i0n9\",\"mb265wef\",\"ls8zyuk9\",\"3w02be5c\",\"wtlm6bjs\",\"vdkmtk8n\",\"jp45ebmn\",\"w6q1x1zs\",\"k0ugjb6f\",\"q5wx313k\",\"2vzbwalg\",\"p3hhd5ed\",\"bmrfz8pz\",\"qeo5dfxg\",\"pla013m7\",\"3zan82yf\",\"0fkiwcw2\",\"v5a2jeg0\",\"zy5m8xc8\",\"cbl00d50\",\"u3358xry\",\"fr0x6obj\",\"zui1wsgo\",\"5ezjlpca\",\"1jdej5n2\",\"qp3sgs7x\",\"0d2lq19c\",\"0yabira3\",\"89882djr\",\"bnzbppof\",\"si5o2hq0\",\"lbikoyo3\",\"yggoeu00\",\"kftq3zfr\",\"g6m41305\",\"qxljfbqj\",\"h5po542v\",\"ion97n4b\",\"z3mxqslb\",\"8u685f45\",\"1vabzhs5\",\"8lpb5lo6\",\"8u4300lp\",\"8n5cdql4\",\"1i56jyeu\",\"zzys31e9\",\"p3b4yk5d\",\"qlent1g9\",\"fejybuip\",\"3nyl86p5\",\"vtadqfkr\",\"na5jyhmj\",\"bk57ttwm\",\"co9s26x1\",\"rw3w8lyo\",\"a3uh227h\",\"x2fhnily\",\"v9240an7\",\"zqqt1hyg\",\"5ub3f08l\",\"vn6954wr\",\"jmqd5ge9\",\"k05vwuze\",\"skybixa4\",\"28te0j0d\",\"h2sus0w0\",\"zppiy8hb\",\"gm2g36hc\",\"xn6n63fw\",\"d3p9nbgq\",\"d616u6b2\",\"a8rkvaax\",\"5e5846m4\",\"o30wbq6m\",\"6xf4o3oy\",\"waf4n6u8\",\"3fnwosst\",\"1ets93yf\",\"snbeblu0\",\"n7eljzjj\",\"jlfipzvt\",\"1j13110p\",\"r8sw0wf2\",\"0ge6htdw\",\"m256t5ox\",\"zu0ubwfq\",\"barmkkwx\",\"zuwt7gk5\",\"ur5g54et\",\"jg7u6913\",\"0lq7n53k\",\"ynionj5r\",\"aqqceblm\",\"e6rpryrh\",\"8eo38y33\",\"gw91dnx1\",\"pr9i9swk\",\"uf96jgig\",\"d7usd034\",\"ag5hq426\",\"kb3z3b8f\",\"5lozh8ge\",\"nqodhc2b\",\"0frb01wq\",\"4tsezvtw\",\"n63898ro\",\"f0x7nsz5\",\"ht2exks4\",\"xx15qk46\",\"ginn5rvy\",\"zo2o3fpl\",\"6p0srm92\",\"k6f3luil\",\"z4empomp\",\"4km63jb8\",\"co2fgz26\",\"20kzz6pr\",\"yh1lioyz\",\"mel7mzx7\",\"pmxkn1x9\",\"yao4z1fg\",\"13exgn7t\",\"sgmssck4\",\"b3yaqhdi\",\"9lbj9hzx\",\"04d17ggn\",\"pnw5ytj4\",\"l4288mxw\",\"utsqydzz\",\"y10xt4il\",\"qoxdq9pe\",\"zivj0rm8\",\"ofpcgxce\",\"827vgb8m\",\"8pqk63jn\",\"ss0g0er0\",\"bq5w3jk9\",\"j1tdbdy3\",\"601k88xs\",\"x104z9t1\",\"fb832hlp\",\"249xmiy4\",\"cgx90xnt\",\"gehe16ja\",\"waaklzgk\",\"n0d9b50t\",\"s36jnsg1\",\"2gej7h1d\",\"ucp9079x\",\"8hvwkswf\",\"c9xq38fx\",\"wgg6nzi2\",\"21qu87oh\",\"kmynes6p\",\"vr5o5kze\",\"d9qladmm\",\"heartxeu\",\"ud1n9wyj\",\"tsiy1iyr\",\"9l2xb62b\",\"jiw6yr9j\",\"k6rx8bm8\",\"jqy7lcbk\",\"k4ihlshh\",\"wx1v0h0q\",\"14hraspn\",\"hv7ueaui\",\"3ipir1yk\",\"dojicfy7\",\"wc3i54fc\",\"8oubjvvd\",\"neuvhj4n\",\"97n4889z\",\"fmt3354i\",\"fqujozki\",\"dnefxuc7\",\"bfu2v53h\",\"qkwo747o\",\"1vn1rn6o\",\"kkhb2go8\",\"insu3eav\",\"8fcc0jw8\",\"dqwvf6kv\",\"gygf6wu4\",\"pwts8qtr\",\"zra8fixl\",\"3uem0e22\",\"o6qmhusm\",\"w06ho8sn\",\"1e1rzm02\",\"mae0rxi2\",\"de0sid98\",\"a4b1axv5\",\"7t25qas0\",\"jne14jqf\",\"rmho6pur\",\"4vbetpqu\",\"kdx7969s\",\"psghawl0\",\"1brqoynk\",\"7v5xl1s3\",\"reqluupv\",\"jchruf45\",\"f7puam8l\",\"b768e2wf\",\"wzj7ipwz\",\"rc3ayjf6\",\"a9so3wmb\",\"jc00ulx5\",\"9q6ywtwd\",\"0ael8imp\",\"bzg0jvhs\",\"xtkpnpxh\",\"gt3v8km1\",\"bsgqsdbx\",\"79wsffz2\",\"vt331zrh\",\"5zuewjv2\",\"2x9r6ztp\",\"kk6nw3n7\",\"6423k4vc\",\"gnbkdu8d\",\"b9xw65o5\",\"uoa7ji4g\",\"8vdt2ibe\",\"r69961ao\",\"5mqe53sv\",\"yp9z0a74\",\"jlb0hwrg\",\"s08zcl4e\",\"ydbf2o2o\",\"vj6gbwsp\",\"0935bsur\",\"l2xjuzu2\",\"a04e06zy\",\"4pm9bey1\",\"nx6hmjyz\",\"giq81tfl\",\"t0tmkkhw\",\"t09a2s1w\",\"6td3efjw\",\"clwrfp35\",\"vgbrwegt\",\"da36693q\",\"wmzq4lkh\",\"3cy35zkx\",\"t72p05yk\",\"aq2y9pm0\",\"rv794pij\",\"o6znx8t8\",\"87730npd\",\"bbs7zocu\",\"467e10xy\",\"ek5i19ra\",\"lk2ao6m8\",\"8ikdd6fk\",\"1xacvavs\",\"t6qr41wc\",\"0qt7eth0\",\"2f44bstk\",\"wiwpozji\",\"xqxznv1r\",\"6ydizfqj\",\"yv7x87q9\",\"1ca0jozs\",\"99rd3o79\",\"oxxzhnef\",\"53u2fp4e\",\"i3aanfpa\",\"wq7u1hio\",\"7yrmd2ig\",\"ib0ecm2h\",\"q5ldo30t\",\"gvy4ox06\",\"jpw8hen9\",\"t0l8qwz7\",\"ppo5rv67\",\"uhg2bzlf\",\"nlwkje4d\",\"2suojtty\",\"i036k59r\",\"l9yshyc7\",\"86ksgl5t\",\"de5mrqvo\",\"usknmlqg\",\"zimj5bh1\",\"b7sxwmc4\",\"990suocs\",\"s0bvpxtu\",\"iy6qzq58\",\"xi73bzud\",\"a015lf42\",\"uigsvt54\",\"daycobqe\",\"1me7ugkg\",\"wlwxwrer\",\"j0runrkf\",\"p4xcz7p6\",\"o7r7a56v\",\"4b54x6og\",\"ww2pffng\",\"ud35mf5l\",\"u43gt8fh\",\"rapinodd\",\"eaug5huv\",\"n5w1f0rr\",\"rd0vvpw7\",\"nu60ys21\",\"gchn4j9x\",\"qn0jfynh\",\"v3w1wi5c\",\"73c66c6h\"]}\n",
            "{\"positive_doc_id\":\"l5441kqp\",\"query\":\"What are the enabling opportunities and challenges that the Internet of Things (IoT) brings to actors in the quadruple helix, including industry, government, universities, and end users?\",\"negative_doc_ids\":[\"getc75xt\",\"9cq8tf5h\",\"3n7jp0l0\",\"pm9kdqdw\",\"oj32vpqn\",\"rffp6qe2\",\"w5lavhgr\",\"oerjmhzn\",\"555fqs9g\",\"ue15waq7\",\"3c7zm8s6\",\"p22qn6cl\",\"z1mg2kc0\",\"kni7mree\",\"7rm2o0f2\",\"shsvptmy\",\"iwuzn93f\",\"kjqozkro\",\"1kyrptgx\",\"9rmyqknd\",\"48p9w6xl\",\"de0xr8wd\",\"nexfb60a\",\"6d5yloxp\",\"8iqpak2d\",\"e21l34r9\",\"6f8widq9\",\"hw0j6szd\",\"znlnqs2k\",\"zvb7bxix\",\"8uz6bsd5\",\"ljtzthy8\",\"s842zn9l\",\"wryr7qhc\",\"gk2s4dfc\",\"zpj4zacn\",\"lkw7ony8\",\"qwr934k1\",\"z8vdxceu\",\"ixw0s6az\",\"9ge7ayib\",\"9u3kn9ge\",\"2u5zxc2i\",\"jhidhaq0\",\"naoltdfn\",\"4nnuctf0\",\"zvlm8ebh\",\"69zx97my\",\"p7lzp0kt\",\"g79pfqkq\",\"2g893c2r\",\"tudwns0r\",\"2vxcsglr\",\"nkw4432u\",\"rp7eoonp\",\"fe72aj3a\",\"6wet13pv\",\"y23ecwr8\",\"49zlztqu\",\"3ozdw4ye\",\"5tkdwtc0\",\"rw5keyos\",\"orfzsfo3\",\"puqkjn7h\",\"s79tp5ro\",\"hw96we95\",\"c45feko6\",\"6fy9l0uc\",\"ci3k93j2\",\"k8s4eevt\",\"7pk2mb7m\",\"t5wl0bih\",\"ld1vmhe6\",\"1a9e2iy0\",\"xyme3zd1\",\"dgmmdlfa\",\"piky6nuk\",\"i25su8kc\",\"18aq44dx\",\"5zg5g77w\",\"3l2dbnjb\",\"qp4kq139\",\"hkx6ylhr\",\"w2g0lg5x\",\"yvmmn0j6\",\"ehwkfy03\",\"bpkkbp8h\",\"8i63j1sb\",\"8ey3kr3b\",\"i484o04h\",\"yq4dphmb\",\"blq942in\",\"zht8olyh\",\"boil9atb\",\"agsu4ptu\",\"0inkuw7t\",\"9kxljgv0\",\"owprg8d7\",\"mcywx9ol\",\"u6m7vy6l\",\"xndojxqk\",\"ed6itb9u\",\"n5iei539\",\"mmbe42oy\",\"888bkffr\",\"g147hrtk\",\"b396qg74\",\"t55r02wc\",\"4nf32v75\",\"y0bpn861\",\"h4yivj9l\",\"v2e4gb3a\",\"0idn1esa\",\"qheq9lc8\",\"8wkvuq3k\",\"jtulg3sm\",\"0u0w6ec7\",\"cvwhurmc\",\"mdfdt3h7\",\"iamv12vf\",\"gzcvd4f5\",\"luqkootw\",\"m12trizo\",\"iaeapoy9\",\"80853mcd\",\"ccxj4s6j\",\"rfjvoype\",\"4h73lukj\",\"key173zs\",\"o3jmpb2m\",\"44zduv27\",\"xrqjb0x7\",\"mnoiw31w\",\"44fexcpt\",\"d73p7yjx\",\"j2lanfjm\",\"drwagitg\",\"t0znjpx9\",\"lgbg78zt\",\"xr5586zj\",\"shmyiree\",\"xw244riy\",\"dhtxy6nw\",\"7w26ah7j\",\"9mldw7dq\",\"4kgyqn5d\",\"6u7dpl4w\",\"tvfvh2dr\",\"8lr2vcdl\",\"r3shwgn3\",\"ts386e8g\",\"wphhrg6g\",\"0y5yisfk\",\"3fwd4guk\",\"jmd3uxh5\",\"q990hitc\",\"oaqqh21e\",\"852abudg\",\"wo20ioz1\",\"4xbcy7lc\",\"fq3wr0s5\",\"mh9bk9z2\",\"e1ih1fkx\",\"l62ord3n\",\"1qhgeirb\",\"cus1sqka\",\"3hih17gk\",\"oy5qi0rm\",\"51iutuxm\",\"qmg94jnc\",\"efq2lbsl\",\"4bjml9oj\",\"8avgxkir\",\"yupm6smb\",\"vy0x9hvr\",\"e0zj7apb\",\"cbfvxjkh\",\"xc8mvk05\",\"30dhqh0g\",\"fbz6db7e\",\"sqojhvwx\",\"86t5b2vc\",\"jxtczte4\",\"me9ie5u7\",\"niooytdp\",\"wu7j4e21\",\"m9icky9z\",\"fnjk8wiu\",\"xvwcum59\",\"mspicy93\",\"wad99tdl\",\"eikz07zz\",\"ycj7246z\",\"wjw63lqg\",\"dk8xlb4j\",\"57ej83kd\",\"6f80l9gr\",\"cag3zgt1\",\"jwghdtil\",\"gl5lozn9\",\"5ums22je\",\"s50g754b\",\"sgbu2i18\",\"vvucoiqd\",\"vbmfv1o8\",\"3emzk5by\",\"0oh40b6r\",\"7r0mob78\",\"t9p7aaxv\",\"rsnn6q78\",\"ai8ivbsg\",\"fhzo8s6q\",\"ysa8vb9x\",\"jx07a3g1\",\"izi5bi97\",\"738881m2\",\"a2xyg9ql\",\"cx1mcvcm\",\"ee4o9ahy\",\"2otxft31\",\"qeuagjjn\",\"3a9vjpvn\",\"x86d5pvb\",\"hnoipd8d\",\"c4od5gtb\",\"2fgtjouu\",\"7nwq4vxk\",\"iejfgkst\",\"9hlkepqf\",\"z24ba1b6\",\"75qi0xlg\",\"arexn6f8\",\"wpf07o8n\",\"hechmemo\",\"qw9l3a6t\",\"vpg1sfsk\",\"pebjtb96\",\"kehtqups\",\"kdt84qk9\",\"za8k9niv\",\"728n36hi\",\"1ot9wfnb\",\"5g0n9na8\",\"ul91jrpd\",\"2bev9jsx\",\"zwb758cg\",\"pycbmt6b\",\"gm9da41n\",\"2vpocqzm\",\"3oo9u8k8\",\"p0t1597q\",\"gndc1pst\",\"83u5vitk\",\"1lkjsa8f\",\"wwvogjw8\",\"j9525ohh\",\"g154fekk\",\"uyutmndp\",\"ma7u2ioa\",\"hcxlgd66\",\"pooukq5k\",\"baheh8i5\",\"53o03y19\",\"p8g1jnyv\",\"n4mp6nfr\",\"lc7haf6u\",\"lu5t0jt1\",\"981gsqhx\",\"fdeltwej\",\"5va6wslg\",\"n026zwp8\",\"1rq612hm\",\"r1wltfp4\",\"5s7gs1gq\",\"ioe6yfnd\",\"3rvblpux\",\"j1oq77vf\",\"63njck6i\",\"9x4pbm1t\",\"a3pdb92z\",\"zhw8vh3e\",\"69l9c3my\",\"qy4t36ot\",\"wls59o2w\",\"3o9hmemr\",\"jw34swx1\",\"jcmtm1j9\",\"cuv50ulp\",\"pkkh9uy4\",\"7655ggxz\",\"z0408dje\",\"w38k1o9p\",\"fj5tdkdr\",\"k9j83xtr\",\"o1fa8dfw\",\"2ua8218z\",\"yv2hn1fn\",\"ticf2ilm\",\"1c1jd9oz\",\"w3er9e58\",\"g7dhmyyo\",\"vb4eyjyu\",\"zb79z3g3\",\"lk4mhlv3\",\"w4jswggv\",\"hxq4q69e\",\"lnyzwgx4\",\"yq8lsc6w\",\"bz0ebktn\",\"wjx18sh1\",\"2u7gks32\",\"gjoys1tm\",\"zqm4vxyd\",\"jg1z2gy9\",\"4kb7yyc1\",\"itdo5h16\",\"awnwlvzc\",\"b6zhp2ei\",\"bibeiezf\",\"4n5ux478\",\"07n3wroj\",\"mwl8w54x\",\"pajemtoq\",\"jy4gi5jo\",\"1b4roetg\",\"2lk8vq03\",\"oi03ngrd\",\"xsb56aj6\",\"nxa3zfkl\",\"lx7m9swa\",\"auiaw6li\",\"01o1w8bt\",\"bbjmcdo5\",\"edb9yozz\",\"mw0o67hz\",\"01q28a33\",\"blmlfefj\",\"hew8c122\",\"l7h971k8\",\"o035r1pj\",\"5x6qs2i4\",\"0tx0ndvw\",\"9kmb9lmx\",\"ee53rfxw\",\"r531q9vg\",\"dc63kane\",\"vvghw9by\",\"t6lr3g1m\",\"ec70qbs6\",\"alnj42iy\",\"b7aqa2rd\",\"lg547ha9\",\"znuqdzdp\",\"lwla5ugt\",\"euv03cul\",\"hp7p3eu4\",\"e3zdvzdb\",\"exrlieur\",\"skj6jmsg\",\"8x0duuh6\",\"or62fitm\",\"v25z1he7\",\"yjyusqrj\",\"nwvm98h6\",\"pi90zwv4\",\"nhf1mcrl\",\"g0nf1iwm\",\"uq80ybb0\",\"a7o0xom4\",\"h0t8dph5\",\"d7oaqgfi\",\"q5pke4tw\",\"gn0xm2gy\",\"w55drhsl\",\"s6nt3bz7\",\"wdnnjlcw\",\"0c5vl1uk\",\"nl90gljl\",\"t2y62bg3\",\"504mfiie\",\"mhnm4zac\",\"z7hxmjhm\",\"8z78shbf\",\"6pgii2nl\",\"ue5v55l8\",\"avrghci3\",\"xedqhl2m\",\"41flg4t5\",\"twmrilk8\",\"asq9os2v\",\"8sggr4lj\",\"mmcszoxb\",\"mtyj9hgq\",\"50g0ox6w\",\"2udmhr4q\",\"5e9qamu5\",\"h25ni03h\",\"d2s5d0ni\",\"4qalm3y3\",\"020rgz5t\",\"ihnndmee\",\"dzcnnaij\",\"0r5nka25\",\"4qvv1hsq\",\"gx616344\",\"rsrr3ycn\",\"7pd5k07g\",\"sg3ay5a8\",\"stfdn7q7\",\"925nhnnd\",\"cfpsvzl4\",\"i1lk4ggg\",\"piwh2gxp\",\"ewrwk890\",\"a6fplmfj\",\"9ufwwz8u\",\"i1wkv6bq\",\"qz0j3f70\",\"jqzs17go\",\"sjpdj82i\",\"31muc8zh\",\"yfn9vaan\",\"ocs3yr6n\",\"f9rwlojf\",\"1s1e6457\",\"s0idnm3k\",\"dmffxxn7\",\"kguhgpjp\",\"i72ayr02\",\"7v9vl3um\",\"crci4o0q\",\"gxh17nf8\",\"5cemz8d4\",\"vr1kmria\",\"3r0cnx2z\",\"e1k8dhki\",\"afagsm66\",\"4ddala5r\",\"cd845zuh\",\"pdqmwwuv\",\"9pfnvmlc\",\"lqmr1hul\",\"tcecnc54\",\"cvvyf3cb\",\"10b5s81p\",\"eomivl90\",\"dj3ylvvk\",\"4vtz5j4x\",\"v1zwp8rf\",\"eiuybqj6\",\"jzoag8v8\",\"nke74tpg\",\"loishurx\",\"czor7a3w\",\"ruvyhpua\",\"msfwi6x2\",\"zul5kz62\",\"62cc135r\",\"ha7csiy0\",\"0z79fy9b\",\"0yqzvzap\",\"vqnh68mo\",\"qf07yssg\",\"fi4uze4r\",\"fambtykj\",\"5w4p0pqk\",\"usrmmgus\",\"8in6s5ak\",\"gkkq0w3v\",\"8uswrers\",\"pux3zuym\",\"pf2za8ab\",\"8ybg974g\",\"c2o42b5j\",\"h0s6kavv\",\"go0wb9fo\",\"z8tli96p\",\"xl2c2mvs\",\"pq1vaknj\",\"p0g22sbc\",\"qpw7a6xg\",\"o2la1jpm\",\"kh6x849c\",\"ktn6fb50\",\"z2sxr3dx\",\"vqg1qk50\",\"mb9q2bqh\",\"iwkbmday\",\"0ypp6d1p\",\"hb1nioa5\",\"mjyj6cfi\",\"wk7geciz\",\"d6dfvof7\",\"e3tnvmyu\",\"vnb0523y\",\"9qrb67d6\",\"7hlgjiqp\",\"mgn5x4f5\",\"q0qhcfah\",\"zkdyyepy\",\"pxfrh4a1\",\"pc98lbg6\",\"scr9n7jw\",\"edxi7u9y\",\"4k1cl05u\",\"9io5w5zr\",\"b4tvujv0\",\"ugjfyquj\",\"5ehyx9yw\",\"nwwhk6p0\",\"qjegv4ec\",\"urslmsv8\",\"0qxqdd4s\",\"a5qctixb\",\"6r8o5p8o\",\"d2lufz2c\",\"udr1z9wf\",\"ho081u54\",\"qx5osh0n\",\"oxt10qug\",\"6oy4f424\",\"05hxrpi1\",\"zloqok8o\",\"odkhogj3\",\"wabctf34\",\"6fs0f4b7\",\"9sm7iz5x\",\"f70a2twc\",\"idymxcdx\",\"kwee952k\",\"bgc4jn2o\",\"pnvn0x4q\",\"evjb8vpx\",\"aw63xinw\",\"okdilram\",\"8ty5y39z\",\"kt2rqx8m\",\"nc6tqv9v\",\"dh4zysz9\",\"fulh7trp\",\"boqyloeu\",\"mjpo0k2y\",\"whjisspt\",\"5mwhc6q7\",\"eus76163\",\"lmjm48co\",\"czk65emp\",\"6s7oj88n\",\"bi7b4x4j\",\"wpay4ffo\",\"k9yu5jpi\",\"m9zslfnr\",\"c1olcki4\",\"enob1ze1\",\"0y34yxlb\",\"ig0gzqqr\",\"jmqdbnz3\",\"ile13o64\",\"fqwjadan\",\"lhjn97f7\",\"2paemov4\",\"n4758sv2\",\"emfk3gdg\",\"blbibfsj\",\"bupfw5la\",\"p5tgrngu\",\"7kd2ncb9\",\"eqwgqs3o\",\"kab6f157\",\"opnvinhv\",\"7jtbucv5\",\"ap98qkx3\",\"xjfqris8\",\"nm4dx5pq\",\"knjteq29\",\"zlbm73ul\",\"6cargkwy\",\"85jq9qzr\",\"kw2k0a0f\",\"3tqwywdz\",\"e5ymsblb\",\"ityhcak7\",\"gegmhtb4\",\"x449xflm\",\"quek48nh\",\"kepbz245\",\"6289i63l\",\"4ucenhd9\",\"dcq9uxzb\",\"wfgmvy9i\",\"vw6pvyew\",\"cac6wxs3\",\"vxbvdcvq\",\"ibrzx2c4\",\"18a3ftsg\",\"k1zi8pmt\",\"4e0n72dj\",\"tykvzjk0\",\"wyz5jyjh\",\"ncsrxp6p\",\"nmiqin3a\",\"j7pyf6e1\",\"7ed7ngd8\",\"54mv9n3c\",\"xavtxl4m\",\"mbujuyv3\",\"78rx2818\",\"cg4edjbr\",\"maym3iah\",\"xilenqax\",\"v3ruj5bq\",\"nm8ladlm\",\"34asms3j\",\"6qfryfnt\",\"n5gk1xhb\",\"pyc9muue\",\"joy7ot0k\",\"m3ikl4da\",\"bpz9fbwu\",\"92owbjrn\",\"cw10rd07\",\"3p5r0sd6\",\"5fc112nu\",\"jqh75340\",\"7vj5x1nv\",\"95hx0nd4\",\"mvi1766z\",\"bm9uvghi\",\"3mu9rrql\",\"k3ujatua\",\"ky8m39tc\",\"3l5wr6c6\",\"qryvs5yp\",\"msrds093\",\"17tu6oxp\",\"k9pwrq0u\",\"5udx4s3q\",\"cdbbiobw\",\"awz966js\",\"m6da3riq\",\"7begc9nz\",\"ilt28734\",\"vimgnez2\",\"1jzn7t39\",\"gnk2ja1h\",\"h6wj7m8u\",\"kpjopsc0\",\"9682dftg\",\"t4wm3cxb\",\"lswhykr5\",\"b83rwc2i\",\"c9xka28x\",\"cu6nmjoj\",\"8251x771\",\"syq002rr\",\"xbnhej5t\",\"6xavgbyu\",\"038yxo07\",\"wgo4pml6\",\"vae9zvhg\",\"3h9l4g3s\",\"igf0gpu5\",\"rvedli28\",\"jp66ptzy\",\"iwq8uaho\",\"f85xc5uu\",\"m1qjnune\",\"mat3vf3r\",\"fwsicgv1\",\"zmr3tcbj\",\"r4n2is6u\",\"v2w0i2ex\",\"u743tnug\",\"2nlt7mow\",\"ej72p1ia\",\"3fw8z027\",\"b3sfw61q\",\"2akuxe3f\",\"lytujkq4\",\"bb0hwm5n\",\"23k6j6hv\",\"6zt8qa8i\",\"7oat5jiw\",\"gczgvipx\",\"uxxl18m3\",\"x70u9gz6\",\"61a663hz\",\"2dcb1160\",\"98tjnry7\",\"rb416bbs\",\"73eg9png\",\"ul8c70re\",\"sl66vrux\",\"r6sedlmu\",\"itjitor8\",\"ihxy08c7\",\"rf8wjkdi\",\"w1rt10je\",\"m3mexjgc\",\"41m5b96p\",\"tdz64op8\",\"drrr0wy7\",\"byr1qy54\",\"nv2tg68j\",\"7glgz9xl\",\"qxk1wfk8\",\"dvsni1be\",\"4nkrh373\",\"0pr18nc9\",\"jakcemws\",\"xug6bxgn\",\"807eypki\",\"15drpph0\",\"fg2n5i7l\",\"b477kabe\",\"ubwbrlgt\",\"02tomttb\",\"ct7y2kex\",\"u3q36o3e\",\"eynhsuz8\",\"arnwk287\",\"ohdukhqt\",\"feulesm1\",\"pt0h50c8\",\"2jeuahe6\",\"1lgi1e60\",\"03lyvy01\",\"ebyidb6l\",\"rhxwo2my\",\"mcuk184k\",\"ql1tthyr\",\"93qae2al\",\"4xve1bl6\",\"o72xreym\",\"cyzuayp7\",\"8gvqgmuv\",\"aiel1i0u\",\"7njssonw\",\"o9hvuwvq\",\"k1c7tp9l\",\"ciij8mlw\",\"azgfda21\",\"94qph5xa\",\"pq5m6l12\",\"kh2ewp3z\",\"aql8mzdg\",\"nmhqqcpf\",\"31bmv4s1\",\"ukr9vzi6\",\"kiyjri6k\",\"pyzh9fo8\",\"z2yp6l69\",\"xihd9vcg\",\"7rfj31w6\",\"8v0ki1qp\",\"mb3g0fky\",\"0qvnisq6\",\"nxnakifu\",\"p37m4a0v\",\"bsoc0865\",\"t5mej3lc\",\"ppajo0ze\",\"nz1p2jr4\",\"peakgsyp\",\"qaw99njr\",\"h57s1nhy\",\"3egg02gl\",\"hp8pswt7\",\"x4nm9h05\",\"7qlduao6\",\"cflybfu9\",\"hwy962a4\",\"sp4jynyc\",\"erk15h3x\",\"4fmyfb4t\",\"nm8gdeyc\",\"3rfb1b71\",\"l5zyubwx\",\"qy9ttbkx\",\"w6agcu63\",\"8g45ecg7\",\"2se42vec\",\"klr208kp\",\"b61hl9ab\",\"v2nugeic\",\"adxc9ko1\",\"fxtmdpds\",\"hfmgc5ve\",\"ymxapsv6\",\"tt3p0tki\",\"8xx8q5eo\",\"4qzdg30w\",\"fhq2welf\",\"4azsywuu\",\"u20p22ch\",\"5er3tg6g\",\"nl15qvvx\",\"i35azado\",\"yk9xcfou\",\"ecsi5thn\",\"cxr73qq7\",\"89wghrez\",\"cf7pvrbm\",\"bec2onjt\",\"boyxyt88\",\"m1qo1ifi\",\"fb61ed4x\",\"zg51e060\",\"rctwvr66\",\"9659rpgy\",\"sdumq61z\",\"h7sxkqw7\",\"7sh2hfw5\",\"xfw11eqm\",\"heil4572\",\"ol8ggkjm\",\"yts3d7g8\",\"sqyhzxty\",\"gkzngj73\",\"259e8m60\",\"rvt0t85p\",\"kjzzlypt\",\"v5lvcr7j\",\"i4jh6bcn\",\"1wa0b9uo\",\"h7360j3q\",\"d1iob1r7\",\"d33i6iio\",\"6ndfaoks\",\"dlfdhgaf\",\"10xry2od\",\"lb3j1buz\",\"2pw76a64\",\"h86fl4vy\",\"twpg8nru\",\"r8xgnz87\",\"xop6p9n1\",\"zol0k94p\",\"5ldhr0jc\",\"bnlkukto\",\"55dihml5\",\"vxshcnl7\",\"dye2qnsc\",\"mz3o1rrm\",\"p1g0or6e\",\"k0boicxx\",\"1j79alzh\",\"jbilpo2m\",\"zhwr3h07\",\"mqabj23h\",\"sp6w3ldb\",\"xd9cl0jr\",\"397ttpru\",\"k2vqycnc\",\"trwzcwnj\",\"l6ruaucu\",\"i7zh76zr\",\"cwj9jcbo\",\"dge5v6gj\",\"1ihm08gq\",\"pxggjaby\",\"9rziwjg2\",\"w8radeo4\",\"wbv82n6v\",\"a1p9b1bb\",\"j25603cd\",\"y8rkyux1\",\"x92c4t2j\",\"ynzvcs75\",\"1oro9hcf\",\"9n8h3fzx\",\"zvm7c47i\",\"am7p4496\",\"lxzbvse3\",\"sq6g1dks\",\"fzfmosr5\",\"20r9quxw\",\"0a43h6xd\",\"cw3gc94q\",\"1ttoe8de\",\"vxjfgdbi\",\"cntnk2kz\",\"admmylqv\",\"5bb9xeh3\",\"7pix55xr\",\"641x74gp\",\"lof8xol8\",\"l5mt6cpw\",\"x6cu3aex\",\"1rzgp4aj\",\"u3y54g8l\",\"pgc3frhp\",\"npj5k4xc\",\"re0xl2gq\",\"tdh8m7f5\",\"4ijrdkxe\",\"4u7qtoz7\",\"cw0ewwdm\",\"tjc40euu\",\"3nk9kvdy\",\"mgq3a4t9\",\"ksdts3kl\",\"szevq9bm\",\"zkk5d6gd\",\"ovhvfrwz\",\"aqr55a9h\",\"bgj97s5o\",\"1nnjrjwh\",\"3zc62lin\",\"fa8kcla6\",\"sf14vnii\",\"d6hfczkq\",\"32o6cwhu\",\"il13m6g3\",\"00ssu6r8\",\"bbgal3ll\",\"8vjb0dag\",\"mr851682\",\"40csibsx\",\"u32h2lbs\",\"zv4nbz9p\",\"owmiui6w\",\"ps2nssey\",\"zhgol57d\",\"d3lg76tr\",\"n750c4q1\",\"2qys8j4u\",\"agcu5d11\",\"frawgvk7\",\"n8iuia82\",\"kvtgce3y\",\"vp0w3xjk\",\"qk1tdldp\",\"6bjloq2l\",\"pjbpbf1w\",\"slunuu3v\",\"fnk4lc82\",\"1amynkqd\",\"s8jgq670\",\"ui1di3qa\",\"eih2yvls\",\"s5bzlofc\",\"ckhi37au\",\"9rk5r7n5\",\"umrlsbh5\",\"y4necr8y\",\"5ef5wloi\",\"fbl3szsu\",\"lj1r8ptb\",\"2x4khog1\",\"15vvvxsa\",\"296ujh79\",\"9t9a0kn2\",\"dh6k6b6j\",\"f8h9hlks\",\"4ckjxdn0\",\"u4qqj0a6\",\"ocug31ey\",\"h0yzj1ro\",\"dc6jtcz0\",\"w08ho5mv\",\"61ytpsjs\",\"2wdpt8ud\",\"kf68lraw\",\"fu1thjax\",\"tff7fxst\",\"706hf4qw\",\"2cubfxpv\",\"g7pigmgc\",\"o8gy5zul\",\"1w0hvptf\",\"53zqz8gs\",\"k1r6wo7c\",\"asml1t35\",\"7qzl1umz\",\"xhem8l39\",\"fpoovtld\",\"swg4z8ar\",\"paqah5h6\",\"1uwrdwv5\",\"bmfwdlmd\",\"gngx618g\",\"xudra8tp\",\"4z9c7az6\",\"ccj1dt86\",\"rrul1pc7\",\"ui570wya\",\"7ftnttm0\",\"am1v8mo7\",\"bq4kpik5\",\"45gemxar\",\"i4nczo46\",\"n7x1eb3t\",\"6d85gb10\",\"zd011ca5\",\"g7lotweg\",\"h3x29t3d\",\"6egbde5x\",\"f05bg2ly\",\"6rw2wk1q\"]}\n",
            "{\"positive_doc_id\":\"zxe95qy9\",\"query\":\"What is the historical perspective on the use and implications of quarantine as a public health strategy for controlling epidemic diseases?\",\"negative_doc_ids\":[\"vm88faiw\",\"i3bjywcw\",\"mheu02qq\",\"9du2negf\",\"l353fvsp\",\"87ba4k4r\",\"2qjy26ae\",\"q4r22jtg\",\"77apiqq2\",\"06xf01wf\",\"i4yrei8h\",\"4f6m3kfc\",\"cadjzw9h\",\"r8s2osad\",\"rv06wb3x\",\"jxjvimqd\",\"wnuqe66q\",\"vb4eyjyu\",\"3e95phwk\",\"nwtwymdr\",\"y8hzi1gl\",\"xfwojl20\",\"r2zazddg\",\"dcmcog6l\",\"w9laappc\",\"nskewteb\",\"ksdts3kl\",\"73yg1bi1\",\"rt7dsq6d\",\"k6hh7yft\",\"3l02stc3\",\"w8ak5hpu\",\"u20p22ch\",\"u21njr3t\",\"8e9tdfqz\",\"xa5ubtah\",\"2u7r00s1\",\"0v1kpey7\",\"huh3mkv4\",\"nm4dx5pq\",\"gk8cow8k\",\"nrzcdc0g\",\"4qvv1hsq\",\"13weny1n\",\"6mxkc7wf\",\"9sr5b44k\",\"8afjhpyn\",\"6i0bmnee\",\"9hk38n2n\",\"85prmroc\",\"wg23sa1u\",\"d51ryjch\",\"gs4r9j7o\",\"gxv6cbom\",\"9c0zrp7p\",\"w8ahmd4i\",\"8ibrsg9j\",\"x7v4y1ru\",\"66c8xta0\",\"v88f9e7m\",\"jzb09eb9\",\"gec6n7lb\",\"jqh75340\",\"3mwx9s5x\",\"lwcibtzz\",\"31w14qqf\",\"azk7dfub\",\"yldbtd2v\",\"hnlcwa7m\",\"o8ohjgb2\",\"qun1kyvw\",\"anpwrj0n\",\"41gd7rug\",\"0dbh8aby\",\"6rcj96bf\",\"p41zjrng\",\"to01aaac\",\"nadzy6lm\",\"9wd5x7r1\",\"2x89dvoe\",\"wt45sauk\",\"wu7j4e21\",\"uc7zt4yj\",\"v48qmpif\",\"4xve1bl6\",\"1nnyg89n\",\"78o3mgrv\",\"0lud5r46\",\"w1zrxmem\",\"2sq8g01x\",\"zrx8l9d7\",\"dqkjofw2\",\"coof4kti\",\"15vimfk9\",\"7134c97d\",\"cnnosvx0\",\"2r790nix\",\"8x99pb3w\",\"9hrrkqgi\",\"yiwu2bk8\",\"qjpownkg\",\"wp8bc0t0\",\"51ih0b2y\",\"pndiiiue\",\"pi90zwv4\",\"b9gptie1\",\"29pj30j9\",\"iil8bzrm\",\"zzpw375i\",\"16lhzusy\",\"9iaiiqqi\",\"zcsqzz0v\",\"zva0nr1k\",\"6e8nu6nn\",\"ikr1bgbc\",\"fx6el910\",\"0u6idk0m\",\"0d34abdo\",\"jhgphysn\",\"263pvaqn\",\"qeem2im9\",\"vno8vjg6\",\"gykw2nvt\",\"nhf1mcrl\",\"l9zinx66\",\"fkwi6ze8\",\"zuedsaqg\",\"qkl2yiqa\",\"0v4wvgl3\",\"a2pqrdln\",\"g8rhs582\",\"ujbclp35\",\"lkoyrv3s\",\"r044iimd\",\"8tccbvxh\",\"jf4j00bp\",\"qf7zu0ue\",\"mob8dbcr\",\"awr5ny1l\",\"wwr777rk\",\"7lohh5ty\",\"mgqm9311\",\"81oqfocj\",\"xf1fmgtl\",\"pyad4m3d\",\"fan0sf48\",\"petvptff\",\"8znpqcth\",\"v99xg2ny\",\"d5p4chhg\",\"0ne3icwz\",\"e0j2iruo\",\"x8i5x62v\",\"qwngx01h\",\"fzdcl3as\",\"wnnsmx60\",\"qrykqohx\",\"56fc398e\",\"nvudywc1\",\"6ceuqb4k\",\"q3abp9o7\",\"3aqowfnc\",\"gkm1p2s6\",\"ieyqoxe6\",\"gj9f6zh2\",\"71syce4n\",\"opnvinhv\",\"lv5w32p1\",\"68op3d8t\",\"58czem0j\",\"yyx0ydht\",\"oujsmf8d\",\"2kyeiima\",\"05i5j6js\",\"iaiosjlu\",\"yyvhg0yn\",\"bu617h9z\",\"2j3f74r2\",\"9sgrw1qp\",\"9jthjf24\",\"rsjx62i4\",\"7hkowm2y\",\"gdsh8wmv\",\"l0matu4x\",\"025wpsds\",\"0qpfoh5t\",\"qejocjyh\",\"2j4z5rp8\",\"of5dvq44\",\"c2kmog0g\",\"qdz5rsdy\",\"s5iavz3u\",\"ou7n57vc\",\"xqowfmzz\",\"me9ie5u7\",\"leh2ny0e\",\"29sdr9l7\",\"dr1ym2mb\",\"ccmd0dw8\",\"64fuqj3o\",\"ux4je0h3\",\"tfx7tx9i\",\"uza4orb8\",\"7ocseuz3\",\"1xenvfcd\",\"7lz06a7a\",\"rjp21ogj\",\"5ttz48he\",\"8dv8n3ea\",\"1ocg0gj3\",\"f9r3ge7n\",\"54jnv4ki\",\"6sery0b2\",\"6swl0ezk\",\"6g1qxz9i\",\"gtmpd7t0\",\"cw0ewwdm\",\"t1hwh3o8\",\"38htpm5k\",\"s3qp9rgw\",\"9887fsv2\",\"rlvk6bcx\",\"arblbs1w\",\"j3h62pcu\",\"949kilgs\",\"dz2lhq4g\",\"tqeyx7yn\",\"nwn53ak0\",\"wlncrdv4\",\"sghkioj4\",\"knjteq29\",\"4outpiwu\",\"t0blvz92\",\"hn1shmog\",\"v0z5x2w9\",\"3mbmq3rl\",\"nbm2deky\",\"v79si6mq\",\"xhrcpxfv\",\"bplelgpr\",\"sasijnks\",\"k2ixwz9w\",\"4ibeidyw\",\"x1gskivc\",\"3rsbtrzh\",\"izltn367\",\"rr36a3my\",\"3bmz53sv\",\"azrqz6hf\",\"soq96b5i\",\"okfzkidc\",\"vexrlsov\",\"jwdlqihm\",\"x2jll2iv\",\"9havlnub\",\"54ymijj9\",\"0qcp1rul\",\"4ds38ewk\",\"k90i33gp\",\"j40zj4al\",\"su6vhs49\",\"5lrd70ir\",\"kjnnh00e\",\"2c381u4v\",\"812oqr3p\",\"qhtvewxw\",\"ls6on0sg\",\"lgz5khav\",\"qqbokruo\",\"94bh6cvy\",\"81u6l9qh\",\"7gfs3s2p\",\"4h0sybiy\",\"b1chjqlu\",\"bz8xgbby\",\"vd5lfouz\",\"xi1g4dw3\",\"w7lh9qar\",\"oyyj35bl\",\"a09wfmj9\",\"4n54pozb\",\"h2tcrh1q\",\"99qwpngi\",\"nek58pxo\",\"e0ucntn9\",\"msqvb97f\",\"1j583m32\",\"gp6gz0bw\",\"cube7lfh\",\"bhxyjbc7\",\"ss2ojcst\",\"ie2tvchv\",\"yh0okyrx\",\"998y5485\",\"o2xrc2kj\",\"tbpr30ic\",\"tr7h36i9\",\"dv5hk4ud\",\"eetg9v7s\",\"0prx2rfp\",\"rqt8mt5d\",\"2qpcot6p\",\"orfufwdg\",\"mcywx9ol\",\"9zxgaprl\",\"gtd11g0r\",\"36g4zdqa\",\"gfctob10\",\"grmef7ab\",\"acmfhbtm\",\"i6grgo4u\",\"3jwl97qb\",\"a4khopb5\",\"renssekm\",\"e8qca6ye\",\"xamybm81\",\"dlicb2ue\",\"pl2remvk\",\"wdnnjlcw\",\"5zg3xr69\",\"synw903y\",\"mdpyzr7c\",\"qp4kq139\",\"hqs9rvq6\",\"xagfzwmw\",\"i2h0swu7\",\"6eafic1k\",\"d61n3v90\",\"uscd264p\",\"ox9v8xen\",\"wi3s53nn\",\"n4bbfu5i\",\"aapg75af\",\"9fm6l4x6\",\"lzy4cc8s\",\"zs6bg8l0\",\"vaexbkof\",\"zqzsgekj\",\"oy8e2cpx\",\"n4v4n8d1\",\"ymlzs5nw\",\"z4cagypm\",\"1ttoe8de\",\"ch8dfex0\",\"woscjkii\",\"8eidc6e9\",\"s4327gea\",\"vw4vul5j\",\"5381wzor\",\"vn669ui7\",\"6pm4gq6r\",\"o2vae3ia\",\"oi73zmvx\",\"6tod4abn\",\"z5t5qigs\",\"21deuayd\",\"l67pvf73\",\"yk0lg199\",\"yvmut510\",\"og0iz44o\",\"308k2m2b\",\"4360s2yu\",\"gqw815xx\",\"vtxzlqcc\",\"xzhoa03d\",\"qydo3yr9\",\"65g0hipj\",\"7b90iuzh\",\"movwhsc9\",\"r1gxafzj\",\"xhrl2u5l\",\"ru1unusq\",\"8gvqgmuv\",\"9ppumxd6\",\"u8p6knn6\",\"lgphvgar\",\"lx7m9swa\",\"uk6i9dra\",\"v5js0ssk\",\"vj86rtx0\",\"6bjloq2l\",\"lhn34tc4\",\"1dogron2\",\"r7glmi7p\",\"u2wxxcby\",\"5opiip58\",\"tuk1l0b4\",\"phemhpwo\",\"3lxvu00w\",\"vgr6ht3a\",\"n0hbbqsg\",\"rzmdp3oi\",\"xhpv783y\",\"69zx97my\",\"5vs82s89\",\"zs30wdhl\",\"tqgwgvo0\",\"5q4leivx\",\"e5ymsblb\",\"cex96yya\",\"v3xe5w8p\",\"tdz64op8\",\"72dr70oe\",\"4890bmuh\",\"yj5ca2f9\",\"7ru1p8c2\",\"3an516sm\",\"32v44sw9\",\"4nnuctf0\",\"8xv064k3\",\"hlx4gdc6\",\"junnnr81\",\"hao5hft5\",\"di32aqlj\",\"viqwsng7\",\"7jj00r66\",\"8aefwki9\",\"cqt858wr\",\"nada82w4\",\"8amon7b8\",\"pmzxfmw8\",\"h3obpuy1\",\"zxztna82\",\"l7jme343\",\"plcdwazu\",\"ix9x25sc\",\"axn5dgkh\",\"a7bhno7z\",\"6vty0pmk\",\"34yatsnd\",\"mia3dytz\",\"c79lt4iv\",\"roa7l6c0\",\"tswojeuv\",\"y4qdkod5\",\"kp63v53f\",\"aq8kh50h\",\"qty6s1g0\",\"781feqx0\",\"a2kill55\",\"olckhtwl\",\"2zyywaxx\",\"fvb6w11l\",\"rhfafy70\",\"4b3fdi0q\",\"pir3xmbw\",\"lig0bysn\",\"cth2wkg1\",\"s4lsbl1j\",\"a2jsorm2\",\"h8odnogm\",\"k7ah2zdc\",\"adxc9ko1\",\"vdf35h96\",\"2mffm988\",\"xqs4baou\",\"7pnz98o6\",\"pac60omg\",\"5b2l7xxc\",\"b5xrb7xn\",\"r8lymmec\",\"q4429b35\",\"0m4nkufg\",\"sxwwi4zq\",\"enyudvsr\",\"xavtxl4m\",\"29kudfjp\",\"pl4qmvex\",\"b0t6bsya\",\"olgnf2u8\",\"x2b42r9f\",\"ynf5bzha\",\"yjudxakz\",\"4haf8aaw\",\"dg213uf6\",\"5ps8aymi\",\"ulygq434\",\"qznrjflx\",\"oxzrldig\",\"knsgpese\",\"swcq2wfl\",\"ntqk4imv\",\"9p2n8tjx\",\"1sswoz0k\",\"12g7p958\",\"duaibgoe\",\"ca5avyjf\",\"z1pmu8vb\",\"qyg3phma\",\"ophojm43\",\"rixiupem\",\"cakwcbv1\",\"8tiutamd\",\"9pl7mta8\",\"0pbjttv4\",\"ef0b0035\",\"m4xba78g\",\"jujrazsr\",\"oy1p3tev\",\"rmwi1yo0\",\"dustkox6\",\"xpwsdl44\",\"jrvl0ykn\",\"u4mpclwh\",\"d8eqifvv\",\"bbi5j8ea\",\"ljkdcoan\",\"m5h19hy6\",\"56qknkuh\",\"hcl5b7pq\",\"saiwicho\",\"9b6j5lk0\",\"sxno0tfd\",\"lb2tuol2\",\"0i8t11vj\",\"r77p53d1\",\"gr2jinqo\",\"kitltmh7\",\"j9525ohh\",\"o3bp0837\",\"4ucua8y2\",\"z470rn66\",\"uzqdx3v5\",\"xjzq8htw\",\"75k84bk1\",\"kym04u27\",\"peqz7okh\",\"3tipg0ym\",\"gc5ieskk\",\"gg706q8s\",\"sdumq61z\",\"fz96y65d\",\"xp948zax\",\"xph08fwv\",\"zb28tmn8\",\"jnxk77y6\",\"lyvy41y7\",\"ujh2nmh5\",\"l7a160gs\",\"dau5bs2x\",\"b6ws0dib\",\"x2bi3v3u\",\"50vfrmp7\",\"6d5yloxp\",\"2bfqbs19\",\"7zeu2qg3\",\"cvwf63zc\",\"jul5sadv\",\"u4uvwpj0\",\"a9fds45e\",\"bnswhhpu\",\"d5tr12h9\",\"3amxb7qr\",\"i72nax2p\",\"ejjnowi5\",\"ijahxy6l\",\"12xdtllc\",\"ab128xv0\",\"kdhp9cwo\",\"9b49796l\",\"c7skxte0\",\"360mjoa3\",\"9kzu8xwj\",\"6qd5qyb0\",\"jrvurm62\",\"jmetfa6x\",\"uo34csav\",\"ds5mauer\",\"8joudz3f\",\"560jhnua\",\"l2fenhya\",\"gapckmpn\",\"ezz0fcbb\",\"ku0u9uiw\",\"5kv2j7nn\",\"gdvmzmat\",\"od5nnxvg\",\"ioq66pq8\",\"4xyouawl\",\"d9y31nlj\",\"9x4pbm1t\",\"6f7sjujr\",\"3yi44xfe\",\"427sx87u\",\"i3iv9ewp\",\"bcd0y9c1\",\"cns12o35\",\"1ghjd0c7\",\"lhd0jn0z\",\"222c1jzv\",\"nyccdahw\",\"2pcc8dmt\",\"1jwrq6j9\",\"irv0vc5f\",\"23nhjs66\",\"52zjm9jt\",\"qlkanjs8\",\"dusml83k\",\"5eu59xps\",\"p58g4w4a\",\"4iznx549\",\"ts3llerc\",\"6k4brmx2\",\"ycqjdtd6\",\"9gvdpt61\",\"8ml61ujs\",\"khqx4t4q\",\"3bi7z1kc\",\"cx3ex9ru\",\"m3t7l9zw\",\"7an61ouh\",\"j2lanfjm\",\"q856rx6b\",\"gxzifa7j\",\"jlu4e4td\",\"38lmf47v\",\"329r3m0r\",\"kelq45dw\",\"usp8g0nq\",\"a1q8dvu7\",\"bts6oju2\",\"wgk163c5\",\"h4vigeuy\",\"7nwq4vxk\",\"qy66ih4m\",\"jpvaehgd\",\"m159iz5j\",\"r9itwxcp\",\"32hjzdum\",\"9xvhf7ar\",\"rntaggru\",\"qpmeyqwf\",\"yp9kj5cv\",\"5sdzyj0q\",\"o2t5f4s6\",\"c7weqc03\",\"ff5ex004\",\"deg8ju9a\",\"1mnl6zmy\",\"e2p46wa8\",\"caeflh7f\",\"19wkwldb\",\"g8pu6x4c\",\"1dw921mp\",\"cqqad2my\",\"wml89mqb\",\"thnj9c8f\",\"twh8k0rz\",\"6tl7jnhe\",\"ieatbmak\",\"09gzchv0\",\"x1jtn0px\",\"mehixlhp\",\"pycngobf\",\"b4qtco04\",\"ark2r5wh\",\"8anqfkmo\",\"4567mu8n\",\"iisugydg\",\"8e2nctvz\",\"7uxu90t6\",\"mitvv9rp\",\"4smyxdcr\",\"md1etcw8\",\"g0nf1iwm\",\"tmdmgr8o\",\"dcb237an\",\"ria9v2p6\",\"t4phaedu\",\"xdlk8557\",\"ssiggi2z\",\"eo3as0cx\",\"l6mqum29\",\"b31mzs3b\",\"gd5btv69\",\"tbsccwgx\",\"89mbwzme\",\"ztelgtyq\",\"95zawygq\",\"eecl7nl2\",\"ke4wrmha\",\"14jm4ayn\",\"l0alow6c\",\"fmahx3lx\",\"28znb322\",\"a3oufbti\",\"ycyzp36r\",\"73tilrw4\",\"yxtdqjay\",\"zeq0h02t\",\"phas8z1o\",\"0brmwon4\",\"o2q488ts\",\"cnislmpo\",\"znlnqs2k\",\"2pw76a64\",\"w27fkqg3\",\"m0xiq2aj\",\"enslc21d\",\"bln4808g\",\"orfzsfo3\",\"0r8vo1fa\",\"oqwbmyft\",\"966uxeqa\",\"33gepnqd\",\"aoqyx8mk\",\"8ak0o0pv\",\"2d1a0uu7\",\"mlmglk8v\",\"g7dhmyyo\",\"cmw0lgpd\",\"s4q7eitn\",\"odl1nv4i\",\"42pyo6gi\",\"ef721182\",\"u5nibp17\",\"drj3al9t\",\"x4z0uj0g\",\"eudcs9t2\",\"z3ge4pol\",\"omq1atsu\",\"exy69neu\",\"zoakplwl\",\"223l6tgo\",\"gvk9uazp\",\"86kghmzf\",\"5g51n27e\",\"uxbfpx3z\",\"upsc9cf8\",\"qibt88f7\",\"a35thouq\",\"jm1wa7c2\",\"6yxe820s\",\"fex8sd1t\",\"ivzprlft\",\"2xflheth\",\"cvmnmg04\",\"s0zdqd6d\",\"7k4o3lt4\",\"4qrssc82\",\"hveuq2x9\",\"wlta0qxw\",\"9p2v32wr\",\"cmy3jtb9\",\"eg8p2030\",\"7ukx4y6w\",\"arexn6f8\",\"a3leag2n\",\"r42dqo1b\",\"abwlp7jp\",\"ruk46455\",\"zgi6nidb\",\"qqsmn72u\",\"q3oezx7k\",\"ljrzefkl\",\"xdgd11k6\",\"2ytec133\",\"7ofa04l1\",\"r0i3zo6t\",\"hpyh2dxy\",\"sg3ay5a8\",\"3uw7grbp\",\"vv8o917c\",\"j26aa43w\",\"u8i3kbl4\",\"a7ih5226\",\"w23o4s3r\",\"rl8cdxv2\",\"ee23ibkq\",\"3etogun4\",\"97c92pu3\",\"t1ma6njp\",\"5s0bujc0\",\"6imghzg1\",\"oc4puh49\",\"6u7dpl4w\",\"1nnjrjwh\",\"e350kj7m\",\"hq8dg87u\",\"0j4rid7k\",\"l5mt6cpw\",\"2l7f22fl\",\"6l0pqp6l\",\"v94bcou8\",\"afcgqjwq\",\"bjc0dmgq\",\"8ddtp4nk\",\"3par5h4m\",\"j6riw1ir\",\"uilzmmxu\",\"wa5il5go\",\"de2aimuj\",\"5o12olsu\",\"n0aast22\",\"4rpbsj48\",\"8xsuyxcg\",\"82o75tet\",\"ndwbnsv3\",\"lftitfh3\",\"qmu1mrmx\",\"1qawjquv\",\"rj3i16wi\",\"znv51wx9\",\"37ojix5j\",\"lx4iboaq\",\"bdmu9cz2\",\"ui3vrc2d\",\"nmx91h0a\",\"m9icky9z\",\"2lgjsfs7\",\"av9q3p04\",\"s5mxes4r\",\"ux6b6fvn\",\"ib5c3lbi\",\"nuhrd92z\",\"gaqa24b9\",\"ghwyrew1\",\"8c87geuy\",\"v9gfh3m1\",\"1tkevj8v\",\"cxuq0e0j\",\"v3n9ff16\",\"438td98a\",\"ojqyc89s\",\"f21shjh6\",\"mzmpnupz\",\"vuvd6mvz\",\"pvrf5z91\",\"06s04bre\",\"8ynk9k8r\",\"7miabbsw\",\"yfai0izm\",\"rq682r9a\",\"dd5gw66t\",\"d5mw5x12\",\"2u228xe9\",\"fm2e848a\",\"foekg5re\",\"leyqhma0\",\"wq5xe8ty\",\"skkng2le\",\"pw4kjry4\",\"famjnaik\",\"nuww66fv\",\"tcq37jzy\",\"yp8x5zwi\",\"wvk7lmqr\",\"x1gp46ye\",\"1qeiho6q\",\"847fac65\",\"vxy41zov\",\"m5qabh1k\",\"bq7ok1lg\",\"pz9lsaw6\",\"w1870ayn\",\"5o07z1t9\",\"zmp1n7mq\",\"272cb9o7\",\"6s7oj88n\",\"12sbikmx\",\"te1bf690\",\"23xkaa19\",\"by47qh6i\",\"a4282jtk\",\"3a3c8ee1\",\"7n8rrvrs\",\"dh3p7k3a\",\"hcd34m7b\",\"vghauzfu\",\"ju4gtfjg\",\"e36klbj4\",\"pdpg55aq\",\"t5gj0k54\",\"26s2anvp\",\"e0plqpgb\",\"7iwgrl8b\",\"szsb1oan\",\"8874c8jp\",\"2nqava5a\",\"ddisdsof\",\"421vcmz1\",\"5jjstgkl\",\"qfuasag5\",\"6v4uzvgq\",\"fcnkwwpw\",\"62v5ej3c\",\"ry3m6x8c\",\"345nawlb\",\"yaii6e16\",\"brt7ud3u\",\"hs4vs2cu\",\"wi6n6wo8\",\"2a939f49\",\"w7jcbe2r\",\"31jzsl2y\",\"ldyfoxdq\",\"emodr41j\",\"j6jsvg4v\",\"dz5nqpn5\",\"9o0sjnml\",\"kqbeinez\",\"z9jk1n7o\",\"dgha14wo\",\"w6ofwyfn\",\"1yo8win8\",\"u5o6fq24\",\"bwmpamea\",\"amwwj1yl\",\"nm7s3v5q\",\"ag4faw4m\",\"q2p0d9m3\",\"yesxg84u\",\"1hxl6qz4\",\"hdfn60bt\",\"r6ppu80r\",\"aasrqa2i\",\"iffqezxs\",\"zdf86fgq\",\"ttuu80vp\",\"vpatxjd4\",\"kp7qk49p\",\"i4wyhque\",\"ka676pli\",\"3rmrkzuq\",\"jsnogu6n\",\"na16rk0o\",\"toarzmkn\",\"rmcsjck3\",\"ceo6gfgc\",\"1rc2swfm\",\"bhhsech5\",\"ugus60mo\",\"qzxvh2qc\",\"89ez30ea\",\"rbndy67n\",\"tkbqive7\",\"la5sum39\",\"nukldq8c\",\"3wrqd1bj\",\"lszibfbc\",\"fite9vs8\",\"mpmneelo\",\"j8ujufk4\",\"44zduv27\",\"feen4e8w\",\"3e1ji2mw\",\"v6wt9mhh\",\"y0gq9kgk\",\"2ncdreah\",\"vgfdfuza\",\"umkg8n5q\",\"vl6b82ia\",\"7ie23c7f\",\"yfaji9cv\",\"becy7zyj\",\"orlgzv71\",\"ousl8h81\",\"2fiptd5d\",\"eemzfrbv\",\"6f6t558e\",\"j8x384vp\",\"nhke2xam\",\"07rmz138\",\"szu69bys\",\"nwmi3ugm\",\"jokv7frp\",\"3ggdayo2\",\"b7km2oy1\",\"bxlt34bl\",\"2yjuhvvr\",\"a2e7qh5q\",\"sx001m2a\",\"8w22yn1i\",\"fttwshmb\",\"96tvnecq\",\"hiw9unh3\",\"zpywr5d9\",\"9ra94uda\",\"tspct14r\",\"ply7gp60\",\"f6f3qhsi\",\"69wfx3s0\",\"mm89x7en\",\"gb6bgyoy\",\"myt63pgw\",\"13kz0h98\",\"7hm3fb2s\",\"xm8v65qx\",\"mi6n8tc1\",\"x16659y5\",\"84ma0r4e\",\"cc39klkc\",\"dbhfnvi2\",\"b1sxt8wv\",\"od832cia\",\"25brblfq\",\"6yhjuqxj\",\"yfn8sy1m\",\"u7xxtmvu\",\"y7giefdw\"]}\n",
            "{\"positive_doc_id\":\"1uiobtjv\",\"query\":\"What are the epitopes recognized by the monoclonal antibodies Cys3F11 and Cys2E5 that distinguish cystatins SA1 and SA2?\",\"negative_doc_ids\":[\"5ur9du2p\",\"5dshegp6\",\"jhuor6nb\",\"6asjhlpw\",\"59nznqsd\",\"e0zhq18g\",\"tzyf57b9\",\"u8d7zmkz\",\"nrwjyq4z\",\"hto2k4o5\",\"rtpbltkf\",\"kcm86l15\",\"knx7pg0t\",\"cq46fur3\",\"otwps68u\",\"0dbuo39v\",\"sag0bkgz\",\"djfj4262\",\"r0x8yaqj\",\"jrzpkdra\",\"dgf13mcn\",\"yxciyb17\",\"bu34528t\",\"lfjefkjx\",\"gel6wf3o\",\"797t99ov\",\"2c2rsmpw\",\"w4direbb\",\"p9jc8rlb\",\"qe3f9e9a\",\"0xszpi5b\",\"0yjgg3z7\",\"obhm5mc5\",\"kavg2xuj\",\"n9pqd30o\",\"04nvemzf\",\"brsailag\",\"v5oh0haa\",\"7d7dkwms\",\"hlsotk24\",\"zznq162b\",\"z47pwuek\",\"twwllrst\",\"xns4h6qd\",\"j5zr528a\",\"uq2h8rmv\",\"hetm83zg\",\"w18ptl0n\",\"l53ms3q8\",\"kv3363qh\",\"4tmil0kc\",\"wzo3vmbn\",\"90bbw658\",\"zx6utpd4\",\"xia53pf6\",\"8ru04gef\",\"fj2rjmop\",\"9miw175b\",\"1e4dzy64\",\"10qpje4d\",\"jhx90hh0\",\"4sdtgugk\",\"0i5dcbzz\",\"zx02gxw0\",\"rkx7ce48\",\"i2m8o110\",\"ye0tvnnf\",\"r3r2bc7v\",\"kldi2wpt\",\"imv1gf4a\",\"sqz8yc7b\",\"2o7e7r94\",\"5w6lh8fn\",\"lxa8pvt3\",\"kbt5gdyy\",\"t1zurvzv\",\"izg86lim\",\"n21hkkfq\",\"ljunfx93\",\"zetj7mxz\",\"kkopi2me\",\"m2p6ltvy\",\"39o70xgg\",\"s1oqphvn\",\"3m0m47w6\",\"2a2z836v\",\"uphmqh8n\",\"usoyjlrc\",\"mhxazhlr\",\"914y3je0\",\"vvspjage\",\"jklargqa\",\"dz3lbrx3\",\"pd5n5qq1\",\"76qdrq98\",\"clrwsgni\",\"lezr9ow5\",\"fbuegmb5\",\"j1ujs0t0\",\"sh6roqum\",\"99w19ik2\",\"s82dzr6s\",\"nbtfb39r\",\"46f00gkc\",\"qmc3px7i\",\"b6r9zdwa\",\"sqjscujd\",\"q2xndk6p\",\"2j1hbdvt\",\"c0re9mwe\",\"u0bxrn0f\",\"m26ekl9b\",\"ux5fi15h\",\"4mv6qwpc\",\"psqhorjh\",\"f03ka7bd\",\"55ly2lrj\",\"grsv06j7\",\"6wvju1tq\",\"tofch4j7\",\"k8ob9wbe\",\"af0ixjyo\",\"21wowwv5\",\"nz1eb0lc\",\"ru950t57\",\"wic0imxg\",\"d3d1n9qa\",\"nddrpvvl\",\"m5myw1zu\",\"fcffl6m4\",\"zizv1n10\",\"vopv8aoj\",\"9pkvj14m\",\"k68f3rd5\",\"73inqtb9\",\"cavkh1vq\",\"sd6e73yv\",\"l2tz4hv7\",\"y83lg07p\",\"v2wzqhyo\",\"pejcuksj\",\"dtv6egw2\",\"ic9ka18g\",\"qhben0u8\",\"eojeofum\",\"cdmoazrl\",\"5i84nomn\",\"qtt8athd\",\"uk8jnuwz\",\"jac26dlz\",\"y6skrqi0\",\"i7x50taa\",\"hzhj4137\",\"wzcas4zd\",\"4x6t5r0o\",\"rbn3foj3\",\"uuwvmltw\",\"l1qwfxvd\",\"uvs26373\",\"9bv2t531\",\"budjcbej\",\"lhdtwwow\",\"ux21mzep\",\"bjg20xnk\",\"gthsy86t\",\"oe5qny44\",\"mb1vzj0r\",\"ud5fynux\",\"470r0ies\",\"23m11pg9\",\"nindyp3r\",\"c6elsnag\",\"e6h8n8qm\",\"0pe8vgin\",\"neowfhwg\",\"c7t7wudm\",\"jqwmcopi\",\"hxph2xid\",\"rhgdorpb\",\"t9iia2dl\",\"n7revyy9\",\"o9ckq712\",\"47m9u6j1\",\"zwhavf4h\",\"auwm2qj0\",\"lskb8oxo\",\"bmlyk34s\",\"jpo9oomb\",\"1gnn4rn9\",\"y3uc6wur\",\"at8fezit\",\"mprsdi2e\",\"salhgyfk\",\"norm5yh8\",\"zrtoncvw\",\"vt8q3qz5\",\"v9ry4xfa\",\"vhtllsvl\",\"q12mlmbn\",\"5er5ec7r\",\"jc5knffl\",\"hlui1x8c\",\"xfcmwn8m\",\"5ac8srk7\",\"ykta825j\",\"khfiy0m2\",\"qh6ybagu\",\"wlhqsc48\",\"q96i25vh\",\"gecmj9rc\",\"7y5i2w8x\",\"4sw25blb\",\"b6to1v4u\",\"79yna07e\",\"e6upgiru\",\"dibfdkzk\",\"464qi674\",\"cyjz29ot\",\"ma2z1pii\",\"rmnjs1t6\",\"1os53fk9\",\"4e8rx2sx\",\"rnq44lj8\",\"x32hbe6a\",\"pifvgngo\",\"z812zazx\",\"fjvbyexf\",\"1u2fkwx3\",\"lh2nednu\",\"r6y70to9\",\"loey5xq9\",\"h2e6h076\",\"s9w2yr08\",\"cmzsvjzs\",\"fu0x6bqb\",\"4m7t939r\",\"cbnjsrmt\",\"drhiqch0\",\"xmrdg7xg\",\"clyvpb16\",\"srbqee6d\",\"y4wq215a\",\"i9we5aj0\",\"y0xdizpq\",\"bt8mum7a\",\"c9169p9d\",\"oyzdnw0j\",\"ysy4u54a\",\"4w6caxwu\",\"yigj0u3n\",\"yn81os8o\",\"9ejd3grz\",\"2z6zsi1e\",\"m5x1nn19\",\"z4fpy607\",\"1qlrub4k\",\"ent4vu3z\",\"oa5qfvkt\",\"nmy63nz1\",\"a9o2dvke\",\"8arzvh2l\",\"f6msh8od\",\"o1o6whfr\",\"g9vcchrh\",\"wvkvatnh\",\"pm0joeyb\",\"9khsgtz3\",\"68inp2ps\",\"qv8rn0u0\",\"w6nlykal\",\"bq9yhujp\",\"hcdnbdvl\",\"au2936zr\",\"n7ehxulc\",\"ft1fy6ly\",\"r1vsvdz0\",\"2jpzxyoq\",\"6d9x0xbj\",\"92esdjy9\",\"9ptflz1f\",\"85kn968m\",\"mwew2dbb\",\"p8cz6gqk\",\"4m9lj0uq\",\"jbjthyhk\",\"xr6jlyij\",\"h2873psw\",\"4wn40ivq\",\"rmjvb8v6\",\"8hgp81ws\",\"iptkkwai\",\"0tdkfhnj\",\"zajppdcc\",\"64y43o0y\",\"7y4bpjdw\",\"71sps4k8\",\"y9nh0zu8\",\"q8gshba8\",\"o6e3kp8u\",\"k4en9ksd\",\"gagakqw4\",\"9q0iex5q\",\"273bdjzh\",\"kqrbyrsp\",\"t1zi243x\",\"tzu4jk4d\",\"21n5wisp\",\"otc0pc09\",\"oluq7v0h\",\"f73qz8f9\",\"9tivuyh5\",\"bcdiq8xh\",\"oabo8wgp\",\"kq5wmavt\",\"0e9nyl2y\",\"fgzrhs2i\",\"br0364cl\",\"zcp7xbzr\",\"v254de8k\",\"dv6oeldo\",\"i0txtkuz\",\"6z9ok3cc\",\"js9ek5me\",\"pjzaw7bq\",\"5fzwc8ku\",\"nqt9lhcc\",\"25qfbbdb\",\"88uuo5qr\",\"ueqxxzsl\",\"lzda8kyn\",\"tzmqqo7b\",\"41v3lzww\",\"o0bng6vr\",\"93gt2ryu\",\"dg10rf2f\",\"hlthvadj\",\"nwllq288\",\"zvxvoygo\",\"mjbuzl07\",\"ezc5oboq\",\"455g55w0\",\"9l097t54\",\"lk224mvy\",\"ivmcqf4u\",\"49z2wbej\",\"88zfju18\",\"l7ojx5tc\",\"nfo5h6rp\",\"y2pm6a27\",\"w40ydwpr\",\"vct6xakc\",\"mo7734w5\",\"orgaadc3\",\"9q3f4w6u\",\"ml2luc1t\",\"ai6jfviy\",\"3p1dniph\",\"aco4x51x\",\"0cdqszso\",\"49nvudqj\",\"lf7m7hx2\",\"689nnr28\",\"8h73xn5q\",\"eti90wxk\",\"29ih5c9v\",\"4svg09dt\",\"nw5l1nen\",\"5aqzp5g1\",\"7o6htufh\",\"fu4lv9gq\",\"ypls4zau\",\"ylgmn69k\",\"vixb9v8v\",\"uh0ftuqv\",\"zksa523r\",\"0mructd7\",\"btjq84q7\",\"3lezofhc\",\"ory6dp6w\",\"r4glbi6w\",\"nbq9218n\",\"0zhnvw8z\",\"l6tasi11\",\"c0smzrt6\",\"2ie1v1wy\",\"ppehuu2w\",\"zu8wffvq\",\"s4t1pa76\",\"qism80i6\",\"dbrw6fn3\",\"f7f2urzl\",\"wjo2rdv0\",\"p87nuq5x\",\"9rqu018k\",\"8axbkyyz\",\"frtxl8j1\",\"acrkbzey\",\"k10siwur\",\"n9sih438\",\"qy8gm11c\",\"x5ygn82d\",\"ij8gfutc\",\"qhz2kzy9\",\"306pty2p\",\"z10u9fqv\",\"lzfiv2br\",\"zq7mnrby\",\"484m3ebt\",\"2rtk9ppu\",\"0l91dycv\",\"o8x7e96w\",\"rwfdfeii\",\"vaux5cha\",\"3ek9fz88\",\"5adxcwiv\",\"z92b18mb\",\"o1x8c9o4\",\"y8o6x4b3\",\"i1y6enfw\",\"v9ggxc83\",\"03mtx348\",\"7qdu84bn\",\"j9armxm9\",\"d08buwtu\",\"sza605p7\",\"dvlpq3e6\",\"4xsjfmre\",\"c41nv5jx\",\"rbtyu4cu\",\"15ev0b9d\",\"06vlesc7\",\"0czzjeop\",\"553ihl6c\",\"k2rz29yz\",\"kbs1t2r8\",\"8e8h7bo3\",\"85pu5mvm\",\"3xxyb5vp\",\"fgdyzzty\",\"m7ife141\",\"bd8b8xaa\",\"gp7jrluz\",\"ba7f2mf3\",\"dwbms51s\",\"hf2ryjrx\",\"83hw2don\",\"db6v37hj\",\"jkv3xyuo\",\"k7iuq3t8\",\"vejbxne9\",\"nvd5u9io\",\"1hw3itgt\",\"am35kero\",\"htuky8an\",\"e226jmmu\",\"g12r2417\",\"9011s995\",\"9dzef3ix\",\"yfmng12f\",\"hfa9w2dg\",\"sj8ngpk8\",\"2o4m99mv\",\"dqxfcwyu\",\"rqggh4y2\",\"vrbsbwgv\",\"rxg7wvr7\",\"c7g0h6zn\",\"pkxc2219\",\"cmfo9hr9\",\"fxmkeece\",\"s33brsk6\",\"qkl8c9ou\",\"rzf0cw1x\",\"d3cgb80n\",\"v6i7u8ga\",\"705h5l06\",\"sr8popns\",\"cv4fhkq8\",\"glboqd6t\",\"jt2pr2le\",\"1bzc0j69\",\"upb97on4\",\"8davsvmz\",\"m7v8vims\",\"w6ivwjey\",\"wi2k1183\",\"pnuidmj6\",\"ebbzx8yr\",\"84hphtps\",\"dnbg36fh\",\"r7j887cg\",\"pjq146cu\",\"2r101v54\",\"65tbv2fh\",\"vp22xd8p\",\"cmdaqtkl\",\"pggpn1kk\",\"9zst3iz8\",\"mrbhgqxm\",\"9g4fk87g\",\"ixn7yinr\",\"g4qak0bu\",\"wfkk7dsm\",\"ff2zadol\",\"hz7fuhe1\",\"bnld9o72\",\"4hqhty5o\",\"chy7096f\",\"feh9iswj\",\"yac7jqa7\",\"m19r8bef\",\"9z4rq850\",\"y11owazu\",\"fx7c22fj\",\"3nbx13gj\",\"od0tx7r3\",\"kzblr469\",\"txrvtayz\",\"wjz0w4g2\",\"vh6s4m6q\",\"x80cs5bc\",\"8x4rnkpm\",\"7icenpwc\",\"oljape6q\",\"1b96cbye\",\"jstjqrd2\",\"z9cyv0jq\",\"pxsmv962\",\"pd47uife\",\"q72zp2o4\",\"gsssbiqm\",\"7mjp1hv9\",\"25yjyyug\",\"tzq389yi\",\"sz2ziquz\",\"wirslnld\",\"5otm0mp4\",\"kkaxha7d\",\"qnbgywgy\",\"5267m0ey\",\"gmoq1i5x\",\"4tcg8bqa\",\"tefxh3cy\",\"6cz96z8a\",\"jv5wyup8\",\"oiepgu0v\",\"0ks8m213\",\"q02fq403\",\"yp4gq14k\",\"5ibowkyq\",\"ioihqf0r\",\"uiwg482s\",\"6nuqcoil\",\"8igfuaw2\",\"fsuqjl5q\",\"9npuaqc0\",\"o12ts2ha\",\"qkk4rev2\",\"qcu73sdu\",\"hwb2huwk\",\"i71cxlip\",\"xmr5pirk\",\"eiobmxp2\",\"ab4lpco5\",\"l6eq4bzb\",\"psguw47w\",\"0ymcxcj3\",\"moxjaxuy\",\"ohr8umip\",\"jgvitgu3\",\"welf0eb1\",\"69mgd5h0\",\"gayhhe92\",\"b69wakcj\",\"r3l4q7hb\",\"yiy3xfzc\",\"slegrep3\",\"asjvf123\",\"898ofggq\",\"ad6ztoba\",\"pobxgffs\",\"ng57mnfq\",\"s7chie0t\",\"fddtp96c\",\"mlz1rb1w\",\"hiv9xp0c\",\"rbye73yv\",\"c7xvf6dm\",\"7phfm2v5\",\"zsp5v8hv\",\"hroxg2u1\",\"60xkxdhe\",\"2neggz5v\",\"1aowjvzd\",\"mif9gf4s\",\"4jnuro8k\",\"icuzy3vp\",\"1kgy2qb9\",\"lno01041\",\"p8pqwjkt\",\"t6kp1zlw\",\"ye0ry61s\",\"etopyd6x\",\"r0f2pf3l\",\"rnlzn1m5\",\"7s6vtc8m\",\"p4exyu56\",\"w5e6k896\",\"46o7rp2l\",\"o8uadujh\",\"tt3igt6d\",\"63yvpuqx\",\"hxrxbpui\",\"138mbii8\",\"xk8378z0\",\"2jif4hqb\",\"b3l4sy1u\",\"32rgs219\",\"dnwixdf5\",\"508oindr\",\"ozp3nwuu\",\"kbkrkyhr\",\"k3u2nvpe\",\"axthsvvj\",\"ivmpbuwf\",\"2frptxtg\",\"rqa3s8gu\",\"fnwfppp9\",\"flszcl60\",\"l3qvyr7c\",\"f2o0i8hr\",\"jmhhfpym\",\"x8yl605n\",\"6e5k2l2m\",\"l80w3h0z\",\"25tcxise\",\"gv06jxnx\",\"ratbgibg\",\"ivoyw3fn\",\"7ilutd8n\",\"d81zeql3\",\"xqxu5r9w\",\"ipfs7hcb\",\"djoy2pjt\",\"7k0umx2f\",\"qg3il3u1\",\"b7im7l5f\",\"leypykq1\",\"y9spm1xx\",\"llyrkraf\",\"gmcsbg9f\",\"f38hiz3v\",\"qdlt2it7\",\"6pb601lj\",\"6fhuvt60\",\"5oqaioa5\",\"zt92ob4m\",\"v8fgc365\",\"fndg36ri\",\"ujzqt3nz\",\"d3ui50d6\",\"srnnpktl\",\"sd2uvd3u\",\"0caxk3hq\",\"rnfhx7va\",\"0ikxtf1t\",\"k751ryv4\",\"81a7fkpj\",\"1odgm6hm\",\"arrhvqwa\",\"crz52oo8\",\"xhzvp35g\",\"4363h9gx\",\"8i5okszf\",\"kjh5insr\",\"eawlrqy9\",\"cav9n18w\",\"d92o8djm\",\"8b23lqnr\",\"he8imlqh\",\"k406jf98\",\"r5dz24oj\",\"nq16jcs9\",\"5jau2gjn\",\"vugnc7jk\",\"uemu8zd8\",\"ge88id2v\",\"vvo8a4hp\",\"fcrdrc9y\",\"8r4xc8tn\",\"8omx6saf\",\"yf3e89pz\",\"7e40rj1y\",\"znfpa8lk\",\"gc84k214\",\"7ro72sv3\",\"9p3yz6us\",\"xx6imhzb\",\"akzydy7l\",\"rwuhks7r\",\"n4pf0tfr\",\"m16xmyv0\",\"06r3fgs6\",\"20evfmcf\",\"n3pifojm\",\"5zi1i54p\",\"3k1ks3wg\",\"cjghf08p\",\"6moxjy9j\",\"gbffkame\",\"zphgnpgb\",\"b5329o75\",\"wpurd2gu\",\"tu2xrt9x\",\"k81hya7e\",\"lal14r4s\",\"mwgccr4a\",\"li0ml79h\",\"2mdyjkcr\",\"1pm17l5d\",\"rqt8mt5d\",\"2tlrb4bn\",\"7ati571p\",\"2jma4aqu\",\"47z1p8c9\",\"mt8zsbhb\",\"szi6q16j\",\"lc1onm53\",\"ifgqcehf\",\"y1fcw1dj\",\"m7j0t6hz\",\"ngg4wsa2\",\"pqxjs22u\",\"ip86dv88\",\"et46tnkq\",\"nad0cbv3\",\"qmaq2lgo\",\"wrtcsd1y\",\"8t0jvrts\",\"0u1fw5tg\",\"6345lzjw\",\"i0a3igc7\",\"vfdvrekv\",\"68kja6bg\",\"o6sjioa1\",\"byxd4o4m\",\"xzionafe\",\"7hprsqpa\",\"hyoroqit\",\"bv42mbnp\",\"4cllq5ts\",\"b7lucq6k\",\"aij2bkxk\",\"89882djr\",\"l9gunbyb\",\"li6oh7gi\",\"qlbinwd5\",\"wy068c6o\",\"xu0elmak\",\"jzrlywfe\",\"g2cv4mx1\",\"skzidybm\",\"qqtb7ood\",\"7hor8kfy\",\"7n5460mw\",\"r8vgj7m5\",\"pm8lgiq6\",\"m4xbeoej\",\"6rs86u5v\",\"6egc9led\",\"0bqpzwuq\",\"rxt3fkud\",\"jx7q1njc\",\"4lhneceo\",\"lmswl9ol\",\"qgmtitx2\",\"6chpmgry\",\"91czn35x\",\"thwnmobo\",\"wviq4ora\",\"be49k54p\",\"iex98lr1\",\"8hsb6xly\",\"7dckgg6b\",\"ov1qssnu\",\"neq2vqym\",\"85pt5zdt\",\"9gozwdng\",\"tm0hn0hz\",\"dgkmqenv\",\"q3xxtp73\",\"s6i1mw8r\",\"xwipcngf\",\"5a5a8ifz\",\"1i25r0s0\",\"qhelk6u6\",\"wb966r76\",\"mvh4ig2g\",\"99kg8jxy\",\"gklyk0me\",\"8kwcrh7x\",\"0xj6zk31\",\"6bccxgbd\",\"k8e23n4y\",\"ikdjta8o\",\"6tgyvmnv\",\"z0da8n20\",\"ecvpmuz3\",\"phk6df4n\",\"aazq0cmm\",\"tnj84axf\",\"giakcaki\",\"6trpwyzh\",\"ikco4h5k\",\"pmolz72n\",\"qc1zg6wo\",\"h62zp57b\",\"2ax1e7zw\",\"d8vrmmrr\",\"dm21kvnm\",\"2cs0knbl\",\"qvx2zw2d\",\"2eq24jth\",\"epz7fvnx\",\"zhfo3qye\",\"xwive6z8\",\"tm1iuor1\",\"wcou9x4y\",\"59nwq502\",\"v3jrpecs\",\"auchd2ml\",\"jfivypjz\",\"j6y806qu\",\"5f4tybt9\",\"oj1re34k\",\"2piazw0l\",\"7pxcim3b\",\"hs6t53wn\",\"hbthmwp3\",\"qcgc2bo3\",\"2kjf9q33\",\"pq3nmags\",\"nf085z53\",\"r0f257jv\",\"y883anmp\",\"tmp6yxlv\",\"mlo8zypy\",\"vy7d2ocs\",\"06jyqwmr\",\"o3uduo27\",\"uvnpk1r4\",\"y329a4td\",\"w8jvd67p\",\"gn812sh4\",\"cfuex42q\",\"84bcvgq9\",\"e10y6okf\",\"pl9vz93y\",\"187o4ukz\",\"elhz77ek\",\"51uflr94\",\"m8r0tpof\",\"jqy32gu4\",\"yofywc53\",\"lzvtgwox\",\"kewcn5s7\",\"qbyz4uz5\",\"9a163ad7\",\"qevosik3\",\"1rpzbadj\",\"gjkosagm\",\"7c3i1ndv\",\"s92cxllj\",\"la4f12hk\",\"xw9a8ywk\",\"3jkznn2w\",\"1npqkt71\",\"zwbc7nnn\",\"zeeekc2s\",\"7aywx213\",\"equnyib7\",\"jetmocvk\",\"o5545c1x\",\"tkzvtrxx\",\"jak232i2\",\"1oi4fl78\",\"521tvi20\",\"0iqhf2o5\",\"60gscdyu\",\"32jbsokt\",\"psfusppi\",\"bfyoavon\",\"u4swxsjj\",\"uqctlgde\",\"9r4j2yt0\",\"6n3dmle6\",\"h8fe0zio\",\"nubewu46\",\"7d5q0g0s\",\"3m0g6f7f\",\"13p51dq2\",\"ky614k69\",\"5vku3ta7\",\"0gfxy9z6\",\"qvklrbj5\",\"cwfujgya\",\"faymgnts\",\"i6pystdx\",\"et1sli23\",\"hqxiyxfj\",\"g0737pk6\",\"f87anteu\",\"8h8lwg5p\",\"1wfeatf0\",\"x1l9lbnz\",\"htoexg53\",\"5n94oy6t\",\"c08ptb1o\",\"mbrw85og\",\"jdu4h00e\",\"n44yml79\",\"pvl9oloa\",\"o4khltfv\",\"8ohrqj5z\",\"dc7fn26s\",\"cgqb7dht\",\"544wa28l\",\"4pb18zsk\",\"rvbnryc8\",\"c981yrcv\",\"rswvt9wd\",\"r73datur\",\"w5basxr0\",\"f2cduu7g\",\"rq08bhu9\",\"95s12s55\",\"6eibj2hy\",\"svnn4ptw\",\"iaq0g3e4\",\"kf1fs1ka\",\"deme84ni\",\"gv1sgbk1\",\"a063ikt6\",\"vu0n187o\",\"4hdj6mtf\",\"csao3flr\",\"4wk2kk03\",\"w6psvdq7\",\"7rs4jtfh\",\"r7mskri0\",\"6dmswy8t\",\"h20337ib\",\"ppdsgi9o\",\"okits8b8\",\"hfv5fl19\",\"yy5guugq\",\"dodnftfg\",\"momlxbvh\",\"7tryoxhj\",\"vyght5et\",\"jfr9hckz\",\"7xy4s483\",\"rynndfmm\",\"a3om7x9i\",\"tonaaft2\",\"fm6ps0r5\",\"x72zyev3\",\"6m1q1gdi\",\"kc0d5pe8\",\"7rjjwekf\",\"uhoi5bm5\",\"da36693q\",\"cdm39qt9\",\"dsflny30\",\"698voi9y\",\"3o4mw305\",\"bbn16uf1\",\"qf32xs4m\",\"fjwmjwf2\",\"jxj5zcr1\",\"b0r60bk3\",\"xroo7z7g\",\"w98i9l5i\",\"hbr4seeh\",\"bs9t0kf6\",\"xys0g8b8\",\"n8viusan\",\"a5siawrr\",\"m905ezgp\",\"rym2ik0o\",\"2p2r5i9g\",\"qgov4rqq\",\"47ovbto5\",\"36u9e72j\",\"isbqs7hg\",\"1y5nej0m\",\"j4uftwit\",\"o6zc2idf\",\"c3ij5pvr\",\"955j1ms7\"]}\n",
            "{\"positive_doc_id\":\"lpjog6nt\",\"query\":\"What is the relationship between perioperative blood pressure control and the incidence of acute kidney injury in cardiac surgery patients?\",\"negative_doc_ids\":[\"inpsssto\",\"z8ywyb1t\",\"faz97vnq\",\"5b3pw1tb\",\"sejk04z7\",\"c3q99q6h\",\"b7sha11t\",\"65tbv2fh\",\"sz3masli\",\"6hdy0by7\",\"uyxiu9i6\",\"otio8uzt\",\"nyb4nfrl\",\"odxg81fu\",\"1hvihwkz\",\"nguiykn1\",\"8ibh77s8\",\"fdh54pqu\",\"3rd063wi\",\"u17tio45\",\"o5ukndun\",\"8vokul5u\",\"n860t9bp\",\"anxnbe4h\",\"9vodvk69\",\"b0y7i80w\",\"u4zmx3p5\",\"tq7wkoog\",\"58tpp14b\",\"c7py2qio\",\"wat7s3cl\",\"n9g1p1ux\",\"39zo8qbn\",\"27rqlbst\",\"zblitbo0\",\"i0595jyq\",\"q5nng58r\",\"curye555\",\"v2184exi\",\"7af8jzo7\",\"fg69m7o0\",\"yb3oohic\",\"9nz5ru7f\",\"y1fiopqt\",\"69qefbbo\",\"cxl73vqj\",\"8q9srxo3\",\"eaeg5sma\",\"el7e7gg7\",\"jbj72sl2\",\"jtbcomd6\",\"l9782w73\",\"fv3xs247\",\"at3jjjnb\",\"spae84j3\",\"ot7es8zd\",\"ez6j7t3y\",\"7kssii0v\",\"gbn1u6mx\",\"ygbd1dgo\",\"y5wf67op\",\"nw4xgmpd\",\"lgt0rzob\",\"uru9cq56\",\"3qb1ym4w\",\"9xzl9qdw\",\"45etvu9n\",\"axxoj428\",\"4xvl4llk\",\"2vnevq6t\",\"062hh2iv\",\"z72cx4mt\",\"j83jabfz\",\"7qdvqnmz\",\"5zx2k764\",\"h6yb7ix3\",\"ou7hpqjd\",\"bp7i31is\",\"jttmna9a\",\"kmcrpuvi\",\"3ztrrg80\",\"ubp55ftz\",\"sil73n7e\",\"c9j3ga10\",\"7j5cdt1b\",\"1n8im478\",\"0mien60n\",\"d7e13u2l\",\"lbt57ccs\",\"xvnxkcxq\",\"0los5rcv\",\"o3b2yvbs\",\"rhvv3l0l\",\"7om3bpby\",\"0jwskjmj\",\"zv382pr6\",\"evef9qja\",\"0brmwon4\",\"x1bil6m8\",\"iawe8svx\",\"susz79ku\",\"w00oppu8\",\"7q1xtlra\",\"ffjmojka\",\"1x2urcj9\",\"0qiet263\",\"ongpxhu5\",\"2brrkp33\",\"vxbeazjk\",\"ary5eafy\",\"hxz5njp5\",\"v8u263rj\",\"dbwa1t69\",\"kh191xc7\",\"iyx6qqut\",\"6h0v9fcw\",\"mp2xcokx\",\"6ujke2ze\",\"qd6c1iil\",\"58a0xoo8\",\"kp98uewn\",\"6k45db0o\",\"6ljy9vvi\",\"q43iofxa\",\"71ddv01z\",\"hh50mq4z\",\"dwsslxrm\",\"09tkcvtc\",\"bwfomfa7\",\"659lz92w\",\"4qqqa4cr\",\"op7arl4x\",\"hrlpxl6k\",\"wpde3al0\",\"t33p743l\",\"gipjuhhc\",\"apgyvixr\",\"d23clp5e\",\"ebsqjwmd\",\"rmd2du1j\",\"a3qlknw4\",\"6mxvuj9k\",\"5ppixu29\",\"jp2p24r2\",\"247yp03c\",\"sngvxe7y\",\"ygd5ppb4\",\"nonn8y4k\",\"zr96k6p1\",\"idd8uq9h\",\"1vimqhdp\",\"169oyu7c\",\"13xwek2u\",\"7fae4j37\",\"cuv5xxoj\",\"7z0glgun\",\"1z5wlznf\",\"p9o1v0pk\",\"tjtu1ljw\",\"vg4lkj9h\",\"o1w8q2lo\",\"ss2qgbld\",\"0yq5ror7\",\"fljijkvl\",\"4uvy9qx5\",\"hcrhgn58\",\"rd03rhpg\",\"xuc2sobe\",\"1y0mz89o\",\"tbhodrs8\",\"buf9qppu\",\"of71w0vm\",\"wf29oor1\",\"g3t2u0gf\",\"jr9vu9e5\",\"1n6cf42z\",\"6ub3lms3\",\"4ipuz8ew\",\"px9c20il\",\"ocomp998\",\"x8uxy2wt\",\"3ti3y4y9\",\"lbs666lo\",\"ktgwl55p\",\"23ve243h\",\"mm2sp48e\",\"wcoc3a3y\",\"emjq9iiy\",\"xjs84hgy\",\"u1htgl0a\",\"bfw8iw3h\",\"5tbm0lhd\",\"fgwtw966\",\"8zwrntq6\",\"rjf4d4bo\",\"l2i7xybd\",\"gqs5voj6\",\"54ort1ih\",\"uxwwmgxa\",\"qzsoldyk\",\"7eyyl5c0\",\"gckcshyb\",\"a13e4fwp\",\"rcq7435y\",\"mr8jlkoh\",\"mrznt2dx\",\"kkrdvo6a\",\"z1z5wr4z\",\"ftqtubid\",\"bw0wrdxd\",\"di7hfghi\",\"alif0etz\",\"xwqd9pks\",\"x6nxnesc\",\"c8gpdisb\",\"419uqqpe\",\"ek9gzkwu\",\"xttzl5u6\",\"hqi41swt\",\"mhdt4ge0\",\"wva3oluy\",\"qsn3kyp0\",\"2ht62h3n\",\"3qmbt1fj\",\"56ryckpj\",\"p1lfavdl\",\"rosquj04\",\"nn0o6dy4\",\"hrbzgclc\",\"8stdci8h\",\"431ysb4z\",\"6f8eu56a\",\"f3b9b41j\",\"9xmksj06\",\"ve8ngl3j\",\"7lonkj5p\",\"1098ey0m\",\"t95908ze\",\"2dgyll1a\",\"ysd1iykp\",\"yyn5v7tn\",\"wduugcwf\",\"q45qayih\",\"mjz12br1\",\"sus6rocu\",\"70b1l83e\",\"mq3ozgba\",\"sleo01nx\",\"v83yukuz\",\"f7kxgdz3\",\"y26y5myb\",\"r7adauup\",\"dfkemtwp\",\"5oxolwwi\",\"1gf3iwvr\",\"1th4h0ts\",\"254z62e4\",\"guu5oer3\",\"tbycfc4i\",\"7iidsofp\",\"xoj4bvhs\",\"kfqilab9\",\"a7qwm9w2\",\"o1ewny43\",\"qgxjwzic\",\"eiha83c3\",\"6i48tyru\",\"v0p28bmn\",\"u0xs5s4g\",\"jkvr9lq2\",\"jyqsua4n\",\"32ozud9i\",\"6pfi2iyv\",\"jpqggedl\",\"kmf4n807\",\"1zfr32pc\",\"9nvwk04v\",\"sclg1i67\",\"wppypbs2\",\"hbppklm5\",\"f44l8uso\",\"6kk5qrwl\",\"kaoc8qgj\",\"8segpu36\",\"t44kfcyy\",\"6ypvcpfn\",\"0buk6g25\",\"zbmzjsvs\",\"4wbc1a8m\",\"mh8rgbo1\",\"dlf4n4sb\",\"y1o1ibjp\",\"xmizaepo\",\"0qwwycnc\",\"ddj8p2f9\",\"fl56722r\",\"bfzfjsz4\",\"vntbe3or\",\"yxi3g1db\",\"4ligp4ak\",\"4nua97cr\",\"d4k7yfxx\",\"79gpzbgq\",\"kjdcg8nz\",\"k4djbs6j\",\"9joa55dj\",\"icc7olga\",\"0il8lxd5\",\"pby3i6wq\",\"k5n1sj0t\",\"iik3mpmw\",\"vvgs8c7j\",\"g431q2ai\",\"5xeq4hn7\",\"2deh6a8a\",\"1a7m7vr4\",\"tcdlkmn9\",\"elmknafa\",\"y6rfq2mx\",\"3zmkeg18\",\"xjcgyy70\",\"drf1gkbi\",\"9dcs0ew7\",\"sep9mdix\",\"r3krlegp\",\"sxsuwvt5\",\"p3fi4yej\",\"7jwlxj7y\",\"tn5zhqc4\",\"bpw2m5fb\",\"o1f398vn\",\"jgdnfujz\",\"uv6pw3ga\",\"z7sscdo4\",\"pamcpi8n\",\"ipcvepia\",\"fn22t0lf\",\"vdxdvuec\",\"mmarbtt5\",\"c4pt07zk\",\"hia1me9i\",\"4nd4viix\",\"rnvu585g\",\"c29tsucn\",\"dx3ib83i\",\"pqr593us\",\"y7jgjera\",\"grhmr3lr\",\"9qtcytpn\",\"ed7833il\",\"qsy2kex1\",\"wzh1ujoh\",\"l7r6i3aj\",\"lo9cmpgx\",\"r2c2p4pa\",\"z1cbwovm\",\"glpvc0mp\",\"27t269pd\",\"3stjueja\",\"iuw642nh\",\"zr21ba5s\",\"dxfyfhnd\",\"wzfvqj6m\",\"wb150n8w\",\"zbkukpdc\",\"bg7w7d1f\",\"oc9x1ety\",\"uyyd1m1p\",\"f7mdsbkp\",\"n2wz9zpi\",\"p0own0q8\",\"0591zxc7\",\"ltusjaru\",\"vfn6280y\",\"aaf4ns12\",\"g8h6cpzr\",\"klaztx9e\",\"aj1j92xl\",\"1ozoczyq\",\"fh0v6jno\",\"8m0vyxq8\",\"3xy07mdf\",\"b63fd0oh\",\"j9pw7i24\",\"dm9nefdg\",\"kfjfhe1g\",\"9jesbi9c\",\"rd39mgpd\",\"ht667rz8\",\"4vwtnp2m\",\"n83osd2y\",\"cz7urmiv\",\"4ceo2gjy\",\"o9az7671\",\"9atdky9h\",\"lhrysb9l\",\"8ufzonv2\",\"rcq0eaei\",\"2jn2o7z3\",\"1xuqxcje\",\"pe0lpi5d\",\"apgh3j3r\",\"bdkwgo57\",\"jhh3m6tq\",\"aimm65cr\",\"gw2p27rc\",\"tdxtccle\",\"1n998win\",\"b3u7nlx6\",\"d8uqq9rz\",\"bh6h694q\",\"8azab9g9\",\"lhtwe6c7\",\"mahp1wkn\",\"xhag4l1a\",\"k1fdhqip\",\"ei768v4s\",\"pi8tit7q\",\"z9zdmi1q\",\"xhf8yg6o\",\"x738yj4w\",\"bq1p0im9\",\"cwqc3bk3\",\"jamd5ubd\",\"hqw24k19\",\"iirzafjj\",\"2383gpsi\",\"1at4p7go\",\"d2b43gpe\",\"sqxlnk9e\",\"84hh0mg9\",\"4lfbsbem\",\"rzvws6op\",\"6nkm9wds\",\"u4bjexds\",\"bsqpkjcj\",\"7mcin9ib\",\"a9xmkqyt\",\"3cqifh4c\",\"anx839hm\",\"l0pxv2sj\",\"k1sw78bl\",\"mih7vm66\",\"e7xymovf\",\"eesxyaks\",\"hsnonydr\",\"vmyuajo3\",\"yb29p9yw\",\"rf25s2lh\",\"jhcc6eex\",\"7s3vf0fp\",\"0xjr7e75\",\"3xpu1x9h\",\"4q2olzx1\",\"zptie8em\",\"u856vml7\",\"dpbcqpvn\",\"lw1eycoe\",\"qbxx6yae\",\"slo1foi0\",\"jbjn89jc\",\"9jdfp9y3\",\"1hr9idks\",\"zsbbbhzq\",\"7sksaucy\",\"sc60yp11\",\"q82gkygd\",\"x5l90w7q\",\"2ux95pan\",\"97112xbt\",\"u7ecz088\",\"dpjwsitn\",\"bus1nb6t\",\"ahp3voms\",\"khrvvtjj\",\"o5q2mo2x\",\"o3naxonh\",\"l3nsbe7v\",\"t8j38h6x\",\"nw75yxon\",\"4l1z09py\",\"q8igdvq4\",\"o0bkgl5b\",\"vtl3cd1x\",\"hhf53mwj\",\"l973o2u9\",\"gib59wg3\",\"ye15hb3y\",\"3lok3pk8\",\"lruhjss8\",\"k2crv9qb\",\"vm2bxmic\",\"qri8j73v\",\"zcdkohu6\",\"63umnf0b\",\"73l8hzan\",\"jjx8nt8w\",\"ozivguhq\",\"syg6pi3k\",\"wpg8ya7m\",\"ap6jfp22\",\"54ezlbw7\",\"es4dkztf\",\"tvxvm740\",\"mope0b6f\",\"00bt8sws\",\"o1ypuz8y\",\"hppgct8t\",\"k42exwtm\",\"kebu6km8\",\"ftjuqd4d\",\"vc4ow28n\",\"nhsn4cru\",\"x1m3ppvv\",\"6rgyyimp\",\"yqqaeir8\",\"rsmgx2xr\",\"a8153pqt\",\"jfrvvt9q\",\"2amp8332\",\"5u7w66o2\",\"pro5i0xb\",\"wztm0rbx\",\"vn7dvz8l\",\"fkqosv77\",\"6scohb25\",\"ieuic9iw\",\"2vd9drgm\",\"smkpp89u\",\"ruqxe4ep\",\"x4i4nwcf\",\"we5019cs\",\"y4r9nfu9\",\"axdb2znj\",\"go9d6k2o\",\"zfo2tz6m\",\"b82xhp2w\",\"b4ay5vyp\",\"7jv0enw0\",\"rlj1bclg\",\"6ck94kql\",\"lah9mlkq\",\"8d7gjpdx\",\"dgyuwheh\",\"asbdrr15\",\"fifo0fh9\",\"n5mo1es8\",\"x6mqihlw\",\"047sbx0h\",\"6dln5kww\",\"70ghr261\",\"pxcyseps\",\"p4hjjcox\",\"8txb9563\",\"yqezvl5h\",\"96osncbl\",\"es80zkz7\",\"5rcqixpv\",\"zwibzbcz\",\"a4emmc0n\",\"xvqsh0vl\",\"zo4w49ra\",\"zxqefqge\",\"lkgcxjya\",\"hsbbr5x4\",\"hupe4nau\",\"jdm4g9i1\",\"oeuvelb1\",\"sqwa4ct9\",\"i4hyzqcv\",\"k418ydb7\",\"3vthgenz\",\"qi50p9w5\",\"ncvaweg2\",\"q0f8tnfk\",\"bgyekyxe\",\"gm9564re\",\"g5ywwrdk\",\"ter67nri\",\"yjcd7map\",\"qsyks752\",\"acezfx3o\",\"lty6cfh9\",\"k2kxy525\",\"64twxus2\",\"i51p8jt8\",\"y1tatvri\",\"xry3nhzt\",\"gnobarzh\",\"3v64a4ei\",\"vtlvukd8\",\"7ttu0oir\",\"tz8gzdar\",\"qmp2tqtb\",\"qqitdrz6\",\"jb0e7fmv\",\"2a11n8rm\",\"60wwdokb\",\"i351ab0t\",\"u507i0t0\",\"2527qek2\",\"z8hq8apc\",\"cfvs8xea\",\"9wqag2p2\",\"kxtxzt9f\",\"mez1k8t0\",\"ngmrxv9a\",\"ahxnhutv\",\"e448z98x\",\"r24lvhvs\",\"tx68v7dq\",\"5qlpmofl\",\"y8nabgju\",\"5b38y993\",\"52xccwpq\",\"sp22v8fv\",\"e437544m\",\"y8ejho5n\",\"lfgrxskl\",\"xrk8nsxl\",\"zopefb64\",\"pezhf982\",\"pva22xy7\",\"0vlgfbar\",\"s2qfyeni\",\"e92omqyr\",\"cq276tj8\",\"f89ybgux\",\"ve83421h\",\"lkh6clhe\",\"vxddnf0j\",\"di95eoks\",\"xapokjgd\",\"s0jqtobp\",\"02qeuk6z\",\"tdzxgklk\",\"3rpbltd4\",\"x9qxnybj\",\"ou7o700t\",\"m325urls\",\"52py42a8\",\"p32ornrf\",\"8sz9ut90\",\"su8s56qs\",\"y0bk8d12\",\"lv1gur7o\",\"odbbgven\",\"h1jwf55m\",\"tn8cdap5\",\"pfzklmyw\",\"99ak2cum\",\"rl97yez3\",\"lvs83293\",\"posnrpd7\",\"st0c00dl\",\"tj7z3ocr\",\"i1mu2fmt\",\"zgupg04a\",\"xb4l8nzy\",\"g7cqx652\",\"l7hdrmbf\",\"u46nul6q\",\"po5iea2p\",\"gfcbwsch\",\"q9y8mtvr\",\"agk7v67l\",\"jfbwmx6g\",\"ojva6axp\",\"orrq2wsn\",\"ldt3r9vu\",\"y1y1b9nz\",\"wx2gd9rk\",\"cztzh3xb\",\"umhj7nk7\",\"hhuoz3eu\",\"o0yxnzzv\",\"d6nwum75\",\"dsjp77w3\",\"rxxysw8j\",\"5f5g9heu\",\"0t5cvl4n\",\"ojtmc3z6\",\"8zllndmt\",\"dobqll92\",\"45mb1flv\",\"e2vz6pgr\",\"pmgvocmm\",\"jl9ks2r7\",\"mo23ny3q\",\"jt4rbxyv\",\"ecg9z64l\",\"lrc0i6nz\",\"2ly18d15\",\"m3npy0om\",\"ez7fcgi2\",\"ptqm7ch4\",\"2n3cdspj\",\"2vcppxxi\",\"pss7uoo6\",\"esu9ltjr\",\"nymzs53b\",\"6ki3xeh0\",\"f4qljghz\",\"feu1xim7\",\"plqu8e1p\",\"69onivue\",\"ahyyzgyr\",\"legrxau9\",\"rylw6h76\",\"o2i2rtbk\",\"cbtiwvir\",\"wdwnafta\",\"g5vrnn8v\",\"i7j15rxy\",\"fvc7hfhg\",\"ky8ow03i\",\"3tna1y5o\",\"swztumq2\",\"2pig43au\",\"3rqes73z\",\"3fawqx0h\",\"wxxr9x0c\",\"mx4t6s6n\",\"obmilxeo\",\"pnlebw21\",\"akny0cdq\",\"fxfv04rk\",\"9r60pgqv\",\"r14dwzmz\",\"nmolo7rt\",\"n4p1nyvk\",\"5cwp2rz0\",\"v3c8kbad\",\"nasxig40\",\"5m4ybd1v\",\"gy6w1852\",\"z03x2j50\",\"ja0wyr5w\",\"74i2i881\",\"tl74mnup\",\"q73o1sns\",\"jvood8ur\",\"83cg8n3o\",\"wjfzoud8\",\"xlipqebb\",\"xb4ex1at\",\"j6rm6mjh\",\"frkjteja\",\"sr9s4vcm\",\"g1lyotkd\",\"akf6jgzk\",\"5beiw78k\",\"6ubfz738\",\"gejfo8q3\",\"a21da3iq\",\"7e4xfg6s\",\"qu185fb7\",\"cqqpvn1q\",\"mp57cboi\",\"y3vbl1zd\",\"vy8ge7j0\",\"qp2gtztm\",\"k3una3a3\",\"5nsnvjah\",\"jd5xhde0\",\"cd5yoh0l\",\"ar5y2k1k\",\"n2slr538\",\"0mncitnr\",\"epk052dg\",\"evmod183\",\"pk4awfdc\",\"d02w7dwj\",\"l32r45db\",\"ecz72jvw\",\"7fzbbn99\",\"36hyr5g3\",\"aok66gvu\",\"8dudd4z3\",\"7q0vqcwc\",\"aiozhs0g\",\"fhgcnq80\",\"81u3wcg7\",\"zjv6gmul\",\"am315t13\",\"93pqvwaz\",\"f4144yy4\",\"yx1b3hn1\",\"6jaxnczw\",\"oa5pd9b0\",\"xy448m9j\",\"tidgjjtt\",\"slrlntm5\",\"j2tyjo1j\",\"dund6unq\",\"4j7k0261\",\"ow7xjkl6\",\"r7stci3g\",\"90a8bti0\",\"3d2fjqax\",\"d5u6n939\",\"9llh7dlv\",\"ij6hx3w8\",\"qp73f7or\",\"ynze6yaz\",\"o8df8szx\",\"p8ckcvyj\",\"7lcqf9up\",\"y4h95kb4\",\"4stgytj8\",\"o5enj60s\",\"lfufoa14\",\"ukosdnsa\",\"9j8td8ej\",\"y2vhh6oq\",\"6ol5dltp\",\"49x7ab49\",\"50cuynhl\",\"b5g2cqsh\",\"9h5fq1q8\",\"vgz84q1n\",\"w12mmal3\",\"xolgcpzw\",\"gu7aj6vi\",\"en413zlr\",\"gggh8k6r\",\"r2yk4khw\",\"mmtzo2ej\",\"g337balm\",\"h43u57hd\",\"eon1tzhe\",\"zh1j0kpj\",\"gmmgvhl5\",\"o5y8bad0\",\"xxu5e5t1\",\"uelb7fxj\",\"tzgv7ii2\",\"2x7l1s75\",\"mk43ns6f\",\"s6x4427u\",\"dhwwhsgb\",\"49r5qks2\",\"d1616wi2\",\"0wv2f6r2\",\"3i2ujc4n\",\"qg3jxgch\",\"1mcvja49\",\"4rne67ia\",\"ig9wzy86\",\"w7c64zb8\",\"5j9xc3ws\",\"w0nuhign\",\"6s4dxhtm\",\"pzycilw2\",\"w2fuikco\",\"6sroy43r\",\"ta790jyx\",\"5khtodcw\",\"pe8yscu3\",\"4fdupr3p\",\"on4q5xol\",\"46evycyn\",\"2514emrh\",\"xgwmda8e\",\"195wbo3e\",\"czapcds8\",\"s4jljpgb\",\"3sv4nfge\",\"ts2tsua7\",\"eldbt0xq\",\"um2mh42t\",\"dopd54p2\",\"2fa4bc60\",\"6u5vju2h\",\"2dwjnk4b\",\"27ikx97x\",\"s40dd1x2\",\"5aiwhvsv\",\"3iquubo3\",\"3pp8j08y\",\"7y1la856\",\"v1411wf2\",\"5m3r848s\",\"po8rq6y6\",\"wy4hulfl\",\"7hdnfxm3\",\"q0x0e1jj\",\"wcmlww59\",\"424zy24c\",\"sstpidvk\",\"yw3jei78\",\"myzej452\",\"ndnmy1y3\",\"67v7u0yw\",\"85oy08rx\",\"0jas61ha\",\"2hh87kav\",\"48wy2iqx\",\"k3luljac\",\"j8ujufk4\",\"6yb8k1gq\",\"5auy4a8y\",\"031cjj2y\",\"2j6a8agx\",\"fnmceian\",\"p8nrlxu7\",\"ogtxtx9z\",\"msl6juru\",\"wvsrpgg4\",\"yjcd5nb5\",\"88dqqm3l\",\"reyx4bxp\",\"6nshel2s\",\"jinv0qe1\",\"jwt9zn4x\",\"ntakqxgd\",\"diklbry4\",\"ydtgid63\",\"c0rrvyed\",\"ynel6ore\",\"1uwyrst6\",\"01tf96ti\",\"0ec1cu8q\",\"fo4235me\",\"00s2pabm\",\"j168eoyw\",\"rjrx6saw\",\"an105nip\",\"n6kemt0x\",\"dlld5f3e\",\"12jcdm2x\",\"xuxps9v5\",\"1zadvkkp\",\"3idso8mu\",\"gt6icwul\",\"qxqo23i9\",\"29hzhumk\",\"6s8aayv9\",\"6khytngb\",\"hft57q1p\",\"8xsmhp9l\",\"6160yfqp\",\"h44p8q29\",\"fr9tbswm\",\"jhkc8of3\",\"rcbvgv3t\",\"7bkkeigh\",\"uy4jyrub\",\"0q6t89zi\",\"feaxla0o\",\"p0vpvc71\",\"gca7cqbe\",\"oqrgs2gp\",\"caxp8033\",\"gnzau8uj\",\"7nkmkmzc\",\"3ozef29x\",\"aans2v07\",\"hade8d47\",\"74qx58pt\",\"5498u9aq\",\"pg7nha0j\",\"qjj1v441\",\"aks5z29t\",\"o56coj10\",\"fdbx68i6\",\"firkmdhv\",\"pvwypb1y\",\"udndtmqj\",\"8ibbhkvu\",\"xo0cs4fd\",\"8mddlgud\",\"4msglase\",\"y00pz4fd\",\"86vu0kjm\",\"42v9n5vb\",\"8xuy7k2x\",\"53shjc95\",\"etaa9a1v\",\"7dn1v8ra\",\"z6b4vgra\",\"b6iyk514\",\"pe5isbbb\",\"o51vlxoh\",\"v662o7a8\",\"ofqay81v\",\"9l4kdhoe\",\"6imtokit\",\"f6fgw1uk\",\"3sqp13p9\",\"zfcdpacg\",\"l9yhxpbj\",\"bm4v1fhs\",\"uq8b35qb\",\"mzrwxs8f\",\"jcw8mpis\",\"cqmqwl3i\",\"ikincvfa\",\"mhqz3sfo\",\"d28zhp7e\"]}\n"
          ]
        }
      ]
    },
    {
      "cell_type": "markdown",
      "source": [
        "This json file will be manually downloaded and uploaded to HuggingFaceHub."
      ],
      "metadata": {
        "id": "7JRFg2mYp6Np"
      }
    },
    {
      "cell_type": "markdown",
      "source": [
        "Sending data to GCP:"
      ],
      "metadata": {
        "id": "SCqRERuTp0LL"
      }
    },
    {
      "cell_type": "code",
      "source": [
        "!gsutil -m rsync -r aula08-inpars/ gs://aula08-inpars/"
      ],
      "metadata": {
        "colab": {
          "base_uri": "https://localhost:8080/"
        },
        "id": "k54RYG7np1MT",
        "outputId": "78c2cd44-4c45-4314-a1ca-9dbea055ed53"
      },
      "execution_count": 273,
      "outputs": [
        {
          "output_type": "stream",
          "name": "stdout",
          "text": [
            "Building synchronization state...\n",
            "Starting synchronization...\n",
            "Copying file://aula08-inpars/synthetic-data-generation/df_queries_v1.arrow [Content-Type=application/octet-stream]...\n",
            "Copying file://aula08-inpars/synthetic-data-generation/marcospiau_1k_v1.jsonl [Content-Type=application/octet-stream]...\n",
            "- [2/2 files][ 26.2 MiB/ 26.2 MiB] 100% Done                                    \n",
            "Operation completed over 2 objects/26.2 MiB.                                     \n"
          ]
        }
      ]
    }
  ]
}